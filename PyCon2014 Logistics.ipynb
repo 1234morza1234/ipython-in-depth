{
 "cells": [
  {
   "cell_type": "markdown",
   "metadata": {},
   "source": [
    "# Logistics for the PyCon 2014 edition\n",
    "\n",
    "## The morning break is at 10:15 a.m.\n",
    "\n",
    "## Remember to Ask for Evaluations\n",
    "\n",
    "## The PyCon 2014 Tutorial Survey, at the end of the session\n",
    "\n",
    "Here are two valid URLs for the survey:\n",
    "\n",
    "* https://www.surveymonkey.com/s/pycon2014_tutorials\n",
    "* http://goo.gl/Ppq8yR"
   ]
  }
 ],
 "metadata": {},
 "nbformat": 4,
 "nbformat_minor": 0
}