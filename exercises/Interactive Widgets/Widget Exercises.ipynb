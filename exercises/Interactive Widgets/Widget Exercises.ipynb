{
 "cells": [
  {
   "cell_type": "markdown",
   "metadata": {},
   "source": [
    "# Widget Exercises"
   ]
  },
  {
   "cell_type": "markdown",
   "metadata": {},
   "source": [
    "## Widget basics"
   ]
  },
  {
   "cell_type": "markdown",
   "metadata": {},
   "source": [
    "### Displaying a widget\n",
    "Create and display a `TextWidget`.  Change that widget's `value` and some of it's other properties.  Discover the other properties by querying the `keys` property of the instance.  \n",
    "\n",
    "*Hint: You'll need to import from IPython.html.widgets and IPython.display.*"
   ]
  },
  {
   "cell_type": "code",
   "execution_count": 1,
   "metadata": {
    "collapsed": false
   },
   "outputs": [],
   "source": [
    "%load soln/displaying.py"
   ]
  },
  {
   "cell_type": "markdown",
   "metadata": {},
   "source": [
    "## Widget list"
   ]
  },
  {
   "cell_type": "markdown",
   "metadata": {},
   "source": [
    "### Selection widget"
   ]
  },
  {
   "cell_type": "markdown",
   "metadata": {},
   "source": [
    "Create and display one of the selection widgets (dropdown, select, radiobuttons, or togglebuttons).  Use the dictionary syntax to set the list of possible values.  The values should be \"Left\" = 0, \"Center\" = 1, and \"Right\" = 2.  Try reading and setting the value programmatically."
   ]
  },
  {
   "cell_type": "code",
   "execution_count": 3,
   "metadata": {
    "collapsed": false
   },
   "outputs": [],
   "source": [
    "%load soln/selection.py"
   ]
  },
  {
   "cell_type": "markdown",
   "metadata": {},
   "source": [
    "### Link"
   ]
  },
  {
   "cell_type": "markdown",
   "metadata": {},
   "source": [
    "Use a link to link the values of a `TextareaWidget` and, an `HTMLWidget` or a `LatexWidget`.  Display the widgets and try typing Latex and HTML in the textarea.  \n",
    "\n",
    "*Hint: Look at the Widget Basics notebook for an example of how to use link.*"
   ]
  },
  {
   "cell_type": "code",
   "execution_count": 5,
   "metadata": {
    "collapsed": false
   },
   "outputs": [],
   "source": [
    "%load soln/link.py"
   ]
  },
  {
   "cell_type": "markdown",
   "metadata": {},
   "source": [
    "## Widget events"
   ]
  },
  {
   "cell_type": "markdown",
   "metadata": {},
   "source": [
    "### on_submit event"
   ]
  },
  {
   "cell_type": "markdown",
   "metadata": {},
   "source": [
    "Create and display a `TextWidget`.  Use the `on_submit` event to print the value of the textbox just before you clear the textbox.  \n",
    "\n",
    "*Hint: The `on_submit` callback must accept one argument, the `sender`.*"
   ]
  },
  {
   "cell_type": "code",
   "execution_count": 9,
   "metadata": {
    "collapsed": false
   },
   "outputs": [],
   "source": [
    "%load soln/on_submit.py"
   ]
  },
  {
   "cell_type": "markdown",
   "metadata": {},
   "source": [
    "### on_trait_change event"
   ]
  },
  {
   "cell_type": "markdown",
   "metadata": {},
   "source": [
    "Create and display a `TextWidget`.  Use the `on_trait_change` method to register a callback that prints the value of the textbox without clearing it.  Observe the difference in behavior to Exercise 1."
   ]
  },
  {
   "cell_type": "code",
   "execution_count": 11,
   "metadata": {
    "collapsed": false
   },
   "outputs": [],
   "source": [
    "%load soln/on_trait_change.py"
   ]
  },
  {
   "cell_type": "markdown",
   "metadata": {},
   "source": [
    "## Widget styling"
   ]
  },
  {
   "cell_type": "markdown",
   "metadata": {},
   "source": [
    "### Colored text"
   ]
  },
  {
   "cell_type": "markdown",
   "metadata": {},
   "source": [
    "Create and display an `HTMLWidget` with a value of your choice (i.e. \"Hello World\").  Use `set_css` to change that widget's background color and font color."
   ]
  },
  {
   "cell_type": "code",
   "execution_count": 13,
   "metadata": {
    "collapsed": false
   },
   "outputs": [],
   "source": [
    "%load soln/colored.py"
   ]
  },
  {
   "cell_type": "markdown",
   "metadata": {},
   "source": [
    "### Vertical sliders"
   ]
  },
  {
   "cell_type": "markdown",
   "metadata": {},
   "source": [
    "Create an array of 10 or more vertical sliders.  Align the sliders using a container so they look like an equalizer.  \n",
    "\n",
    "*Hint: Refer to the Widget List notebook for an example of how to display a vertical slider.*"
   ]
  },
  {
   "cell_type": "code",
   "execution_count": 15,
   "metadata": {
    "collapsed": false
   },
   "outputs": [],
   "source": [
    "%loadpy soln/sliders.py"
   ]
  }
 ],
 "metadata": {},
 "nbformat": 4,
 "nbformat_minor": 0
}