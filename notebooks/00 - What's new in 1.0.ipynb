{
 "metadata": {
  "name": ""
 },
 "nbformat": 3,
 "nbformat_minor": 0,
 "worksheets": [
  {
   "cells": [
    {
     "cell_type": "markdown",
     "metadata": {},
     "source": [
      "# An overview of what's new in IPython 1.0"
     ]
    },
    {
     "cell_type": "heading",
     "level": 2,
     "metadata": {},
     "source": [
      "`%matplotlib`"
     ]
    },
    {
     "cell_type": "markdown",
     "metadata": {},
     "source": [
      "After many years of `%pylab`, the community has repeatedly found that the `%pylab` magic does too many things.\n",
      "In particular, it imported a bunch of things into the user's namespace, hiding where functionality comes from.\n",
      "\n",
      "For the future, we now recommend using `%matplotlib` to hook up matplotlib machinery,\n",
      "and always using explicit imports:"
     ]
    },
    {
     "cell_type": "code",
     "collapsed": false,
     "input": [
      "%matplotlib inline"
     ],
     "language": "python",
     "metadata": {},
     "outputs": []
    },
    {
     "cell_type": "code",
     "collapsed": false,
     "input": [
      "import matplotlib.pyplot as plt\n",
      "import numpy as np\n",
      "plt.plot(np.sin(np.linspace(0,10)))"
     ],
     "language": "python",
     "metadata": {},
     "outputs": []
    },
    {
     "cell_type": "markdown",
     "metadata": {},
     "source": [
      "For backward-compatiblity, `%pylab` is not going away,\n",
      "but we don't recommend using it for instruction.\n",
      "It now includes a message about what it does:"
     ]
    },
    {
     "cell_type": "code",
     "collapsed": false,
     "input": [
      "%pylab inline"
     ],
     "language": "python",
     "metadata": {},
     "outputs": []
    },
    {
     "cell_type": "heading",
     "level": 2,
     "metadata": {},
     "source": [
      "`raw_input`"
     ]
    },
    {
     "cell_type": "markdown",
     "metadata": {},
     "source": [
      "One of the major missing features in the notebook prior to 1.0 is the lack of `raw_input` support.\n",
      "This has been remedied"
     ]
    },
    {
     "cell_type": "code",
     "collapsed": false,
     "input": [
      "answer = raw_input(\"What is your favourite colour? \")\n",
      "answer"
     ],
     "language": "python",
     "metadata": {},
     "outputs": []
    },
    {
     "cell_type": "markdown",
     "metadata": {},
     "source": [
      "Having `raw_input` support means that all kinds of things based on raw_input now work, such as `%debug`"
     ]
    },
    {
     "cell_type": "code",
     "collapsed": false,
     "input": [
      "def foo(x):\n",
      "    return 1/x\n",
      "\n",
      "def bar(y):\n",
      "    return foo(1-y)\n",
      "\n",
      "bar(1)"
     ],
     "language": "python",
     "metadata": {},
     "outputs": []
    },
    {
     "cell_type": "code",
     "collapsed": false,
     "input": [
      "%debug"
     ],
     "language": "python",
     "metadata": {},
     "outputs": []
    },
    {
     "cell_type": "heading",
     "level": 2,
     "metadata": {},
     "source": [
      "Autosave"
     ]
    },
    {
     "cell_type": "markdown",
     "metadata": {},
     "source": [
      "As of 1.0, IPython notebooks are autosaved at a frequency of approximately two minutes.\n",
      "\n",
      "You can change this frequency with the `%autosave` magic:"
     ]
    },
    {
     "cell_type": "code",
     "collapsed": false,
     "input": [
      "%autosave?"
     ],
     "language": "python",
     "metadata": {},
     "outputs": []
    },
    {
     "cell_type": "code",
     "collapsed": false,
     "input": [
      "%autosave 0"
     ],
     "language": "python",
     "metadata": {},
     "outputs": []
    },
    {
     "cell_type": "code",
     "collapsed": false,
     "input": [
      "%autosave 300"
     ],
     "language": "python",
     "metadata": {},
     "outputs": []
    },
    {
     "cell_type": "markdown",
     "metadata": {},
     "source": [
      "If you save manually, IPython creates a **checkpoint** to which you can revert at a later time,\n",
      "so that autosave won't result in overwriting unwanted changes.\n",
      "In this way, autosave is *strictly safer* than the previous behavior in terms of data loss - manually saved state will never be lost due to autosave."
     ]
    },
    {
     "cell_type": "heading",
     "level": 2,
     "metadata": {},
     "source": [
      "New cell magics"
     ]
    },
    {
     "cell_type": "markdown",
     "metadata": {},
     "source": [
      "We have added a few cell magics for raw display data.\n",
      "There is one for each basic display type:"
     ]
    },
    {
     "cell_type": "code",
     "collapsed": false,
     "input": [
      "%%html\n",
      "\n",
      "<audio controls height=\"100\" width=\"100\">\n",
      "  <source src=\"files/data/wilhelm.mp3\" type=\"audio/mpeg\">\n",
      "  <source src=\"files/data/wilhelm.ogg\" type=\"audio/ogg\">\n",
      "  <embed height=\"50\" width=\"100\" src=\"files/data/wilhelm.mp3\">\n",
      "</audio>"
     ],
     "language": "python",
     "metadata": {},
     "outputs": []
    },
    {
     "cell_type": "code",
     "collapsed": false,
     "input": [
      "%%latex\n",
      "\n",
      "\n",
      "\\begin{align}\n",
      "    \\LaTeX \\\\\n",
      "\n",
      "    \\nabla\\cdot{\\bf D} =& \\rho \\\\\n",
      "    \\nabla\\cdot{\\bf B} =& 0 \\\\\n",
      "    \\nabla\\times{\\bf E} =& - {{\\partial{\\bf B}}\\over{\\partial t}} \\\\\n",
      "    \\nabla\\times{\\bf H} =& {\\bf J} + {{\\partial{\\bf D}}\\over{\\partial t}}\n",
      "\n",
      "\\end{align}\n"
     ],
     "language": "python",
     "metadata": {},
     "outputs": []
    },
    {
     "cell_type": "code",
     "collapsed": false,
     "input": [
      "%%javascript\n",
      "\n",
      "IPython.notebook.save_notebook();\n",
      "IPython.notebook.insert_cell_above(\"code\");\n",
      "var cell = IPython.notebook.get_selected_cell();\n",
      "cell.set_text(\"print 'hello'\");\n",
      "alert(\"I created a new cell!\");"
     ],
     "language": "python",
     "metadata": {},
     "outputs": []
    },
    {
     "cell_type": "heading",
     "level": 2,
     "metadata": {},
     "source": [
      "Linking notebooks"
     ]
    },
    {
     "cell_type": "markdown",
     "metadata": {},
     "source": [
      "Heading cells automatically get anchors with their text,\n",
      "so you can link to them:\n",
      "\n",
      "    [like this](#Autosave)\n",
      "\n",
      "[like this](#Autosave)"
     ]
    },
    {
     "cell_type": "markdown",
     "metadata": {},
     "source": [
      "You can also link to headings in other notebooks:\n",
      "\n",
      "    [The EuroSciPy notebook](EuroSciPy.ipynb#The-Team)\n",
      "\n",
      "[The EuroSciPy notebook](EuroSciPy.ipynb#The-Team)"
     ]
    }
   ],
   "metadata": {}
  }
 ]
}