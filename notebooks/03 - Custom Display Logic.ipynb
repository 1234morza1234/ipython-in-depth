{
 "metadata": {
  "name": ""
 },
 "nbformat": 3,
 "nbformat_minor": 0,
 "worksheets": [
  {
   "cells": [
    {
     "cell_type": "heading",
     "level": 1,
     "metadata": {},
     "source": [
      "Defining Custom Display Logic for Your Own Objects"
     ]
    },
    {
     "cell_type": "heading",
     "level": 2,
     "metadata": {},
     "source": [
      "Overview"
     ]
    },
    {
     "cell_type": "markdown",
     "metadata": {},
     "source": [
      "In Python, objects can declare their textual representation using the `__repr__` method.  IPython expands on this idea and allows objects to declare other, richer representations including:\n",
      "\n",
      "* HTML\n",
      "* JSON\n",
      "* PNG\n",
      "* JPEG\n",
      "* SVG\n",
      "* LaTeX\n",
      "\n",
      "This Notebook shows how you can add custom display logic to your own classes, so that they can be displayed using these rich representations. There are two ways of accomplishing this:\n",
      "\n",
      "1. Implementing special display methods such as `_repr_html_`.\n",
      "2. Registering a display function for a particular type.\n",
      "\n",
      "In this Notebook we show how both approaches work."
     ]
    },
    {
     "cell_type": "markdown",
     "metadata": {},
     "source": [
      "Before we get started, we will import the various display functions for displaying the different formats we will create."
     ]
    },
    {
     "cell_type": "code",
     "collapsed": false,
     "input": [
      "from IPython.display import display\n",
      "from IPython.display import (\n",
      "    display_html, display_jpeg, display_png,\n",
      "    display_javascript, display_svg, display_latex\n",
      ")"
     ],
     "language": "python",
     "metadata": {},
     "outputs": [],
     "prompt_number": 1
    },
    {
     "cell_type": "heading",
     "level": 2,
     "metadata": {},
     "source": [
      "Implementing special display methods"
     ]
    },
    {
     "cell_type": "markdown",
     "metadata": {},
     "source": [
      "The main idea of the first approach is that you have to implement special display methods, one for each representation you want to use. Here is a list of the names of the special methods and the values they must return:\n",
      "\n",
      "* _repr_html_: return raw HTML as a string\n",
      "* _repr_json_: return raw JSON as a string\n",
      "* _repr_jpeg_: return raw JPEG data\n",
      "* _repr_png_: return raw PNG data\n",
      "* _repr_svg_: return raw SVG data as a string\n",
      "* _repr_latex_: return LaTeX commands in a string surrounded by \"$\"."
     ]
    },
    {
     "cell_type": "heading",
     "level": 3,
     "metadata": {},
     "source": [
      "Exercise"
     ]
    },
    {
     "cell_type": "markdown",
     "metadata": {},
     "source": [
      "Write a simple `Circle` Python class.  Don't even worry about properties such as radius, position, colors, etc. To help you out use the following representations (remember to wrap them in Python strings):\n",
      "\n",
      "For HTML:\n",
      "\n",
      "    &#x25CB;\n",
      "\n",
      "For SVG:\n",
      "\n",
      "    <svg width=100px height=100px>\n",
      "        <circle cx=\"50\" cy=\"50\" r=\"20\" stroke=\"black\" stroke-width=\"1\" fill=\"white\"/>\n",
      "    </svg>\n",
      "\n",
      "For LaTeX (wrap with `$` and use a raw Python string):\n",
      "\n",
      "    \\bigcirc\n",
      "\n",
      "After you write the class, create an instance and then use `display_html`, `display_svg` and `display_latex` to display those representations"
     ]
    },
    {
     "cell_type": "heading",
     "level": 3,
     "metadata": {},
     "source": [
      "Solution"
     ]
    },
    {
     "cell_type": "markdown",
     "metadata": {},
     "source": [
      "Here is my simple `Circle` class:"
     ]
    },
    {
     "cell_type": "code",
     "collapsed": false,
     "input": [
      "%load soln/mycircle.py"
     ],
     "language": "python",
     "metadata": {},
     "outputs": [],
     "prompt_number": 2
    },
    {
     "cell_type": "code",
     "collapsed": false,
     "input": [
      "class MyCircle(object):\n",
      "    \n",
      "    def _repr_html_(self):\n",
      "        return \"&#x25CB;\"\n",
      "\n",
      "    def _repr_svg_(self):\n",
      "        return \"\"\"<svg width='100px' height='100px'>\n",
      "           <circle cx=\"50\" cy=\"50\" r=\"20\" stroke=\"black\" stroke-width=\"1\" fill=\"white\"/>\n",
      "        </svg>\"\"\"\n",
      "    \n",
      "    def _repr_latex_(self):\n",
      "        return r\"$\\bigcirc$\"\n",
      "\n",
      "    def _repr_javascript_(self):\n",
      "        return \"alert('I am a circle!');\""
     ],
     "language": "python",
     "metadata": {},
     "outputs": [],
     "prompt_number": 2
    },
    {
     "cell_type": "markdown",
     "metadata": {},
     "source": [
      "Now create an instance and use the display methods:"
     ]
    },
    {
     "cell_type": "code",
     "collapsed": false,
     "input": [
      "c = MyCircle()"
     ],
     "language": "python",
     "metadata": {},
     "outputs": [],
     "prompt_number": 3
    },
    {
     "cell_type": "code",
     "collapsed": false,
     "input": [
      "display_html(c)"
     ],
     "language": "python",
     "metadata": {},
     "outputs": [
      {
       "html": [
        "&#x25CB;"
       ],
       "metadata": {},
       "output_type": "display_data"
      }
     ],
     "prompt_number": 4
    },
    {
     "cell_type": "code",
     "collapsed": false,
     "input": [
      "display_svg(c)"
     ],
     "language": "python",
     "metadata": {},
     "outputs": [
      {
       "metadata": {},
       "output_type": "display_data",
       "svg": [
        "<svg width='100px' height='100px'>\n",
        "           <circle cx=\"50\" cy=\"50\" r=\"20\" stroke=\"black\" stroke-width=\"1\" fill=\"white\"/>\n",
        "        </svg>"
       ]
      }
     ],
     "prompt_number": 5
    },
    {
     "cell_type": "code",
     "collapsed": false,
     "input": [
      "display_latex(c)"
     ],
     "language": "python",
     "metadata": {},
     "outputs": [
      {
       "latex": [
        "$\\bigcirc$"
       ],
       "metadata": {},
       "output_type": "display_data"
      }
     ],
     "prompt_number": 6
    },
    {
     "cell_type": "code",
     "collapsed": false,
     "input": [
      "display_javascript(c)"
     ],
     "language": "python",
     "metadata": {},
     "outputs": [
      {
       "javascript": [
        "alert('I am a circle!');"
       ],
       "metadata": {},
       "output_type": "display_data"
      }
     ],
     "prompt_number": 7
    },
    {
     "cell_type": "heading",
     "level": 2,
     "metadata": {},
     "source": [
      "Adding IPython display support to existing objects"
     ]
    },
    {
     "cell_type": "markdown",
     "metadata": {},
     "source": [
      "When you are directly writing your own classes, you can adapt them for display in IPython by following the above example.  But in practice, we often need to work with existing code we can't modify.  We now illustrate how to add these kinds of extended display capabilities to existing objects. To continue with our example above, we will add a PNG representation to our `Circle` class using Matplotlib."
     ]
    },
    {
     "cell_type": "markdown",
     "metadata": {},
     "source": [
      "To add a display method to an existing class, we must use IPython's display formatter API.  Here we show all of the available formatters:"
     ]
    },
    {
     "cell_type": "code",
     "collapsed": false,
     "input": [
      "ip = get_ipython()\n",
      "ip.display_formatter.formatters"
     ],
     "language": "python",
     "metadata": {},
     "outputs": [
      {
       "metadata": {},
       "output_type": "pyout",
       "prompt_number": 8,
       "text": [
        "{u'application/javascript': <IPython.core.formatters.JavascriptFormatter at 0x10c469890>,\n",
        " u'application/json': <IPython.core.formatters.JSONFormatter at 0x10c469850>,\n",
        " u'image/jpeg': <IPython.core.formatters.JPEGFormatter at 0x10c4697d0>,\n",
        " u'image/png': <IPython.core.formatters.PNGFormatter at 0x10c440490>,\n",
        " u'image/svg+xml': <IPython.core.formatters.SVGFormatter at 0x10c440110>,\n",
        " u'text/html': <IPython.core.formatters.HTMLFormatter at 0x10c440050>,\n",
        " u'text/latex': <IPython.core.formatters.LatexFormatter at 0x10c469810>,\n",
        " u'text/plain': <IPython.core.formatters.PlainTextFormatter at 0x10c4318d0>}"
       ]
      }
     ],
     "prompt_number": 8
    },
    {
     "cell_type": "markdown",
     "metadata": {},
     "source": [
      "Let's grab the PNG formatter:"
     ]
    },
    {
     "cell_type": "code",
     "collapsed": false,
     "input": [
      "png_f = ip.display_formatter.formatters['image/png']"
     ],
     "language": "python",
     "metadata": {},
     "outputs": [],
     "prompt_number": 9
    },
    {
     "cell_type": "markdown",
     "metadata": {},
     "source": [
      "We will use the `for_type` method to register our display function."
     ]
    },
    {
     "cell_type": "code",
     "collapsed": false,
     "input": [
      "png_f.for_type?"
     ],
     "language": "python",
     "metadata": {},
     "outputs": [],
     "prompt_number": 10
    },
    {
     "cell_type": "markdown",
     "metadata": {},
     "source": [
      "As the docstring describes, we need to define a function the takes the object as a parameter and returns the raw PNG data."
     ]
    },
    {
     "cell_type": "code",
     "collapsed": false,
     "input": [
      "import pylab"
     ],
     "language": "python",
     "metadata": {},
     "outputs": [],
     "prompt_number": 11
    },
    {
     "cell_type": "code",
     "collapsed": false,
     "input": [
      "from IPython.core.pylabtools import print_figure\n",
      "\n",
      "def png_circle(o):\n",
      "    fig, ax = plt.subplots()\n",
      "    cir = pylab.Circle((0,0), radius=0.75,  fc='w')\n",
      "    ax.add_patch(cir)\n",
      "    axis('scaled')\n",
      "    data = print_figure(fig, 'png')\n",
      "    # We MUST close the figure, otherwise IPython's display machinery\n",
      "    # will pick it up and send it as output, resulting in a double display\n",
      "    plt.close(fig)\n",
      "    return data"
     ],
     "language": "python",
     "metadata": {},
     "outputs": [],
     "prompt_number": 12
    },
    {
     "cell_type": "markdown",
     "metadata": {},
     "source": [
      "Now we register the display function for the type:"
     ]
    },
    {
     "cell_type": "code",
     "collapsed": false,
     "input": [
      "png_f.for_type(MyCircle, png_circle)"
     ],
     "language": "python",
     "metadata": {},
     "outputs": [],
     "prompt_number": 13
    },
    {
     "cell_type": "markdown",
     "metadata": {},
     "source": [
      "Now all `Circle` instances have PNG representations!"
     ]
    },
    {
     "cell_type": "code",
     "collapsed": false,
     "input": [
      "c2 = MyCircle()"
     ],
     "language": "python",
     "metadata": {},
     "outputs": [],
     "prompt_number": 14
    },
    {
     "cell_type": "code",
     "collapsed": false,
     "input": [
      "display_png(c2)"
     ],
     "language": "python",
     "metadata": {},
     "outputs": [
      {
       "metadata": {},
       "output_type": "display_data",
       "png": "[encoded data removed]"
      }
     ],
     "prompt_number": 15
    },
    {
     "cell_type": "heading",
     "level": 3,
     "metadata": {},
     "source": [
      "return the object"
     ]
    },
    {
     "cell_type": "code",
     "collapsed": false,
     "input": [
      "# for demonstration purpose, I do the same wit a circle that has no _repr_javascript method\n",
      "class MyNoJSCircle(object):\n",
      "    \n",
      "    def _repr_html_(self):\n",
      "        return \"&#x25CB;\"\n",
      "\n",
      "    def _repr_svg_(self):\n",
      "        return \"\"\"<svg width='100px' height='100px'>\n",
      "           <circle cx=\"50\" cy=\"50\" r=\"20\" stroke=\"black\" stroke-width=\"1\" fill=\"white\"/>\n",
      "        </svg>\"\"\"\n",
      "    \n",
      "    def _repr_latex_(self):\n",
      "        return r\"$\\bigcirc$\"\n",
      "    \n",
      "png_f.for_type(MyNoJSCircle, png_circle)\n",
      "\n",
      "cNoJs = MyNoJSCircle()"
     ],
     "language": "python",
     "metadata": {},
     "outputs": [],
     "prompt_number": 16
    },
    {
     "cell_type": "markdown",
     "metadata": {},
     "source": [
      "Of course you can now still return the object, and this will use compute all the representations, store them in the notebook and show you the appropriate one."
     ]
    },
    {
     "cell_type": "code",
     "collapsed": false,
     "input": [
      "cNoJs"
     ],
     "language": "python",
     "metadata": {},
     "outputs": [
      {
       "html": [
        "&#x25CB;"
       ],
       "latex": [
        "$\\bigcirc$"
       ],
       "metadata": {},
       "output_type": "pyout",
       "png": "[encoded data removed]",
       "prompt_number": 21,
       "svg": [
        "<svg width='100px' height='100px'>\n",
        "           <circle cx=\"50\" cy=\"50\" r=\"20\" stroke=\"black\" stroke-width=\"1\" fill=\"white\"/>\n",
        "        </svg>"
       ],
       "text": [
        "<__main__.MyNoJSCircle at 0x10c8b1f10>"
       ]
      }
     ],
     "prompt_number": 21
    },
    {
     "cell_type": "markdown",
     "metadata": {},
     "source": [
      "Or just use `display(object)` if you are in a middle of a loop"
     ]
    },
    {
     "cell_type": "code",
     "collapsed": false,
     "input": [
      "display(cNoJs)"
     ],
     "language": "python",
     "metadata": {},
     "outputs": [
      {
       "html": [
        "&#x25CB;"
       ],
       "latex": [
        "$\\bigcirc$"
       ],
       "metadata": {},
       "output_type": "display_data",
       "png": "[encoded data removed]",
       "svg": [
        "<svg width='100px' height='100px'>\n",
        "           <circle cx=\"50\" cy=\"50\" r=\"20\" stroke=\"black\" stroke-width=\"1\" fill=\"white\"/>\n",
        "        </svg>"
       ],
       "text": [
        "<__main__.MyNoJSCircle at 0x10c8b1f10>"
       ]
      }
     ],
     "prompt_number": 22
    },
    {
     "cell_type": "markdown",
     "metadata": {},
     "source": [
      "Advantage of using `display()` versus `display_*()` is that all representation will be stored in the notebook document and notebook file, they are then availlable for other frontends or post-processing tool like `nbconvert`."
     ]
    },
    {
     "cell_type": "markdown",
     "metadata": {},
     "source": [
      "Let's compare `display()` vs `display_html()` for out circle in Notebook Web-app and we'll see later the difference in nbconvert"
     ]
    },
    {
     "cell_type": "code",
     "collapsed": false,
     "input": [
      "print \"I should see a nice html circle in web-app, but\"\n",
      "print \"nothing if the format I'm viewing the notebook in\"\n",
      "print \"does not support html\"\n",
      "display_html(cNoJs)"
     ],
     "language": "python",
     "metadata": {},
     "outputs": [
      {
       "output_type": "stream",
       "stream": "stdout",
       "text": [
        "I should see a nice html circle in web-app, but\n",
        "nothing if the format I'm viewing the notebook in\n",
        "does not support html\n"
       ]
      },
      {
       "html": [
        "&#x25CB;"
       ],
       "metadata": {},
       "output_type": "display_data"
      }
     ],
     "prompt_number": 25
    },
    {
     "cell_type": "code",
     "collapsed": false,
     "input": [
      "print \"Whatever the format I will see a representaiton\"\n",
      "print \"of my circle\"\n",
      "display(cNoJs)"
     ],
     "language": "python",
     "metadata": {},
     "outputs": [
      {
       "output_type": "stream",
       "stream": "stdout",
       "text": [
        "Whatever the format I will see a representaiton\n",
        "of my circle\n"
       ]
      },
      {
       "html": [
        "&#x25CB;"
       ],
       "latex": [
        "$\\bigcirc$"
       ],
       "metadata": {},
       "output_type": "display_data",
       "png": "[encoded data removed]",
       "svg": [
        "<svg width='100px' height='100px'>\n",
        "           <circle cx=\"50\" cy=\"50\" r=\"20\" stroke=\"black\" stroke-width=\"1\" fill=\"white\"/>\n",
        "        </svg>"
       ],
       "text": [
        "<__main__.MyNoJSCircle at 0x10c8b1f10>"
       ]
      }
     ],
     "prompt_number": 26
    },
    {
     "cell_type": "code",
     "collapsed": false,
     "input": [
      "print \"Same if I return the object\"\n",
      "cNoJs"
     ],
     "language": "python",
     "metadata": {},
     "outputs": [
      {
       "output_type": "stream",
       "stream": "stdout",
       "text": [
        "Same if I return the object\n"
       ]
      },
      {
       "html": [
        "&#x25CB;"
       ],
       "latex": [
        "$\\bigcirc$"
       ],
       "metadata": {},
       "output_type": "pyout",
       "png": "[encoded data removed]",
       "prompt_number": 27,
       "svg": [
        "<svg width='100px' height='100px'>\n",
        "           <circle cx=\"50\" cy=\"50\" r=\"20\" stroke=\"black\" stroke-width=\"1\" fill=\"white\"/>\n",
        "        </svg>"
       ],
       "text": [
        "<__main__.MyNoJSCircle at 0x10c8b1f10>"
       ]
      }
     ],
     "prompt_number": 27
    },
    {
     "cell_type": "code",
     "collapsed": false,
     "input": [
      "cNoJs.__repr__()"
     ],
     "language": "python",
     "metadata": {},
     "outputs": [
      {
       "metadata": {},
       "output_type": "pyout",
       "prompt_number": 28,
       "text": [
        "'<__main__.MyNoJSCircle object at 0x10c8b1f10>'"
       ]
      }
     ],
     "prompt_number": 28
    },
    {
     "cell_type": "code",
     "collapsed": false,
     "input": [],
     "language": "python",
     "metadata": {},
     "outputs": []
    }
   ],
   "metadata": {}
  }
 ]
}