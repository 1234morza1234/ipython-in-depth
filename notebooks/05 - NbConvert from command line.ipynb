{
 "metadata": {
  "name": ""
 },
 "nbformat": 3,
 "nbformat_minor": 0,
 "worksheets": [
  {
   "cells": [
    {
     "cell_type": "heading",
     "level": 1,
     "metadata": {},
     "source": [
      "NbConvert"
     ]
    },
    {
     "cell_type": "heading",
     "level": 2,
     "metadata": {},
     "source": [
      "Command line usage"
     ]
    },
    {
     "cell_type": "markdown",
     "metadata": {},
     "source": [
      "`NbConvert` is the library, and the command line tool that allow to convert from notebook to other formats.\n",
      "It is a technological preview in 1.0 but is already usable and highly configurable.\n",
      "It ships already with many default available formats : `html`, `latex`, `markdown`, `python`, `rst` and  `slides`\n",
      "which are fully base on Jinja templating engine, so writing a converter for your custom format or tweeking the existing \n",
      "one should be extra simple."
     ]
    },
    {
     "cell_type": "markdown",
     "metadata": {},
     "source": [
      "You can invoke nbconvert by doing\n",
      "\n",
      "```bash\n",
      "$ ipython nbconvert <options and arguments>\n",
      "```\n",
      "\n",
      "Call `ipython nbconvert` with the `--help` flag or no aruments to get basic help on how to use it.\n",
      "For more information about configuration use the `--help-all` flag"
     ]
    },
    {
     "cell_type": "heading",
     "level": 3,
     "metadata": {},
     "source": [
      "Basic export"
     ]
    },
    {
     "cell_type": "markdown",
     "metadata": {},
     "source": [
      "We will be converting `Custom Display Logic.ipynb`. \n",
      "Be sure to have runed some of the cells in it to have output otherwise you will only see input in nbconvert.\n",
      "Nbconvert **do not execute the code** in the notebook files, it only converts what is inside."
     ]
    },
    {
     "cell_type": "code",
     "collapsed": false,
     "input": [
      "%%bash\n",
      "ipython nbconvert  '04 - Custom Display Logic.ipynb'"
     ],
     "language": "python",
     "metadata": {},
     "outputs": [
      {
       "output_type": "stream",
       "stream": "stderr",
       "text": [
        "[NbConvertApp] Using existing profile dir: u'/Users/bussonniermatthias/.ipython/profile_default'\n",
        "[NbConvertApp] Converting notebook 04 - Custom Display Logic.ipynb to html\n",
        "[NbConvertApp] Support files will be in 04 - Custom Display Logic_files/\n",
        "[NbConvertApp] Loaded template html_full.tpl\n",
        "[NbConvertApp] Writing 214122 bytes to 04 - Custom Display Logic.html\n"
       ]
      }
     ],
     "prompt_number": 1
    },
    {
     "cell_type": "markdown",
     "metadata": {},
     "source": [
      "Html is the default value (that can be configured) , so the verbose form would be "
     ]
    },
    {
     "cell_type": "code",
     "collapsed": false,
     "input": [
      "%%bash\n",
      "ipython nbconvert  --to=html '04 - Custom Display Logic.ipynb'"
     ],
     "language": "python",
     "metadata": {},
     "outputs": [
      {
       "output_type": "stream",
       "stream": "stderr",
       "text": [
        "[NbConvertApp] Using existing profile dir: u'/Users/bussonniermatthias/.ipython/profile_default'\n",
        "[NbConvertApp] Converting notebook 04 - Custom Display Logic.ipynb to html\n",
        "[NbConvertApp] Support files will be in 04 - Custom Display Logic_files/\n",
        "[NbConvertApp] Loaded template html_full.tpl\n",
        "[NbConvertApp] Writing 214122 bytes to 04 - Custom Display Logic.html\n"
       ]
      }
     ],
     "prompt_number": 2
    },
    {
     "cell_type": "markdown",
     "metadata": {},
     "source": [
      "You can also convert to latex, which will take care of extractin the embeded base64 encoded png, or the svg and call inkscape to convert those svg to pdf if necessary :"
     ]
    },
    {
     "cell_type": "code",
     "collapsed": false,
     "input": [
      "%%bash\n",
      "ipython nbconvert  --to=latex 'Custom Display Logic.ipynb'"
     ],
     "language": "python",
     "metadata": {},
     "outputs": [
      {
       "output_type": "stream",
       "stream": "stdout",
       "text": [
        "This application is used to convert notebook files (*.ipynb) to various other\n",
        "formats.\n",
        "\n",
        "WARNING: THE COMMANDLINE INTERFACE MAY CHANGE IN FUTURE RELEASES.\n",
        "\n",
        "Options\n",
        "-------\n",
        "\n",
        "Arguments that take values are actually convenience aliases to full\n",
        "Configurables, whose aliases are listed on the help line. For more information\n",
        "on full configurables, see '--help-all'.\n",
        "\n",
        "--debug\n",
        "    set log level to logging.DEBUG (maximize logging output)\n",
        "--init\n",
        "    Initialize profile with default config files.  This is equivalent\n",
        "    to running `ipython profile create <profile>` prior to startup.\n",
        "--quiet\n",
        "    set log level to logging.CRITICAL (minimize logging output)\n",
        "--stdout\n",
        "    Write notebook output to stdout instead of files.\n",
        "--profile=<Unicode> (BaseIPythonApplication.profile)\n",
        "    Default: u'default'\n",
        "    The IPython profile to use.\n",
        "--writer=<DottedObjectName> (NbConvertApp.writer_class)\n",
        "    Default: 'FilesWriter'\n",
        "    Writer class used to write the  results of the conversion\n",
        "--ipython-dir=<Unicode> (BaseIPythonApplication.ipython_dir)\n",
        "    Default: u'/Users/bussonniermatthias/.ipython'\n",
        "    The name of the IPython directory. This directory is used for logging\n",
        "    configuration (through profiles), history storage, etc. The default is\n",
        "    usually $HOME/.ipython. This options can also be specified through the\n",
        "    environment variable IPYTHONDIR.\n",
        "--notebooks=<List> (NbConvertApp.notebooks)\n",
        "    Default: []\n",
        "    List of notebooks to convert. Wildcards are supported. Filenames passed\n",
        "    positionally will be added to the list.\n",
        "--log-level=<Enum> (Application.log_level)\n",
        "    Default: 30\n",
        "    Choices: (0, 10, 20, 30, 40, 50, 'DEBUG', 'INFO', 'WARN', 'ERROR', 'CRITICAL')\n",
        "    Set the log level by value or name.\n",
        "--to=<CaselessStrEnum> (NbConvertApp.export_format)\n",
        "    Default: 'html'\n",
        "    Choices: ['custom', 'html', 'latex', 'markdown', 'python', 'rst', 'slides']\n",
        "    The export format to be used.\n",
        "--template=<Unicode> (Exporter.template_file)\n",
        "    Default: u'default'\n",
        "    Name of the template file to use\n",
        "--output=<Unicode> (NbConvertApp.output_base)\n",
        "    Default: ''\n",
        "    overwrite base name use for output files. can only  be use when converting\n",
        "    one notebook at a time.\n",
        "--post=<DottedOrNone> (NbConvertApp.post_processor_class)\n",
        "    Default: u''\n",
        "    PostProcessor class used to write the  results of the conversion\n",
        "--config=<Unicode> (BaseIPythonApplication.extra_config_file)\n",
        "    Default: u''\n",
        "    Path to an extra config file to load.\n",
        "    If specified, load this config file in addition to any other IPython config.\n",
        "\n",
        "To see all available configurables, use `--help-all`\n",
        "\n",
        "Examples\n",
        "--------\n",
        "\n",
        "    The simplest way to use nbconvert is\n",
        "    \n",
        "    > ipython nbconvert mynotebook.ipynb\n",
        "    \n",
        "    which will convert mynotebook.ipynb to the default format (probably HTML).\n",
        "    \n",
        "    You can specify the export format with `--to`.\n",
        "    Options include ['custom', 'html', 'latex', 'markdown', 'python', 'rst', 'slides']\n",
        "    \n",
        "    > ipython nbconvert --to latex mynotebook.ipnynb\n",
        "    \n",
        "    Both HTML and LaTeX support multiple output templates. LaTeX includes\n",
        "    'basic', 'book', and 'article'.  HTML includes 'basic' and 'full'.  You \n",
        "    can specify the flavor of the format used.\n",
        "    \n",
        "    > ipython nbconvert --to html --template basic mynotebook.ipynb\n",
        "    \n",
        "    You can also pipe the output to stdout, rather than a file\n",
        "    \n",
        "    > ipython nbconvert mynotebook.ipynb --stdout\n",
        "    \n",
        "    A post-processor can be used to compile a PDF\n",
        "    \n",
        "    > ipython nbconvert mynotebook.ipynb --to latex --post PDF\n",
        "    \n",
        "    You can get (and serve) a Reveal.js-powered slideshow\n",
        "    \n",
        "    > ipython nbconvert myslides.ipynb --to slides --post serve\n",
        "    \n",
        "    Multiple notebooks can be given at the command line in a couple of \n",
        "    different ways:\n",
        "    \n",
        "    > ipython nbconvert notebook*.ipynb\n",
        "    > ipython nbconvert notebook1.ipynb notebook2.ipynb\n",
        "    \n",
        "    or you can specify the notebooks list in a config file, containing::\n",
        "    \n",
        "        c.NbConvertApp.notebooks = [\"my_notebook.ipynb\"]\n",
        "    \n",
        "    > ipython nbconvert --config mycfg.py\n",
        "\n"
       ]
      },
      {
       "output_type": "stream",
       "stream": "stderr",
       "text": [
        "[NbConvertApp] Using existing profile dir: u'/Users/bussonniermatthias/.ipython/profile_default'\n",
        "[NbConvertApp] WARNING | pattern u'Custom Display Logic.ipynb' matched no files\n"
       ]
      }
     ],
     "prompt_number": 3
    },
    {
     "cell_type": "markdown",
     "metadata": {},
     "source": [
      "You should just have to compile the generated `.tex` file. If you get the required packages installed, if should compile out of the box.\n",
      "\n",
      "For convenience we allow to run extra action after the conversion has been done, in particular for `latex` we have a `pdf` post-processor. \n",
      "You can define the postprocessor tu run with the `--post` flag."
     ]
    },
    {
     "cell_type": "code",
     "collapsed": false,
     "input": [
      "%%bash\n",
      "ipython nbconvert  --to=latex '04 - Custom Display Logic.ipynb' --post=pdf"
     ],
     "language": "python",
     "metadata": {},
     "outputs": [
      {
       "output_type": "stream",
       "stream": "stderr",
       "text": [
        "[NbConvertApp] Using existing profile dir: u'/Users/bussonniermatthias/.ipython/profile_default'\n",
        "[NbConvertApp] Converting notebook 04 - Custom Display Logic.ipynb to latex\n",
        "[NbConvertApp] Support files will be in 04 - Custom Display Logic_files/\n",
        "[NbConvertApp] Loaded template latex_article.tplx\n",
        "[NbConvertApp] Writing 30995 bytes to 04 - Custom Display Logic.tex\n",
        "[NbConvertApp] Building PDF: ['pdflatex', '04 - Custom Display Logic.tex']\n",
        "[NbConvertApp] CRITICAL | PDF conversion failed: ['pdflatex', '04 - Custom Display Logic.tex']\n",
        "This is pdfTeX, Version 3.1415926-2.3-1.40.12 (TeX Live 2011)\n",
        " restricted \\write18 enabled.\n",
        "entering extended mode\n",
        "(./04 - Custom Display Logic.tex\n",
        "LaTeX2e <2009/09/24>\n",
        "Babel <v3.8l> and hyphenation patterns for english, dumylang, nohyphenation, ge\n",
        "rman-x-2009-06-19, ngerman-x-2009-06-19, afrikaans, ancientgreek, ibycus, arabi\n",
        "c, armenian, basque, bulgarian, catalan, pinyin, coptic, croatian, czech, danis\n",
        "h, dutch, ukenglish, usenglishmax, esperanto, estonian, ethiopic, farsi, finnis\n",
        "h, french, galician, german, ngerman, swissgerman, monogreek, greek, hungarian,\n",
        " icelandic, assamese, bengali, gujarati, hindi, kannada, malayalam, marathi, or\n",
        "iya, panjabi, tamil, telugu, indonesian, interlingua, irish, italian, kurmanji,\n",
        " lao, latin, latvian, lithuanian, mongolian, mongolianlmc, bokmal, nynorsk, pol\n",
        "ish, portuguese, romanian, russian, sanskrit, serbian, serbianc, slovak, sloven\n",
        "ian, spanish, swedish, turkish, turkmen, ukrainian, uppersorbian, welsh, loaded\n",
        ".\n",
        "(/usr/local/lib/python2.7/site-packages/sphinx/texinputs/sphinxhowto.cls\n",
        "\n",
        "LaTeX Warning: You have requested document class `/usr/local/lib/python2.7/site\n",
        "-packages/sphinx/texinputs/sphinxhowto',\n",
        "               but the document class provides `sphinxhowto'.\n",
        "\n",
        "Document Class: sphinxhowto 2009/06/02 Document class (Sphinx HOWTO)\n",
        "(/usr/local/texlive/2011/texmf-dist/tex/latex/base/article.cls\n",
        "Document Class: article 2007/10/19 v1.4h Standard LaTeX document class\n",
        "(/usr/local/texlive/2011/texmf-dist/tex/latex/base/size10.clo)))\n",
        "(/usr/local/texlive/2011/texmf-dist/tex/latex/base/inputenc.sty\n",
        "(/usr/local/texlive/2011/texmf-dist/tex/latex/base/utf8.def\n",
        "(/usr/local/texlive/2011/texmf-dist/tex/latex/base/t1enc.dfu)\n",
        "(/usr/local/texlive/2011/texmf-dist/tex/latex/base/ot1enc.dfu)\n",
        "(/usr/local/texlive/2011/texmf-dist/tex/latex/base/omsenc.dfu)))\n",
        "(/usr/local/texlive/2011/texmf-dist/tex/latex/base/fontenc.sty\n",
        "(/usr/local/texlive/2011/texmf-dist/tex/latex/base/t1enc.def))\n",
        "(/usr/local/texlive/2011/texmf-dist/tex/generic/babel/babel.sty\n",
        "(/usr/local/texlive/2011/texmf-dist/tex/generic/babel/english.ldf\n",
        "(/usr/local/texlive/2011/texmf-dist/tex/generic/babel/babel.def)))\n",
        "(/usr/local/texlive/2011/texmf-dist/tex/latex/psnfss/times.sty)\n",
        "(/usr/local/texlive/2011/texmf-dist/tex/latex/import/import.sty)\n",
        "(/usr/local/lib/python2.7/site-packages/sphinx/texinputs/fncychap.sty\n",
        "\n",
        "LaTeX Warning: You have requested package `/usr/local/lib/python2.7/site-packag\n",
        "es/sphinx/texinputs/fncychap',\n",
        "               but the package provides `fncychap'.\n",
        "\n",
        ") (/usr/local/texlive/2011/texmf-dist/tex/latex/tools/longtable.sty)\n",
        "(/usr/local/lib/python2.7/site-packages/sphinx/texinputs/sphinx.sty\n",
        "\n",
        "LaTeX Warning: You have requested package `/usr/local/lib/python2.7/site-packag\n",
        "es/sphinx/texinputs/sphinx',\n",
        "               but the package provides `sphinx'.\n",
        "\n",
        "(/usr/local/texlive/2011/texmf-dist/tex/latex/fancyhdr/fancyhdr.sty)\n",
        "(/usr/local/texlive/2011/texmf-dist/tex/latex/base/textcomp.sty\n",
        "(/usr/local/texlive/2011/texmf-dist/tex/latex/base/ts1enc.def\n",
        "(/usr/local/texlive/2011/texmf-dist/tex/latex/base/ts1enc.dfu)))\n",
        "(/usr/local/texlive/2011/texmf-dist/tex/latex/fancybox/fancybox.sty\n",
        "Style option: `fancybox' v1.4 <2010/05/15> (tvz)\n",
        ") (/usr/local/texlive/2011/texmf-dist/tex/latex/titlesec/titlesec.sty)\n",
        "(/usr/local/texlive/2011/texmf-dist/tex/latex/tabulary/tabulary.sty\n",
        "(/usr/local/texlive/2011/texmf-dist/tex/latex/tools/array.sty))\n",
        "(/usr/local/texlive/2011/texmf-dist/tex/latex/amsmath/amsmath.sty\n",
        "For additional information on amsmath, use the `?' option.\n",
        "(/usr/local/texlive/2011/texmf-dist/tex/latex/amsmath/amstext.sty\n",
        "(/usr/local/texlive/2011/texmf-dist/tex/latex/amsmath/amsgen.sty))\n",
        "(/usr/local/texlive/2011/texmf-dist/tex/latex/amsmath/amsbsy.sty)\n",
        "(/usr/local/texlive/2011/texmf-dist/tex/latex/amsmath/amsopn.sty))\n",
        "(/usr/local/texlive/2011/texmf-dist/tex/latex/base/makeidx.sty)\n",
        "(/usr/local/texlive/2011/texmf-dist/tex/latex/framed/framed.sty)\n",
        "(/usr/local/texlive/2011/texmf-dist/tex/latex/base/ifthen.sty)\n",
        "(/usr/local/texlive/2011/texmf-dist/tex/latex/graphics/color.sty\n",
        "(/usr/local/texlive/2011/texmf-dist/tex/latex/latexconfig/color.cfg)\n",
        "(/usr/local/texlive/2011/texmf-dist/tex/latex/pdftex-def/pdftex.def\n",
        "(/usr/local/texlive/2011/texmf-dist/tex/generic/oberdiek/infwarerr.sty)\n",
        "(/usr/local/texlive/2011/texmf-dist/tex/generic/oberdiek/ltxcmds.sty)))\n",
        "(/usr/local/texlive/2011/texmf-dist/tex/latex/fancyvrb/fancyvrb.sty\n",
        "Style option: `fancyvrb' v2.7a, with DG/SPQR fixes, and firstline=lastline fix \n",
        "<2008/02/07> (tvz)\n",
        "(/usr/local/texlive/2011/texmf-dist/tex/latex/graphics/keyval.sty))\n",
        "(/usr/local/texlive/2011/texmf-dist/tex/latex/threeparttable/threeparttable.sty\n",
        ") (/usr/local/texlive/2011/texmf-dist/tex/latex/mdwtools/footnote.sty)\n",
        "(/usr/local/texlive/2011/texmf-dist/tex/latex/wrapfig/wrapfig.sty)\n",
        "(/usr/local/texlive/2011/texmf-dist/tex/latex/parskip/parskip.sty)\n",
        "(/usr/local/texlive/2011/texmf-dist/tex/latex/graphics/graphicx.sty\n",
        "(/usr/local/texlive/2011/texmf-dist/tex/latex/graphics/graphics.sty\n",
        "(/usr/local/texlive/2011/texmf-dist/tex/latex/graphics/trig.sty)\n",
        "(/usr/local/texlive/2011/texmf-dist/tex/latex/latexconfig/graphics.cfg)))\n",
        "(/usr/local/texlive/2011/texmf-dist/tex/plain/misc/pdfcolor.tex)\n",
        "(/usr/local/texlive/2011/texmf-dist/tex/latex/hyperref/hyperref.sty\n",
        "(/usr/local/texlive/2011/texmf-dist/tex/generic/oberdiek/hobsub-hyperref.sty\n",
        "(/usr/local/texlive/2011/texmf-dist/tex/generic/oberdiek/hobsub-generic.sty))\n",
        "(/usr/local/texlive/2011/texmf-dist/tex/generic/ifxetex/ifxetex.sty)\n",
        "(/usr/local/texlive/2011/texmf-dist/tex/latex/oberdiek/kvoptions.sty)\n",
        "(/usr/local/texlive/2011/texmf-dist/tex/latex/hyperref/pd1enc.def)\n",
        "(/usr/local/texlive/2011/texmf-dist/tex/latex/latexconfig/hyperref.cfg)\n",
        "(/usr/local/texlive/2011/texmf-dist/tex/latex/url/url.sty))\n",
        "\n",
        "Package hyperref Message: Driver (autodetected): hpdftex.\n",
        "\n",
        "(/usr/local/texlive/2011/texmf-dist/tex/latex/hyperref/hpdftex.def\n",
        "(/usr/local/texlive/2011/texmf-dist/tex/latex/oberdiek/rerunfilecheck.sty))\n",
        "(/usr/local/texlive/2011/texmf-dist/tex/latex/oberdiek/hypcap.sty))\n",
        "(/usr/local/texlive/2011/texmf-dist/tex/latex/multirow/multirow.sty)\n",
        "(/usr/local/texlive/2011/texmf-dist/tex/latex/amsfonts/amssymb.sty\n",
        "(/usr/local/texlive/2011/texmf-dist/tex/latex/amsfonts/amsfonts.sty))\n",
        "(/usr/local/texlive/2011/texmf-dist/tex/latex/ucs/ucs.sty\n",
        "(/usr/local/texlive/2011/texmf-dist/tex/latex/ucs/data/uni-global.def))\n",
        "(/usr/local/texlive/2011/texmf-dist/tex/latex/tools/enumerate.sty)\n",
        "(/usr/local/texlive/2011/texmf-dist/tex/latex/needspace/needspace.sty)\n",
        "(/usr/local/texlive/2011/texmf-dist/tex/latex/pgf/frontendlayer/tikz.sty\n",
        "(/usr/local/texlive/2011/texmf-dist/tex/latex/pgf/basiclayer/pgf.sty\n",
        "(/usr/local/texlive/2011/texmf-dist/tex/latex/pgf/utilities/pgfrcs.sty\n",
        "(/usr/local/texlive/2011/texmf-dist/tex/generic/pgf/utilities/pgfutil-common.te\n",
        "x)\n",
        "(/usr/local/texlive/2011/texmf-dist/tex/generic/pgf/utilities/pgfutil-latex.def\n",
        "(/usr/local/texlive/2011/texmf-dist/tex/latex/ms/everyshi.sty))\n",
        "(/usr/local/texlive/2011/texmf-dist/tex/generic/pgf/utilities/pgfrcs.code.tex))\n",
        "(/usr/local/texlive/2011/texmf-dist/tex/latex/pgf/basiclayer/pgfcore.sty\n",
        "(/usr/local/texlive/2011/texmf-dist/tex/latex/pgf/systemlayer/pgfsys.sty\n",
        "(/usr/local/texlive/2011/texmf-dist/tex/generic/pgf/systemlayer/pgfsys.code.tex\n",
        "(/usr/local/texlive/2011/texmf-dist/tex/generic/pgf/utilities/pgfkeys.code.tex\n",
        "(/usr/local/texlive/2011/texmf-dist/tex/generic/pgf/utilities/pgfkeysfiltered.c\n",
        "ode.tex))\n",
        "(/usr/local/texlive/2011/texmf-dist/tex/generic/pgf/systemlayer/pgf.cfg)\n",
        "(/usr/local/texlive/2011/texmf-dist/tex/generic/pgf/systemlayer/pgfsys-pdftex.d\n",
        "ef\n",
        "(/usr/local/texlive/2011/texmf-dist/tex/generic/pgf/systemlayer/pgfsys-common-p\n",
        "df.def)))\n",
        "(/usr/local/texlive/2011/texmf-dist/tex/generic/pgf/systemlayer/pgfsyssoftpath.\n",
        "code.tex)\n",
        "(/usr/local/texlive/2011/texmf-dist/tex/generic/pgf/systemlayer/pgfsysprotocol.\n",
        "code.tex)) (/usr/local/texlive/2011/texmf-dist/tex/latex/xcolor/xcolor.sty\n",
        "(/usr/local/texlive/2011/texmf-dist/tex/latex/latexconfig/color.cfg))\n",
        "(/usr/local/texlive/2011/texmf-dist/tex/generic/pgf/basiclayer/pgfcore.code.tex\n",
        "(/usr/local/texlive/2011/texmf-dist/tex/generic/pgf/math/pgfmath.code.tex\n",
        "(/usr/local/texlive/2011/texmf-dist/tex/generic/pgf/math/pgfmathcalc.code.tex\n",
        "(/usr/local/texlive/2011/texmf-dist/tex/generic/pgf/math/pgfmathutil.code.tex)\n",
        "(/usr/local/texlive/2011/texmf-dist/tex/generic/pgf/math/pgfmathparser.code.tex\n",
        ")\n",
        "(/usr/local/texlive/2011/texmf-dist/tex/generic/pgf/math/pgfmathfunctions.code.\n",
        "tex\n",
        "(/usr/local/texlive/2011/texmf-dist/tex/generic/pgf/math/pgfmathfunctions.basic\n",
        ".code.tex)\n",
        "(/usr/local/texlive/2011/texmf-dist/tex/generic/pgf/math/pgfmathfunctions.trigo\n",
        "nometric.code.tex)\n",
        "(/usr/local/texlive/2011/texmf-dist/tex/generic/pgf/math/pgfmathfunctions.rando\n",
        "m.code.tex)\n",
        "(/usr/local/texlive/2011/texmf-dist/tex/generic/pgf/math/pgfmathfunctions.compa\n",
        "rison.code.tex)\n",
        "(/usr/local/texlive/2011/texmf-dist/tex/generic/pgf/math/pgfmathfunctions.base.\n",
        "code.tex)\n",
        "(/usr/local/texlive/2011/texmf-dist/tex/generic/pgf/math/pgfmathfunctions.round\n",
        ".code.tex)\n",
        "(/usr/local/texlive/2011/texmf-dist/tex/generic/pgf/math/pgfmathfunctions.misc.\n",
        "code.tex)))\n",
        "(/usr/local/texlive/2011/texmf-dist/tex/generic/pgf/math/pgfmathfloat.code.tex)\n",
        ")\n",
        "(/usr/local/texlive/2011/texmf-dist/tex/generic/pgf/basiclayer/pgfcorepoints.co\n",
        "de.tex)\n",
        "(/usr/local/texlive/2011/texmf-dist/tex/generic/pgf/basiclayer/pgfcorepathconst\n",
        "ruct.code.tex)\n",
        "(/usr/local/texlive/2011/texmf-dist/tex/generic/pgf/basiclayer/pgfcorepathusage\n",
        ".code.tex)\n",
        "(/usr/local/texlive/2011/texmf-dist/tex/generic/pgf/basiclayer/pgfcorescopes.co\n",
        "de.tex)\n",
        "(/usr/local/texlive/2011/texmf-dist/tex/generic/pgf/basiclayer/pgfcoregraphicst\n",
        "ate.code.tex)\n",
        "(/usr/local/texlive/2011/texmf-dist/tex/generic/pgf/basiclayer/pgfcoretransform\n",
        "ations.code.tex)\n",
        "(/usr/local/texlive/2011/texmf-dist/tex/generic/pgf/basiclayer/pgfcorequick.cod\n",
        "e.tex)\n",
        "(/usr/local/texlive/2011/texmf-dist/tex/generic/pgf/basiclayer/pgfcoreobjects.c\n",
        "ode.tex)\n",
        "(/usr/local/texlive/2011/texmf-dist/tex/generic/pgf/basiclayer/pgfcorepathproce\n",
        "ssing.code.tex)\n",
        "(/usr/local/texlive/2011/texmf-dist/tex/generic/pgf/basiclayer/pgfcorearrows.co\n",
        "de.tex)\n",
        "(/usr/local/texlive/2011/texmf-dist/tex/generic/pgf/basiclayer/pgfcoreshade.cod\n",
        "e.tex)\n",
        "(/usr/local/texlive/2011/texmf-dist/tex/generic/pgf/basiclayer/pgfcoreimage.cod\n",
        "e.tex\n",
        "(/usr/local/texlive/2011/texmf-dist/tex/generic/pgf/basiclayer/pgfcoreexternal.\n",
        "code.tex))\n",
        "(/usr/local/texlive/2011/texmf-dist/tex/generic/pgf/basiclayer/pgfcorelayers.co\n",
        "de.tex)\n",
        "(/usr/local/texlive/2011/texmf-dist/tex/generic/pgf/basiclayer/pgfcoretranspare\n",
        "ncy.code.tex)\n",
        "(/usr/local/texlive/2011/texmf-dist/tex/generic/pgf/basiclayer/pgfcorepatterns.\n",
        "code.tex)))\n",
        "(/usr/local/texlive/2011/texmf-dist/tex/generic/pgf/modules/pgfmoduleshapes.cod\n",
        "e.tex)\n",
        "(/usr/local/texlive/2011/texmf-dist/tex/generic/pgf/modules/pgfmoduleplot.code.\n",
        "tex)\n",
        "(/usr/local/texlive/2011/texmf-dist/tex/latex/pgf/compatibility/pgfcomp-version\n",
        "-0-65.sty)\n",
        "(/usr/local/texlive/2011/texmf-dist/tex/latex/pgf/compatibility/pgfcomp-version\n",
        "-1-18.sty))\n",
        "(/usr/local/texlive/2011/texmf-dist/tex/latex/pgf/utilities/pgffor.sty\n",
        "(/usr/local/texlive/2011/texmf-dist/tex/latex/pgf/utilities/pgfkeys.sty\n",
        "(/usr/local/texlive/2011/texmf-dist/tex/generic/pgf/utilities/pgfkeys.code.tex)\n",
        ") (/usr/local/texlive/2011/texmf-dist/tex/generic/pgf/utilities/pgffor.code.tex\n",
        "))\n",
        "(/usr/local/texlive/2011/texmf-dist/tex/generic/pgf/frontendlayer/tikz/tikz.cod\n",
        "e.tex\n",
        "(/usr/local/texlive/2011/texmf-dist/tex/generic/pgf/libraries/pgflibraryplothan\n",
        "dlers.code.tex)\n",
        "(/usr/local/texlive/2011/texmf-dist/tex/generic/pgf/modules/pgfmodulematrix.cod\n",
        "e.tex)\n",
        "(/usr/local/texlive/2011/texmf-dist/tex/generic/pgf/frontendlayer/tikz/librarie\n",
        "s/tikzlibrarytopaths.code.tex)))\n",
        "(/usr/local/texlive/2011/texmf-dist/tex/generic/pgf/frontendlayer/tikz/librarie\n",
        "s/tikzlibrarycalc.code.tex)\n",
        "(/usr/local/texlive/2011/texmf-dist/tex/generic/pgf/frontendlayer/tikz/librarie\n",
        "s/tikzlibraryarrows.code.tex\n",
        "(/usr/local/texlive/2011/texmf-dist/tex/generic/pgf/libraries/pgflibraryarrows.\n",
        "code.tex))\n",
        "(/usr/local/texlive/2011/texmf-dist/tex/generic/pgf/frontendlayer/tikz/librarie\n",
        "s/tikzlibraryshadows.code.tex\n",
        "(/usr/local/texlive/2011/texmf-dist/tex/generic/pgf/frontendlayer/tikz/librarie\n",
        "s/tikzlibraryfadings.code.tex\n",
        "(/usr/local/texlive/2011/texmf-dist/tex/generic/pgf/libraries/pgflibraryfadings\n",
        ".code.tex)))\n",
        "(/usr/local/texlive/2011/texmf-dist/tex/latex/mdframed/mdframed.sty\n",
        "(/usr/local/texlive/2011/texmf-dist/tex/latex/etex-pkg/etex.sty)\n",
        "(/usr/local/texlive/2011/texmf-dist/tex/latex/tools/calc.sty)\n",
        "(/usr/local/texlive/2011/texmf-dist/tex/latex/etoolbox/etoolbox.sty)\n",
        "\n",
        "Package mdframed Warning: Unknown Option 'framemethod=tikz' for mdframed on inp\n",
        "ut line 413.\n",
        "\n",
        "(/usr/local/texlive/2011/texmf-dist/tex/latex/mdframed/md-frame-0.mdf))\n",
        "(/usr/local/texlive/2011/texmf-dist/tex/latex/base/alltt.sty)\n",
        "(/usr/local/texlive/2011/texmf-dist/tex/latex/adjustbox/adjustbox.sty)\n",
        "\n",
        "! LaTeX Error: Unknown option `Export' for package `adjustbox'.\n",
        "\n",
        "See the LaTeX manual or LaTeX Companion for explanation.\n",
        "Type  H <return>  for immediate help.\n",
        " ...                                              \n",
        "                                                  \n",
        "l.58 \n",
        "     \n",
        "? \n",
        "! Emergency stop.\n",
        " ...                                              \n",
        "                                                  \n",
        "l.58 \n",
        "     \n",
        "!  ==> Fatal error occurred, no output PDF file produced!\n",
        "Transcript written on \"04 - Custom Display Logic.log\".\n",
        "\n"
       ]
      }
     ],
     "prompt_number": 6
    },
    {
     "cell_type": "markdown",
     "metadata": {},
     "source": [
      "Have a look at `04 - Custom Display Logic.pdf`, toward the end, where we compared `display()` vs `display_html()` and returning the object.\n",
      "See how the cell where we use `display_html` was not able to display the circle, whereas the two other ones were able to select one of the oher representation they know how to display."
     ]
    },
    {
     "cell_type": "heading",
     "level": 3,
     "metadata": {},
     "source": [
      "Customizing template"
     ]
    },
    {
     "cell_type": "markdown",
     "metadata": {},
     "source": [
      "let's look at the first 20 lines of the `python` exporter"
     ]
    },
    {
     "cell_type": "code",
     "collapsed": false,
     "input": [
      "pyfile = !ipython nbconvert --to python '04 - Custom Display Logic.ipynb' --stdout\n",
      "for l in pyfile[20:40]:\n",
      "    print l"
     ],
     "language": "python",
     "metadata": {},
     "outputs": [
      {
       "output_type": "stream",
       "stream": "stdout",
       "text": [
        "# 1. Implementing special display methods such as `_repr_html_`.\n",
        "# 2. Registering a display function for a particular type.\n",
        "# \n",
        "# In this Notebook we show how both approaches work.\n",
        "\n",
        "# Before we get started, we will import the various display functions for displaying the different formats we will create.\n",
        "\n",
        "# In[ ]:\n",
        "\n",
        "from IPython.display import display\n",
        "from IPython.display import (\n",
        "    display_html, display_jpeg, display_png,\n",
        "    display_javascript, display_svg, display_latex\n",
        ")\n",
        "\n",
        "\n",
        "### Implementing special display methods\n",
        "\n",
        "# The main idea of the first approach is that you have to implement special display methods, one for each representation you want to use. Here is a list of the names of the special methods and the values they must return:\n",
        "# \n"
       ]
      }
     ],
     "prompt_number": 12
    },
    {
     "cell_type": "markdown",
     "metadata": {},
     "source": [
      "We see that the non-code cell are exported to the file. To have a cleaner script, we will export only the code contained in the code cells.\n",
      "\n",
      "To do so, we will inherit the python template, and overwrite the markdown blocks to be empty."
     ]
    },
    {
     "cell_type": "code",
     "collapsed": false,
     "input": [
      "%%writefile simplepython.tpl\n",
      "{% extends 'python.tpl'%}\n",
      "\n",
      "{% block markdowncell -%}\n",
      "{% endblock markdowncell %}\n",
      "\n",
      "## we also want to get rig of header cell\n",
      "{% block headingcell -%}\n",
      "{% endblock headingcell %}\n",
      "\n",
      "## and let's change the appearance of input prompt\n",
      "{% block in_prompt %}\n",
      "# This was input cell with prompt number : {{ cell.prompt_number if cell.prompt_number else ' ' }}\n",
      "{%- endblock in_prompt %}"
     ],
     "language": "python",
     "metadata": {},
     "outputs": [
      {
       "output_type": "stream",
       "stream": "stdout",
       "text": [
        "Overwriting simplepython.tpl\n"
       ]
      }
     ],
     "prompt_number": 13
    },
    {
     "cell_type": "code",
     "collapsed": false,
     "input": [
      "pyfile = !ipython nbconvert --to python '04 - Custom Display Logic.ipynb' --stdout --template=simplepython.tpl\n",
      "\n",
      "for l in pyfile[4:40]:\n",
      "    print l\n",
      "print '...'"
     ],
     "language": "python",
     "metadata": {},
     "outputs": [
      {
       "output_type": "stream",
       "stream": "stdout",
       "text": [
        "\n",
        "# This was input cell with prompt number : 35\n",
        "from IPython.display import display\n",
        "from IPython.display import (\n",
        "    display_html, display_jpeg, display_png,\n",
        "    display_javascript, display_svg, display_latex\n",
        ")\n",
        "\n",
        "\n",
        "# This was input cell with prompt number : 36\n",
        "get_ipython().magic(u'load soln/mycircle.py')\n",
        "\n",
        "\n",
        "# This was input cell with prompt number : 37\n",
        "class MyCircle(object):\n",
        "    \n",
        "    def _repr_html_(self):\n",
        "        return \"&#x25CB; (<b>html</b>)\"\n",
        "\n",
        "    def _repr_svg_(self):\n",
        "        return \"\"\"<svg width='100px' height='100px'>\n",
        "           <circle cx=\"50\" cy=\"50\" r=\"20\" stroke=\"black\" stroke-width=\"1\" fill=\"blue\"/>\n",
        "        </svg>\"\"\"\n",
        "    \n",
        "    def _repr_latex_(self):\n",
        "        return r\"$\\bigcirc \\LaTeX$\"\n",
        "\n",
        "    def _repr_javascript_(self):\n",
        "        return \"alert('I am a circle!');\"\n",
        "\n",
        "\n",
        "# This was input cell with prompt number : 38\n",
        "c = MyCircle()\n",
        "\n",
        "\n",
        "# This was input cell with prompt number : 39\n",
        "...\n"
       ]
      }
     ],
     "prompt_number": 15
    },
    {
     "cell_type": "markdown",
     "metadata": {},
     "source": [
      "I'll let you read Jinja manual for the exact syntax of the template."
     ]
    },
    {
     "cell_type": "heading",
     "level": 2,
     "metadata": {},
     "source": [
      "Template that use cells metadata"
     ]
    },
    {
     "cell_type": "markdown",
     "metadata": {},
     "source": [
      "Notebook fileformat support attaching arbitrary JSON metadata to each cell of a notebook. In this part we will use those metadata."
     ]
    },
    {
     "cell_type": "markdown",
     "metadata": {},
     "source": [
      "First you need to choose another notebook you want to convert to html, and tag some of the cell with metadata.\n",
      "You can see the file `soln/celldiff.js` for a solution on how to tag, or follow the javascript tutorial to see how to do that. Use what we have written there to tag cells of some notebooks to `Easy`|`Medium`|`Hard`|`<None>`, and convert this notebook using your template."
     ]
    },
    {
     "cell_type": "markdown",
     "metadata": {},
     "source": [
      "you might need the following : \n",
      "```\n",
      "{% extends 'html_full.tpl'%}\n",
      "{% block any_cell %}\n",
      "{{ super() }}\n",
      "<div style=\"background-color:red\">\n",
      "<div style='background-color:orange'>\n",
      "```\n",
      "\n",
      "`metadata` might not exist, be sure to :\n",
      "\n",
      "`cell['metadata'].get('example',{}).get('difficulty','')`\n",
      "\n",
      "tip: use `%%writefile` to edit the template in the notebook :-)"
     ]
    },
    {
     "cell_type": "code",
     "collapsed": false,
     "input": [
      "%%bash\n",
      "# ipython nbconvert --to html <your chosen notebook.ipynb> --template=<your template file>"
     ],
     "language": "python",
     "metadata": {},
     "outputs": [],
     "prompt_number": 25
    },
    {
     "cell_type": "code",
     "collapsed": false,
     "input": [
      "%loadpy soln/coloreddiff.tpl"
     ],
     "language": "python",
     "metadata": {},
     "outputs": [],
     "prompt_number": 26
    },
    {
     "cell_type": "code",
     "collapsed": false,
     "input": [
      "# ipython nbconvert --to html '04 - Custom Display Logic.ipynb' --template=soln/coloreddiff.tpl"
     ],
     "language": "python",
     "metadata": {},
     "outputs": []
    }
   ],
   "metadata": {}
  }
 ]
}