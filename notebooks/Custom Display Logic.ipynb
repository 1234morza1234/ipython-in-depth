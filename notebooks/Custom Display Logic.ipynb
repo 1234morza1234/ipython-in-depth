{
 "metadata": {
  "name": "Custom Display Logic"
 },
 "nbformat": 3,
 "nbformat_minor": 0,
 "worksheets": [
  {
   "cells": [
    {
     "cell_type": "heading",
     "level": 1,
     "metadata": {},
     "source": [
      "Defining Custom Display Logic for Your Own Objects"
     ]
    },
    {
     "cell_type": "heading",
     "level": 2,
     "metadata": {},
     "source": [
      "Overview"
     ]
    },
    {
     "cell_type": "markdown",
     "metadata": {},
     "source": [
      "In Python, objects can declare their textual representation using the `__repr__` method.  IPython expands on this idea and allows objects to declare other, richer representations including:\n",
      "\n",
      "* HTML\n",
      "* JSON\n",
      "* PNG\n",
      "* JPEG\n",
      "* SVG\n",
      "* LaTeX\n",
      "\n",
      "This Notebook shows how you can add custom display logic to your own classes, so that they can be displayed using these rich representations. There are two ways of accomplishing this:\n",
      "\n",
      "1. Implementing special display methods such as `_repr_html_`.\n",
      "2. Registering a display function for a particular type.\n",
      "\n",
      "In this Notebook we show how both approaches work."
     ]
    },
    {
     "cell_type": "markdown",
     "metadata": {},
     "source": [
      "Before we get started, we will import the various display functions for displaying the different formats we will create."
     ]
    },
    {
     "cell_type": "code",
     "collapsed": false,
     "input": [
      "from IPython.display import display\n",
      "from IPython.display import display_html, display_jpeg, display_png, display_svg, display_latex"
     ],
     "language": "python",
     "metadata": {},
     "outputs": [],
     "prompt_number": 144
    },
    {
     "cell_type": "heading",
     "level": 2,
     "metadata": {},
     "source": [
      "Implementing special display methods"
     ]
    },
    {
     "cell_type": "markdown",
     "metadata": {},
     "source": [
      "The main idea of the first approach is that you have to implement special display methods, one for each representation you want to use. Here is a list of the names of the special methods and the values they must return:\n",
      "\n",
      "* _repr_html_: return raw HTML as a string\n",
      "* _repr_json_: return raw JSON as a string\n",
      "* _repr_jpeg_: return raw JPEG data\n",
      "* _repr_png_: return raw PNG data\n",
      "* _repr_svg_: return raw SVG data as a string\n",
      "* _repr_latex_: return LaTeX commands in a string surrounded by \"$\"."
     ]
    },
    {
     "cell_type": "heading",
     "level": 3,
     "metadata": {},
     "source": [
      "Exercise"
     ]
    },
    {
     "cell_type": "markdown",
     "metadata": {},
     "source": [
      "Write a simple `Circle` Python class.  Don't even worry about properties such as radius, position, colors, etc. To help you out use the following representations (remember to wrap them in Python strings):\n",
      "\n",
      "For HTML:\n",
      "\n",
      "    &#x25CB;\n",
      "\n",
      "For SVG:\n",
      "\n",
      "    <svg width=100px height=100px>\n",
      "        <circle cx=\"50\" cy=\"50\" r=\"20\" stroke=\"black\" stroke-width=\"1\" fill=\"white\"/>\n",
      "    </svg>\n",
      "\n",
      "For LaTeX:\n",
      "\n",
      "    \\bigcirc\n",
      "\n",
      "After you write the class, create an instance and then use `display_html`, `display_svg` and `display_latex` to display those representations"
     ]
    },
    {
     "cell_type": "heading",
     "level": 3,
     "metadata": {},
     "source": [
      "Solution"
     ]
    },
    {
     "cell_type": "markdown",
     "metadata": {},
     "source": [
      "Here is my simple `Circle` class:"
     ]
    },
    {
     "cell_type": "code",
     "collapsed": false,
     "input": [
      "class Circle(object):\n",
      "    \n",
      "    def _repr_html_(self):\n",
      "        return \"&#x25CB;\"\n",
      "\n",
      "    def _repr_svg_(self):\n",
      "        return \"\"\"<svg width=100px height=100px>\n",
      "           <circle cx=\"50\" cy=\"50\" r=\"20\" stroke=\"black\" stroke-width=\"1\" fill=\"white\"/>\n",
      "        </svg>\"\"\"\n",
      "    \n",
      "    def _repr_latex_(self):\n",
      "        return r\"$\\bigcirc$\""
     ],
     "language": "python",
     "metadata": {},
     "outputs": [],
     "prompt_number": 120
    },
    {
     "cell_type": "markdown",
     "metadata": {},
     "source": [
      "Now create an instance and use the display methods:"
     ]
    },
    {
     "cell_type": "code",
     "collapsed": false,
     "input": [
      "c = Circle()"
     ],
     "language": "python",
     "metadata": {},
     "outputs": [],
     "prompt_number": 121
    },
    {
     "cell_type": "code",
     "collapsed": false,
     "input": [
      "display_html(c)"
     ],
     "language": "python",
     "metadata": {},
     "outputs": [
      {
       "html": [
        "&#x25CB;"
       ],
       "output_type": "display_data",
       "text": [
        "<__main__.Circle at 0x10964c590>"
       ]
      }
     ],
     "prompt_number": 123
    },
    {
     "cell_type": "code",
     "collapsed": false,
     "input": [
      "display_svg(c)"
     ],
     "language": "python",
     "metadata": {},
     "outputs": [
      {
       "output_type": "display_data",
       "svg": [
        "<svg width=100px height=100px>\n",
        "           <circle cx=\"50\" cy=\"50\" r=\"20\" stroke=\"black\" stroke-width=\"1\" fill=\"white\"/>\n",
        "        </svg>"
       ],
       "text": [
        "<__main__.Circle at 0x10964c590>"
       ]
      }
     ],
     "prompt_number": 124
    },
    {
     "cell_type": "code",
     "collapsed": false,
     "input": [
      "display_latex(c)"
     ],
     "language": "python",
     "metadata": {},
     "outputs": [
      {
       "latex": [
        "$\\bigcirc$"
       ],
       "output_type": "display_data",
       "text": [
        "<__main__.Circle at 0x10964c590>"
       ]
      }
     ],
     "prompt_number": 125
    },
    {
     "cell_type": "heading",
     "level": 2,
     "metadata": {},
     "source": [
      "Adding IPython display support to existing objects"
     ]
    },
    {
     "cell_type": "markdown",
     "metadata": {},
     "source": [
      "When you are directly writing your own classes, you can adapt them for display in IPython by following the above example.  But in practice, we often need to work with existing code we can't modify.  We now illustrate how to add these kinds of extended display capabilities to existing objects. To continue with our example above, we will add a PNG representation to our `Circle` class using Matplotlib."
     ]
    },
    {
     "cell_type": "markdown",
     "metadata": {},
     "source": [
      "To add a display method to an existing class, we must use IPython's display formatter API.  Here we show all of the available formatters:"
     ]
    },
    {
     "cell_type": "code",
     "collapsed": false,
     "input": [
      "ip = get_ipython()\n",
      "ip.display_formatter.formatters"
     ],
     "language": "python",
     "metadata": {},
     "outputs": []
    },
    {
     "cell_type": "markdown",
     "metadata": {},
     "source": [
      "Let's grab the PNG formatter:"
     ]
    },
    {
     "cell_type": "code",
     "collapsed": false,
     "input": [
      "png_f = ip.display_formatter.formatters['image/png']"
     ],
     "language": "python",
     "metadata": {},
     "outputs": [],
     "prompt_number": 141
    },
    {
     "cell_type": "markdown",
     "metadata": {},
     "source": [
      "We will use the `for_type` method to register our display function."
     ]
    },
    {
     "cell_type": "code",
     "collapsed": false,
     "input": [
      "png_f.for_type?"
     ],
     "language": "python",
     "metadata": {},
     "outputs": [],
     "prompt_number": 142
    },
    {
     "cell_type": "markdown",
     "metadata": {},
     "source": [
      "As the docstring describes, we need to define a function the takes the object as a parameter and returns the raw PNG data."
     ]
    },
    {
     "cell_type": "code",
     "collapsed": false,
     "input": [
      "%pylab inline"
     ],
     "language": "python",
     "metadata": {},
     "outputs": [
      {
       "output_type": "stream",
       "stream": "stdout",
       "text": [
        "\n",
        "Welcome to pylab, a matplotlib-based Python environment [backend: module://IPython.zmq.pylab.backend_inline].\n",
        "For more information, type 'help(pylab)'.\n"
       ]
      }
     ],
     "prompt_number": 143
    },
    {
     "cell_type": "code",
     "collapsed": false,
     "input": [
      "from IPython.core.pylabtools import print_figure\n",
      "\n",
      "def png_circle(o):\n",
      "    fig, ax = plt.subplots()\n",
      "    cir = pylab.Circle((0,0), radius=0.75,  fc='w')\n",
      "    ax.add_patch(cir)\n",
      "    axis('scaled')\n",
      "    data = print_figure(fig, 'png')\n",
      "    # We MUST close the figure, otherwise IPython's display machinery\n",
      "    # will pick it up and send it as output, resulting in a double display\n",
      "    plt.close(fig)\n",
      "    return data"
     ],
     "language": "python",
     "metadata": {},
     "outputs": [],
     "prompt_number": 134
    },
    {
     "cell_type": "markdown",
     "metadata": {},
     "source": [
      "Now we register the display function for the type:"
     ]
    },
    {
     "cell_type": "code",
     "collapsed": false,
     "input": [
      "png_f.for_type(Circle, png_circle)"
     ],
     "language": "python",
     "metadata": {},
     "outputs": [
      {
       "output_type": "pyout",
       "prompt_number": 136,
       "text": [
        "<function __main__.png_circle>"
       ]
      }
     ],
     "prompt_number": 136
    },
    {
     "cell_type": "markdown",
     "metadata": {},
     "source": [
      "Now all `Circle` instances have PNG representations!"
     ]
    },
    {
     "cell_type": "code",
     "collapsed": false,
     "input": [
      "c2 = Circle()"
     ],
     "language": "python",
     "metadata": {},
     "outputs": [],
     "prompt_number": 137
    },
    {
     "cell_type": "code",
     "collapsed": false,
     "input": [
      "display_png(c2)"
     ],
     "language": "python",
     "metadata": {},
     "outputs": [
      {
       "output_type": "display_data",
       "png": "[encoded data removed]",
       "text": [
        "<__main__.Circle at 0x109672310>"
       ]
      }
     ],
     "prompt_number": 139
    }
   ],
   "metadata": {}
  }
 ]
}