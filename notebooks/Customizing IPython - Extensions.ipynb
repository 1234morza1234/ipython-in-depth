{
 "metadata": {
  "name": ""
 },
 "nbformat": 3,
 "nbformat_minor": 0,
 "worksheets": [
  {
   "cells": [
    {
     "cell_type": "heading",
     "level": 1,
     "metadata": {},
     "source": [
      "Customizing IPython - Extensions"
     ]
    },
    {
     "cell_type": "markdown",
     "metadata": {},
     "source": [
      "Extensions are just Python modules with a special function:\n",
      "\n",
      "```python\n",
      "def load_ipython_extension(ip):\n",
      "    do_anything()\n",
      "```\n",
      "\n",
      "`%load_ext module` imports the module, and calls `module.load_ipython_extension(ip)`\n",
      "with the IPython instance.\n",
      "\n",
      "This allows modules or standalone extensions to manipulate IPython.\n",
      "Most often, extensions define new magics or work with the interactive namespace.\n",
      "\n",
      "One example of an extension is `cythonmagic`, which currently ships with IPython.\n",
      "This defines a few magics for executing Cython code interactively."
     ]
    },
    {
     "cell_type": "code",
     "collapsed": false,
     "input": [
      "%%cython\n",
      "\n",
      "cpdef noop():\n",
      "    pass"
     ],
     "language": "python",
     "metadata": {},
     "outputs": []
    },
    {
     "cell_type": "code",
     "collapsed": false,
     "input": [
      "%load_ext cythonmagic"
     ],
     "language": "python",
     "metadata": {},
     "outputs": []
    },
    {
     "cell_type": "code",
     "collapsed": false,
     "input": [
      "%%cython\n",
      "cimport numpy\n",
      "\n",
      "cpdef cysum(numpy.ndarray[double] A):\n",
      "    \"\"\"Compute the sum of an array\"\"\"\n",
      "    cdef double a=0\n",
      "    for i in range(A.shape[0]):\n",
      "        a += A[i]\n",
      "    return a\n"
     ],
     "language": "python",
     "metadata": {},
     "outputs": []
    },
    {
     "cell_type": "code",
     "collapsed": false,
     "input": [
      "def pysum(A):\n",
      "    \"\"\"Compute the sum of an array\"\"\"\n",
      "    a = 0\n",
      "    for i in range(A.shape[0]):\n",
      "        a += A[i]\n",
      "    return a\n"
     ],
     "language": "python",
     "metadata": {},
     "outputs": []
    },
    {
     "cell_type": "code",
     "collapsed": false,
     "input": [
      "import numpy as np"
     ],
     "language": "python",
     "metadata": {},
     "outputs": []
    },
    {
     "cell_type": "code",
     "collapsed": false,
     "input": [
      "for sz in (100, 1000, 10000):\n",
      "    A = np.random.random(sz)\n",
      "    print \"Python %i\" % sz,\n",
      "    %timeit pysum(A)\n",
      "    print \"np.sum %i\" % sz,\n",
      "    %timeit A.sum()\n",
      "    print \"Cython %i\" % sz,\n",
      "    %timeit cysum(A)\n"
     ],
     "language": "python",
     "metadata": {},
     "outputs": []
    },
    {
     "cell_type": "markdown",
     "metadata": {},
     "source": [
      "`cythonmagic` is just a module, let's see what it's `load_ipython_extension` function looks like"
     ]
    },
    {
     "cell_type": "code",
     "collapsed": false,
     "input": [
      "from IPython.extensions import cythonmagic"
     ],
     "language": "python",
     "metadata": {},
     "outputs": []
    },
    {
     "cell_type": "code",
     "collapsed": false,
     "input": [
      "cythonmagic.load_ipython_extension??"
     ],
     "language": "python",
     "metadata": {},
     "outputs": []
    },
    {
     "cell_type": "code",
     "collapsed": false,
     "input": [
      "cythonmagic.CythonMagics??"
     ],
     "language": "python",
     "metadata": {},
     "outputs": []
    },
    {
     "cell_type": "heading",
     "level": 2,
     "metadata": {},
     "source": [
      "Our own extension"
     ]
    },
    {
     "cell_type": "markdown",
     "metadata": {},
     "source": [
      "Loading an extension can do as much or as little as you want.\n",
      "\n",
      "Since we have been defining our timer magics, let's create an extension to make them available in any IPython session."
     ]
    },
    {
     "cell_type": "code",
     "collapsed": false,
     "input": [
      "%pycat soln/mymagics.py"
     ],
     "language": "python",
     "metadata": {},
     "outputs": []
    },
    {
     "cell_type": "markdown",
     "metadata": {},
     "source": [
      "`%install_ext` is a function that can take any file path or URL, and puts the target into IPYTHONDIR/extensions"
     ]
    },
    {
     "cell_type": "code",
     "collapsed": false,
     "input": [
      "%install_ext soln/mymagics.py"
     ],
     "language": "python",
     "metadata": {},
     "outputs": []
    },
    {
     "cell_type": "code",
     "collapsed": false,
     "input": [
      "%load_ext mymagics"
     ],
     "language": "python",
     "metadata": {},
     "outputs": []
    },
    {
     "cell_type": "code",
     "collapsed": false,
     "input": [
      "%tic\n",
      "time.sleep(0.1)\n",
      "%toc"
     ],
     "language": "python",
     "metadata": {},
     "outputs": []
    },
    {
     "cell_type": "code",
     "collapsed": false,
     "input": [
      "%nbrun Sample"
     ],
     "language": "python",
     "metadata": {},
     "outputs": []
    },
    {
     "cell_type": "markdown",
     "metadata": {},
     "source": [
      "For some example extensions, see [this repository](http://github.com/minrk/ipython_extensions).\n",
      "\n",
      "Now we can get our magics with a single `%load_ext` call.\n",
      "Let's move on to [Configuring IPython](Customizing%20IPython%20-%20Config.ipynb),\n",
      "so we can see how to load our extension at startup."
     ]
    }
   ],
   "metadata": {}
  }
 ]
}