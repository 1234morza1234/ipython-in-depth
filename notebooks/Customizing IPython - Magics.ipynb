{
 "metadata": {
  "name": ""
 },
 "nbformat": 3,
 "nbformat_minor": 0,
 "worksheets": [
  {
   "cells": [
    {
     "cell_type": "heading",
     "level": 1,
     "metadata": {},
     "source": [
      "Customizing IPython - Magics"
     ]
    },
    {
     "cell_type": "markdown",
     "metadata": {},
     "source": [
      "IPython extends Python by adding shell-like commands called **magics**."
     ]
    },
    {
     "cell_type": "code",
     "collapsed": false,
     "input": [
      "%lsmagic"
     ],
     "language": "python",
     "metadata": {},
     "outputs": []
    },
    {
     "cell_type": "heading",
     "level": 2,
     "metadata": {},
     "source": [
      "Defining your own magic"
     ]
    },
    {
     "cell_type": "markdown",
     "metadata": {},
     "source": [
      "As we have seen already, IPython has cell and line magics. You can define your own magics using any Python function and the `register_magic_function` method:"
     ]
    },
    {
     "cell_type": "code",
     "collapsed": false,
     "input": [
      "ip = get_ipython()"
     ],
     "language": "python",
     "metadata": {},
     "outputs": []
    },
    {
     "cell_type": "code",
     "collapsed": false,
     "input": [
      "def sleep_magic(line):\n",
      "    \"\"\"A simple function for sleeping\"\"\"\n",
      "    t = float(line)\n",
      "    import time\n",
      "    time.sleep(t)"
     ],
     "language": "python",
     "metadata": {},
     "outputs": []
    },
    {
     "cell_type": "code",
     "collapsed": false,
     "input": [
      "ip.register_magic_function(sleep_magic, \"line\", \"sleep\")"
     ],
     "language": "python",
     "metadata": {},
     "outputs": []
    },
    {
     "cell_type": "code",
     "collapsed": false,
     "input": [
      "%sleep 2"
     ],
     "language": "python",
     "metadata": {},
     "outputs": []
    },
    {
     "cell_type": "code",
     "collapsed": false,
     "input": [
      "%sleep?"
     ],
     "language": "python",
     "metadata": {},
     "outputs": []
    },
    {
     "cell_type": "code",
     "collapsed": false,
     "input": [
      "ip.register_magic_function?"
     ],
     "language": "python",
     "metadata": {},
     "outputs": []
    },
    {
     "cell_type": "heading",
     "level": 3,
     "metadata": {},
     "source": [
      "Exercise"
     ]
    },
    {
     "cell_type": "markdown",
     "metadata": {},
     "source": [
      "Define `%tic` and `%toc` magics, which can be use for simple timings, e.g. where\n",
      "\n",
      "```python\n",
      "for p in range(1,4):\n",
      "    N = 10**p\n",
      "    print \"N=%i\" % N\n",
      "    %tic\n",
      "    A = np.random.random((N,N))\n",
      "    np.linalg.eigvals(A)\n",
      "    %toc\n",
      "```\n",
      "\n",
      "each `%toc` will print the time since the last `%tic`. Create separate `tic` and `toc` functions that read and write\n",
      "a global time variable."
     ]
    },
    {
     "cell_type": "code",
     "collapsed": false,
     "input": [
      "%load soln/tictocf.py"
     ],
     "language": "python",
     "metadata": {},
     "outputs": []
    },
    {
     "cell_type": "code",
     "collapsed": false,
     "input": [
      "import numpy as np\n",
      "\n",
      "for p in range(1,4):\n",
      "    N = 10**p\n",
      "    print \"N=%i\" % N\n",
      "    sys.stdout.flush()\n",
      "    %tic\n",
      "    A = np.random.random((N,N))\n",
      "    np.linalg.eigvals(A)\n",
      "    %toc"
     ],
     "language": "python",
     "metadata": {},
     "outputs": []
    },
    {
     "cell_type": "markdown",
     "metadata": {},
     "source": [
      "Now we can write a **cell magic** to do the outer iteration:"
     ]
    },
    {
     "cell_type": "code",
     "collapsed": false,
     "input": [
      "eval?"
     ],
     "language": "python",
     "metadata": {},
     "outputs": []
    },
    {
     "cell_type": "code",
     "collapsed": false,
     "input": [
      "\"a b  c\".split(None, 1)"
     ],
     "language": "python",
     "metadata": {},
     "outputs": []
    },
    {
     "cell_type": "code",
     "collapsed": false,
     "input": [
      "import numpy as np\n",
      "import sys"
     ],
     "language": "python",
     "metadata": {},
     "outputs": []
    },
    {
     "cell_type": "code",
     "collapsed": false,
     "input": [
      "def parse_magic_line(line):\n",
      "    name, values_s = line.split(None, 1)\n",
      "    values = eval(values_s, get_ipython().user_ns)\n",
      "    return name, values\n"
     ],
     "language": "python",
     "metadata": {},
     "outputs": []
    },
    {
     "cell_type": "code",
     "collapsed": false,
     "input": [
      "def scale_magic(line, cell):\n",
      "    \"\"\"run a cell block with a variety of input values\"\"\"\n",
      "    name, values = parse_magic_line(line)\n",
      "    ns = get_ipython().user_ns\n",
      "    for v in values:\n",
      "        assignment = \"%s=%r\" % (name, v)\n",
      "        print assignment\n",
      "        ns[name] = v\n",
      "        sys.stdout.flush()\n",
      "        %tic\n",
      "        exec cell in ns\n",
      "        %toc\n",
      "        "
     ],
     "language": "python",
     "metadata": {},
     "outputs": []
    },
    {
     "cell_type": "code",
     "collapsed": false,
     "input": [
      "ip = get_ipython()\n",
      "ip.register_magic_function(scale_magic, \"cell\", \"scale\")"
     ],
     "language": "python",
     "metadata": {},
     "outputs": []
    },
    {
     "cell_type": "code",
     "collapsed": false,
     "input": [
      "%%scale N [ int(10**p) for p in range(1,4) ]\n",
      "\n",
      "A = np.random.random((N,N))\n",
      "np.linalg.eigvals(A)\n"
     ],
     "language": "python",
     "metadata": {},
     "outputs": []
    },
    {
     "cell_type": "code",
     "collapsed": false,
     "input": [
      "%%scale N [ int(2**p) for p in np.linspace(6, 11, 11) ]\n",
      "\n",
      "A = np.random.random((N,N))\n",
      "np.linalg.eigvals(A)\n"
     ],
     "language": "python",
     "metadata": {},
     "outputs": []
    },
    {
     "cell_type": "code",
     "collapsed": false,
     "input": [
      "%matplotlib inline\n",
      "import pandas"
     ],
     "language": "python",
     "metadata": {},
     "outputs": []
    },
    {
     "cell_type": "code",
     "collapsed": false,
     "input": [
      "def scale_pandas_magic(line, cell):\n",
      "    \"\"\"run a cell block with a variety of input values\"\"\"\n",
      "    name, values = parse_magic_line(line)\n",
      "    ns = get_ipython().user_ns\n",
      "    times = []\n",
      "    for v in values:\n",
      "        assignment = \"%s=%r\" % (name, v)\n",
      "        print assignment\n",
      "        ns[name] = v\n",
      "        sys.stdout.flush()\n",
      "        tic = time.time()\n",
      "        exec cell in ns\n",
      "        toc = time.time()\n",
      "        dt = toc - tic\n",
      "        times.append(dt)\n",
      "        print \"%.3f ms\" % (1000 * dt)\n",
      "        sys.stdout.flush()\n",
      "    df = pandas.DataFrame(times, index=values, columns=[\"time\"])\n",
      "    df.plot(logx=True, logy=True)\n",
      "    return df\n",
      "        \n",
      "    \n",
      "        "
     ],
     "language": "python",
     "metadata": {},
     "outputs": []
    },
    {
     "cell_type": "code",
     "collapsed": false,
     "input": [
      "ip.register_magic_function(scale_pandas_magic, \"cell\", \"scaleplot\")"
     ],
     "language": "python",
     "metadata": {},
     "outputs": []
    },
    {
     "cell_type": "code",
     "collapsed": false,
     "input": [
      "%%scaleplot N [ int(2**p) for p in np.linspace(6, 10, 11) ]\n",
      "\n",
      "A = np.random.random((N,N))\n",
      "np.linalg.eigvals(A)\n"
     ],
     "language": "python",
     "metadata": {},
     "outputs": []
    }
   ],
   "metadata": {}
  }
 ]
}