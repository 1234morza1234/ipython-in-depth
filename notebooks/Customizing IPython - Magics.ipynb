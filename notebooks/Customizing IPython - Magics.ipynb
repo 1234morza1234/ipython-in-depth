{
 "metadata": {
  "name": ""
 },
 "nbformat": 3,
 "nbformat_minor": 0,
 "worksheets": [
  {
   "cells": [
    {
     "cell_type": "heading",
     "level": 1,
     "metadata": {},
     "source": [
      "Customizing IPython - Magics"
     ]
    },
    {
     "cell_type": "markdown",
     "metadata": {},
     "source": [
      "IPython extends Python by adding shell-like commands called **magics**."
     ]
    },
    {
     "cell_type": "code",
     "collapsed": false,
     "input": [
      "%lsmagic"
     ],
     "language": "python",
     "metadata": {},
     "outputs": []
    },
    {
     "cell_type": "heading",
     "level": 2,
     "metadata": {},
     "source": [
      "Defining your own magic"
     ]
    },
    {
     "cell_type": "markdown",
     "metadata": {},
     "source": [
      "As we have seen already, IPython has cell and line magics. You can define your own magics using any Python function and the `register_magic_function` method:"
     ]
    },
    {
     "cell_type": "code",
     "collapsed": false,
     "input": [
      "ip = get_ipython()"
     ],
     "language": "python",
     "metadata": {},
     "outputs": []
    },
    {
     "cell_type": "code",
     "collapsed": false,
     "input": [
      "def sleep_magic(line):\n",
      "    \"\"\"A simple function for sleeping\"\"\"\n",
      "    t = float(line)\n",
      "    import time\n",
      "    time.sleep(t)"
     ],
     "language": "python",
     "metadata": {},
     "outputs": []
    },
    {
     "cell_type": "code",
     "collapsed": false,
     "input": [
      "ip.register_magic_function(sleep_magic, \"line\", \"sleep\")"
     ],
     "language": "python",
     "metadata": {},
     "outputs": []
    },
    {
     "cell_type": "code",
     "collapsed": false,
     "input": [
      "%sleep 2"
     ],
     "language": "python",
     "metadata": {},
     "outputs": []
    },
    {
     "cell_type": "code",
     "collapsed": false,
     "input": [
      "%sleep?"
     ],
     "language": "python",
     "metadata": {},
     "outputs": []
    },
    {
     "cell_type": "code",
     "collapsed": false,
     "input": [
      "ip.register_magic_function?"
     ],
     "language": "python",
     "metadata": {},
     "outputs": []
    },
    {
     "cell_type": "heading",
     "level": 3,
     "metadata": {},
     "source": [
      "Exercise"
     ]
    },
    {
     "cell_type": "markdown",
     "metadata": {},
     "source": [
      "Define `%tic` and `%toc` magics, which can be use for simple timings, e.g. where\n",
      "\n",
      "```python\n",
      "for p in range(1,4):\n",
      "    N = 10**p\n",
      "    print \"N=%i\" % N\n",
      "    %tic\n",
      "    A = np.random.random((N,N))\n",
      "    np.linalg.eigvals(A)\n",
      "    %toc\n",
      "```\n",
      "\n",
      "each `%toc` will print the time since the last `%tic`. Create separate `tic` and `toc` functions that read and write\n",
      "a global time variable."
     ]
    },
    {
     "cell_type": "code",
     "collapsed": false,
     "input": [
      "%load soln/tictocf.py"
     ],
     "language": "python",
     "metadata": {},
     "outputs": []
    },
    {
     "cell_type": "code",
     "collapsed": false,
     "input": [
      "import numpy as np\n",
      "\n",
      "for p in range(1,4):\n",
      "    N = 10**p\n",
      "    print \"N=%i\" % N\n",
      "    sys.stdout.flush()\n",
      "    %tic\n",
      "    A = np.random.random((N,N))\n",
      "    np.linalg.eigvals(A)\n",
      "    %toc"
     ],
     "language": "python",
     "metadata": {},
     "outputs": []
    },
    {
     "cell_type": "heading",
     "level": 3,
     "metadata": {},
     "source": [
      "Cell Magic"
     ]
    },
    {
     "cell_type": "markdown",
     "metadata": {},
     "source": [
      "**Cell magics** take two args:\n",
      "\n",
      "1. the **line** on the same line of the magic \n",
      "2. the **cell** the multiline body of the cell after the first line"
     ]
    },
    {
     "cell_type": "code",
     "collapsed": false,
     "input": [
      "def dummy_cell_magic(line, cell):\n",
      "    print \"line: %r\" % line\n",
      "    print \"cell: %r\" % cell\n",
      "\n",
      "ip.register_magic_function(dummy_cell_magic, \"cell\", \"dummy\")"
     ],
     "language": "python",
     "metadata": {},
     "outputs": []
    },
    {
     "cell_type": "code",
     "collapsed": false,
     "input": [
      "%%dummy this is the line\n",
      "this\n",
      "is the\n",
      "cell"
     ],
     "language": "python",
     "metadata": {},
     "outputs": []
    },
    {
     "cell_type": "code",
     "collapsed": false,
     "input": [
      "def parse_magic_line(line):\n",
      "    name, values_s = line.split(None, 1)\n",
      "    values = eval(values_s, get_ipython().user_ns)\n",
      "    return name, values\n",
      "\n",
      "parse_magic_line(\"x range(5)\")"
     ],
     "language": "python",
     "metadata": {},
     "outputs": []
    },
    {
     "cell_type": "heading",
     "level": 4,
     "metadata": {},
     "source": [
      "Excercise"
     ]
    },
    {
     "cell_type": "markdown",
     "metadata": {},
     "source": [
      "Can you write and register a **cell magic** that automates the outer iteration,\n",
      "timing a block for various values of a particular variable:"
     ]
    },
    {
     "cell_type": "code",
     "collapsed": false,
     "input": [
      "%load soln/scalemagic.py"
     ],
     "language": "python",
     "metadata": {},
     "outputs": []
    },
    {
     "cell_type": "code",
     "collapsed": false,
     "input": [
      "%%scale N [ int(10**p) for p in range(1,4) ]\n",
      "\n",
      "A = np.random.random((N,N))\n",
      "np.linalg.eigvals(A)\n"
     ],
     "language": "python",
     "metadata": {},
     "outputs": []
    },
    {
     "cell_type": "code",
     "collapsed": false,
     "input": [
      "%%scale N [ int(2**p) for p in np.linspace(6, 11, 11) ]\n",
      "\n",
      "A = np.random.random((N,N))\n",
      "np.linalg.eigvals(A)\n"
     ],
     "language": "python",
     "metadata": {},
     "outputs": []
    },
    {
     "cell_type": "heading",
     "level": 3,
     "metadata": {},
     "source": [
      "Excercise"
     ]
    },
    {
     "cell_type": "code",
     "collapsed": false,
     "input": [
      "%matplotlib inline\n",
      "import matplotlib.pyplot as plt"
     ],
     "language": "python",
     "metadata": {},
     "outputs": []
    },
    {
     "cell_type": "code",
     "collapsed": false,
     "input": [
      "def plot_scale(values, times, name):\n",
      "    \"\"\"Do a log-log plot of timings\n",
      "    \n",
      "    to illustrate scaling\n",
      "    \"\"\"\n",
      "    plt.loglog(values, times, '-o')\n",
      "    plt.xlim(values[0] / 1.1, 1.1 * values[-1])\n",
      "    plt.xlabel(name)\n",
      "    plt.ylabel(\"t (s)\")\n",
      "    plt.grid(True)\n"
     ],
     "language": "python",
     "metadata": {},
     "outputs": []
    },
    {
     "cell_type": "code",
     "collapsed": false,
     "input": [
      "plot_scale([10, 100, 1000], [0.1, 1, 20.], \"x\")"
     ],
     "language": "python",
     "metadata": {},
     "outputs": []
    },
    {
     "cell_type": "markdown",
     "metadata": {},
     "source": [
      "Write a different version of `%%scale` that also plots the results with `plot_scale`."
     ]
    },
    {
     "cell_type": "code",
     "collapsed": false,
     "input": [
      "%load soln/plotscale.py"
     ],
     "language": "python",
     "metadata": {},
     "outputs": []
    },
    {
     "cell_type": "code",
     "collapsed": false,
     "input": [
      "%%plotscale N [ int(2**p) for p in np.linspace(1, 9, 9) ]\n",
      "\n",
      "A = np.random.random((N,N))\n",
      "np.linalg.eigvals(A)\n"
     ],
     "language": "python",
     "metadata": {},
     "outputs": []
    },
    {
     "cell_type": "markdown",
     "metadata": {},
     "source": [
      "Now let's move on to [Extensions](Customizing%20IPython%20-%20Extensions.ipynb)"
     ]
    }
   ],
   "metadata": {}
  }
 ]
}