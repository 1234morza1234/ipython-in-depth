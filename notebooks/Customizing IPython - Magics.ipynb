{
 "metadata": {
  "name": ""
 },
 "nbformat": 3,
 "nbformat_minor": 0,
 "worksheets": [
  {
   "cells": [
    {
     "cell_type": "heading",
     "level": 1,
     "metadata": {},
     "source": [
      "Customizing IPython - Magics"
     ]
    },
    {
     "cell_type": "markdown",
     "metadata": {},
     "source": [
      "IPython extends Python by adding shell-like commands called **magics**."
     ]
    },
    {
     "cell_type": "code",
     "collapsed": false,
     "input": [
      "%lsmagic"
     ],
     "language": "python",
     "metadata": {},
     "outputs": []
    },
    {
     "cell_type": "heading",
     "level": 2,
     "metadata": {},
     "source": [
      "Defining your own magic"
     ]
    },
    {
     "cell_type": "markdown",
     "metadata": {},
     "source": [
      "As we have seen already, IPython has cell and line magics. You can define your own magics using any Python function and the `register_magic_function` method:"
     ]
    },
    {
     "cell_type": "code",
     "collapsed": false,
     "input": [
      "ip = get_ipython()"
     ],
     "language": "python",
     "metadata": {},
     "outputs": []
    },
    {
     "cell_type": "code",
     "collapsed": false,
     "input": [
      "def sleep_magic(line):\n",
      "    \"\"\"A simple function for sleeping\"\"\"\n",
      "    t = float(line)\n",
      "    import time\n",
      "    time.sleep(t)"
     ],
     "language": "python",
     "metadata": {},
     "outputs": []
    },
    {
     "cell_type": "code",
     "collapsed": false,
     "input": [
      "ip.register_magic_function(sleep_magic, \"line\", \"sleep\")"
     ],
     "language": "python",
     "metadata": {},
     "outputs": []
    },
    {
     "cell_type": "code",
     "collapsed": false,
     "input": [
      "%sleep 2"
     ],
     "language": "python",
     "metadata": {},
     "outputs": []
    },
    {
     "cell_type": "code",
     "collapsed": false,
     "input": [
      "%sleep?"
     ],
     "language": "python",
     "metadata": {},
     "outputs": []
    },
    {
     "cell_type": "code",
     "collapsed": false,
     "input": [
      "ip.register_magic_function?"
     ],
     "language": "python",
     "metadata": {},
     "outputs": []
    },
    {
     "cell_type": "heading",
     "level": 3,
     "metadata": {},
     "source": [
      "Exercise"
     ]
    },
    {
     "cell_type": "markdown",
     "metadata": {},
     "source": [
      "Define `%tic` and `%toc` magics, which can be use for simple timings, e.g. where\n",
      "\n",
      "```python\n",
      "for p in range(1,4):\n",
      "    N = 10**p\n",
      "    print \"N=%i\" % N\n",
      "    %tic\n",
      "    A = np.random.random((N,N))\n",
      "    np.linalg.eigvals(A)\n",
      "    %toc\n",
      "```\n",
      "\n",
      "each `%toc` will print the time since the last `%tic`. Create separate `tic` and `toc` functions that read and write\n",
      "a global time variable."
     ]
    },
    {
     "cell_type": "code",
     "collapsed": false,
     "input": [
      "%load soln/tictocf.py"
     ],
     "language": "python",
     "metadata": {},
     "outputs": []
    },
    {
     "cell_type": "code",
     "collapsed": false,
     "input": [
      "import numpy as np\n",
      "\n",
      "for p in range(1,4):\n",
      "    N = 10**p\n",
      "    print \"N=%i\" % N\n",
      "    sys.stdout.flush()\n",
      "    %tic\n",
      "    A = np.random.random((N,N))\n",
      "    np.linalg.eigvals(A)\n",
      "    %toc"
     ],
     "language": "python",
     "metadata": {},
     "outputs": []
    },
    {
     "cell_type": "heading",
     "level": 3,
     "metadata": {},
     "source": [
      "Cell Magic"
     ]
    },
    {
     "cell_type": "markdown",
     "metadata": {},
     "source": [
      "**Cell magics** take two args:\n",
      "\n",
      "1. the **line** on the same line of the magic \n",
      "2. the **cell** the multiline body of the cell after the first line"
     ]
    },
    {
     "cell_type": "code",
     "collapsed": false,
     "input": [
      "def dummy_cell_magic(line, cell):\n",
      "    print \"line: %r\" % line\n",
      "    print \"cell: %r\" % cell\n",
      "\n",
      "ip.register_magic_function(dummy_cell_magic, \"cell\", \"dummy\")"
     ],
     "language": "python",
     "metadata": {},
     "outputs": []
    },
    {
     "cell_type": "code",
     "collapsed": false,
     "input": [
      "%%dummy this is the line\n",
      "this\n",
      "is the\n",
      "cell"
     ],
     "language": "python",
     "metadata": {},
     "outputs": []
    },
    {
     "cell_type": "code",
     "collapsed": false,
     "input": [
      "def parse_magic_line(line):\n",
      "    name, values_s = line.split(None, 1)\n",
      "    values = eval(values_s, get_ipython().user_ns)\n",
      "    return name, values\n",
      "\n",
      "parse_magic_line(\"x range(5)\")"
     ],
     "language": "python",
     "metadata": {},
     "outputs": []
    },
    {
     "cell_type": "heading",
     "level": 4,
     "metadata": {},
     "source": [
      "Excercise"
     ]
    },
    {
     "cell_type": "markdown",
     "metadata": {},
     "source": [
      "Can you write and register a **cell magic** that automates the outer iteration,\n",
      "timing a block for various values of a particular variable:"
     ]
    },
    {
     "cell_type": "code",
     "collapsed": false,
     "input": [
      "%load soln/scalemagic.py"
     ],
     "language": "python",
     "metadata": {},
     "outputs": []
    },
    {
     "cell_type": "code",
     "collapsed": false,
     "input": [
      "%%scale N [ int(10**p) for p in range(1,4) ]\n",
      "\n",
      "A = np.random.random((N,N))\n",
      "np.linalg.eigvals(A)\n"
     ],
     "language": "python",
     "metadata": {},
     "outputs": []
    },
    {
     "cell_type": "code",
     "collapsed": false,
     "input": [
      "%%scale N [ int(2**p) for p in np.linspace(6, 11, 11) ]\n",
      "\n",
      "A = np.random.random((N,N))\n",
      "np.linalg.eigvals(A)\n"
     ],
     "language": "python",
     "metadata": {},
     "outputs": []
    },
    {
     "cell_type": "heading",
     "level": 2,
     "metadata": {},
     "source": [
      "Executing Notebooks"
     ]
    },
    {
     "cell_type": "markdown",
     "metadata": {},
     "source": [
      "We can load a notebook into memory using `IPython.nbformat`."
     ]
    },
    {
     "cell_type": "code",
     "collapsed": false,
     "input": [
      "import io\n",
      "import os\n",
      "\n",
      "from IPython.nbformat import current"
     ],
     "language": "python",
     "metadata": {},
     "outputs": []
    },
    {
     "cell_type": "code",
     "collapsed": false,
     "input": [
      "def load_notebook(filename):\n",
      "    \"\"\"load a notebook object from a filename\"\"\"\n",
      "    if not os.path.exists(filename) and not filename.endswith(\".ipynb\"):\n",
      "        filename = filename + \".ipynb\"\n",
      "    with io.open(filename) as f:\n",
      "        return current.read(f, 'json')\n"
     ],
     "language": "python",
     "metadata": {},
     "outputs": []
    },
    {
     "cell_type": "code",
     "collapsed": false,
     "input": [
      "nb = load_notebook(\"Sample\")"
     ],
     "language": "python",
     "metadata": {},
     "outputs": []
    },
    {
     "cell_type": "markdown",
     "metadata": {},
     "source": [
      "**A notebook is just a dictionary** with attribute access for convenience."
     ]
    },
    {
     "cell_type": "code",
     "collapsed": false,
     "input": [
      "nb.keys()"
     ],
     "language": "python",
     "metadata": {},
     "outputs": []
    },
    {
     "cell_type": "code",
     "collapsed": false,
     "input": [
      "nb.worksheets[0].keys()"
     ],
     "language": "python",
     "metadata": {},
     "outputs": []
    },
    {
     "cell_type": "code",
     "collapsed": false,
     "input": [
      "cells = nb.worksheets[0].cells\n",
      "cells"
     ],
     "language": "python",
     "metadata": {},
     "outputs": []
    },
    {
     "cell_type": "markdown",
     "metadata": {},
     "source": [
      "We can see all the cells and their type"
     ]
    },
    {
     "cell_type": "code",
     "collapsed": false,
     "input": [
      "for cell in cells:\n",
      "    print\n",
      "    print '----- %s -----' % cell.cell_type\n",
      "    if cell.cell_type == 'code':\n",
      "        print cell.input\n",
      "    else:\n",
      "        print cell.source"
     ],
     "language": "python",
     "metadata": {},
     "outputs": []
    },
    {
     "cell_type": "markdown",
     "metadata": {},
     "source": [
      "Now I can run all of the **code cells** with `get_ipython().run_cell`"
     ]
    },
    {
     "cell_type": "code",
     "collapsed": false,
     "input": [
      "for cell in cells:\n",
      "    ip = get_ipython()\n",
      "    if cell.cell_type == 'code':\n",
      "        ip.run_cell(cell.input, silent=True)"
     ],
     "language": "python",
     "metadata": {},
     "outputs": []
    },
    {
     "cell_type": "markdown",
     "metadata": {},
     "source": [
      "And we can now use the function that was defined in that notebook:"
     ]
    },
    {
     "cell_type": "code",
     "collapsed": false,
     "input": [
      "nb_info(load_notebook(\"Customizing IPython - Magics\"))"
     ],
     "language": "python",
     "metadata": {},
     "outputs": []
    },
    {
     "cell_type": "heading",
     "level": 3,
     "metadata": {},
     "source": [
      "Exercise"
     ]
    },
    {
     "cell_type": "markdown",
     "metadata": {},
     "source": [
      "Can you write and register an `%nbrun` line magic to run a notebook?\n",
      "\n",
      "```python\n",
      "%nbrun Sample\n",
      "```"
     ]
    },
    {
     "cell_type": "code",
     "collapsed": false,
     "input": [
      "%load soln/nbrun.py"
     ],
     "language": "python",
     "metadata": {},
     "outputs": [],
     "prompt_number": 71
    },
    {
     "cell_type": "code",
     "collapsed": false,
     "input": [
      "\n",
      "def nbrun(line):\n",
      "    \"\"\"given a filename, execute the notebook in IPython\"\"\"\n",
      "    nb = load_notebook(line)\n",
      "    ip = get_ipython()\n",
      "    for cell in nb.worksheets[0].cells:\n",
      "        if cell.cell_type == 'code':\n",
      "            ip.run_cell(cell.input, silent=True)\n",
      "    \n",
      "get_ipython().register_magic_function(nbrun)"
     ],
     "language": "python",
     "metadata": {},
     "outputs": []
    },
    {
     "cell_type": "code",
     "collapsed": false,
     "input": [
      "def nbrun(line):\n",
      "    \"\"\"given a filename, execute the notebook in IPython\"\"\"\n",
      "    nb = load_notebook(line)\n",
      "    ip = get_ipython()\n",
      "    for cell in nb.worksheets[0].cells:\n",
      "        if cell.cell_type == 'code':\n",
      "            ip.run_cell(cell.input, silent=True)\n",
      "    \n",
      "get_ipython().register_magic_function(nbrun)"
     ],
     "language": "python",
     "metadata": {},
     "outputs": []
    },
    {
     "cell_type": "code",
     "collapsed": false,
     "input": [
      "%nbrun Sample"
     ],
     "language": "python",
     "metadata": {},
     "outputs": []
    },
    {
     "cell_type": "markdown",
     "metadata": {},
     "source": [
      "The common way to make your magics reusable is to [write an Extension](Customizing%20IPython%20-%20Extensions.ipynb), so let's give that a try."
     ]
    }
   ],
   "metadata": {}
  }
 ]
}