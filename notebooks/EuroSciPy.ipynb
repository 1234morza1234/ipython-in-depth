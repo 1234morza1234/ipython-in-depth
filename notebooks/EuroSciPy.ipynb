{
 "metadata": {
  "name": ""
 },
 "nbformat": 3,
 "nbformat_minor": 0,
 "worksheets": [
  {
   "cells": [
    {
     "cell_type": "heading",
     "level": 1,
     "metadata": {
      "slideshow": {
       "slide_type": "slide"
      }
     },
     "source": [
      "IPython in depth tutorial"
     ]
    },
    {
     "cell_type": "heading",
     "level": 2,
     "metadata": {},
     "source": [
      "EuroSciPy 2013 edition"
     ]
    },
    {
     "cell_type": "markdown",
     "metadata": {},
     "source": [
      "  - Matthias Bussonnier : <i class=\"icon-twitter\"></i> @Mbussonn, <i class=\"icon-github\"></i>: @Carreau\n",
      "\n",
      "  - Min Ragan-Kelley : <i class=\"icon-github\"></i>,<i class=\"icon-twitter\"></i> @MinRK"
     ]
    },
    {
     "cell_type": "markdown",
     "metadata": {},
     "source": [
      "This tutorial material : https://github.com/ipython/ipython-in-depth <i class=\"icon-tags\"></i> EuroSciPy-2013, IPython 1.0+"
     ]
    },
    {
     "cell_type": "markdown",
     "metadata": {},
     "source": [
      "Please visit http://ipython.org , help chat room link on the right https://www.hipchat.com/ghSp7E1uY"
     ]
    },
    {
     "cell_type": "markdown",
     "metadata": {},
     "source": [
      "Quickstart:\n",
      "\n",
      "You need IPython 1.0. The quickest way to get it and any dependencies:\n",
      "\n",
      "```bash\n",
      "pip install --upgrade ipython[all]\n",
      "```\n",
      "\n",
      "For nbconvert in the second half of this tutorial, you will also need pandoc:\n",
      "\n",
      "```bash\n",
      "apt-get install pandoc\n",
      "```\n",
      "\n",
      "or install [from the website](http://johnmacfarlane.net/pandoc/installing.html) on Windows, etc.\n"
     ]
    },
    {
     "cell_type": "markdown",
     "metadata": {
      "slideshow": {
       "slide_type": "slide"
      }
     },
     "source": [
      "###Some other tutorial help/resources :\n",
      "\n",
      "   - Search for \"IPython in depth\" tutorial on youtube and pyvideo, much longer, much deeper\n",
      "   - ask help on Stackoverflow Tags it ipython/ipython-notebook\n",
      "   - Dev and User Mailing list both hosted as <mailto:ipython-dev@scipy.org>\n",
      "   - file a github issue on <http://github.com/ipython/ipython>\n",
      "   - Twitter\n",
      "   - Reddit\n",
      "   - Notebook Gallery\n",
      "     - full books\n",
      "   - ..."
     ]
    },
    {
     "cell_type": "heading",
     "level": 2,
     "metadata": {
      "slideshow": {
       "slide_type": "slide"
      }
     },
     "source": [
      "The Team"
     ]
    },
    {
     "cell_type": "markdown",
     "metadata": {},
     "source": [
      " - **Fernando P\u00e9rez**\n",
      " - **Brian Granger**\n",
      " - **Min Ragan-Kelley**\n",
      " - **Thomas Kluyver**\n",
      " - **Matthias Bussonnier**\n",
      " - **Paul Ivanov**\n",
      " - **Bradley M. Froehle**\n",
      " - **Jonathan Frederic**\n",
      " - **Zach Sailer**\n",
      " - Hundreds of others authors"
     ]
    },
    {
     "cell_type": "heading",
     "level": 2,
     "metadata": {
      "slideshow": {
       "slide_type": "slide"
      }
     },
     "source": [
      "IPython components"
     ]
    },
    {
     "cell_type": "markdown",
     "metadata": {},
     "source": [
      "  - The classic command line shell\n",
      "  - the qtconsole\n",
      "  - the ZMQ console\n",
      "  - the notebook\n",
      "  - Parallel machinery\n",
      "  \n",
      "also \n",
      "\n",
      "  - nbconvert\n",
      "  - [nbviewer](http://nbviewer.ipython.org/)"
     ]
    },
    {
     "cell_type": "heading",
     "level": 1,
     "metadata": {},
     "source": [
      "Thanks"
     ]
    },
    {
     "cell_type": "markdown",
     "metadata": {},
     "source": [
      "We thank the **Euroscipy organizers** for making Euroscipy happen,\n",
      "and both the **Alfred P. Sloan Foundation** and **Microsoft** for their generous financial support of IPython."
     ]
    },
    {
     "cell_type": "heading",
     "level": 2,
     "metadata": {
      "slideshow": {
       "slide_type": "slide"
      }
     },
     "source": [
      "Starting the notebook"
     ]
    },
    {
     "cell_type": "markdown",
     "metadata": {},
     "source": [
      "```bash\n",
      "$ cd /path/to/ipython-in-depth\n",
      "$ ipython notebook --ProfileDir.location=./profile_euroscipy\n",
      "```"
     ]
    },
    {
     "cell_type": "markdown",
     "metadata": {
      "slideshow": {
       "slide_type": "fragment"
      }
     },
     "source": [
      "```bash\n",
      "[NotebookApp] Using existing profile dir: u'~/dev/ipython-in-depth/profile_euroscipy'\n",
      "[NotebookApp] Using MathJax from CDN: https://c328740.ssl.cf1.rackcdn.com/mathjax/latest/MathJax.js\n",
      "[NotebookApp] Serving notebooks from local directory: ~/dev/ipython-in-depth/notebooks\n",
      "[NotebookApp] The IPython Notebook is running at: https://127.0.0.1:8888/\n",
      "[NotebookApp] Use Control-C to stop this server and shut down all kernels (twice to skip confirmation).\n",
      "[NotebookApp] Connecting to: tcp://127.0.0.1:53383\n",
      "[NotebookApp] Kernel started: f63842e3-7ccb-4e59-a44d-2c1bf01e8e91\n",
      "[NotebookApp] Connecting to: tcp://127.0.0.1:53380\n",
      "[NotebookApp] Connecting to: tcp://127.0.0.1:53382\n",
      "[NotebookApp] Connecting to: tcp://127.0.0.1:53381\n",
      "```"
     ]
    },
    {
     "cell_type": "markdown",
     "metadata": {
      "slideshow": {
       "slide_type": "slide"
      }
     },
     "source": [
      "Starting with different profiles :\n",
      "\n",
      "```bash\n",
      "$ ipython notebook --profile=<profile name>\n",
      "```\n",
      "\n",
      "```bash\n",
      "$ ipython notebook --ProfileDir.location=<profile dir>\n",
      "```"
     ]
    },
    {
     "cell_type": "markdown",
     "metadata": {},
     "source": [
      "Let's start with the following notebook\n",
      "\n",
      "[What's new in 1.0](What's%20new%20in%201.0.ipynb)"
     ]
    }
   ],
   "metadata": {}
  }
 ]
}