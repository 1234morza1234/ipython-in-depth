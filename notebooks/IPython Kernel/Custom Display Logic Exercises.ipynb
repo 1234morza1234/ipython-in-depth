{
 "metadata": {
  "name": "",
  "signature": "sha256:996a003006831be101e110300bd532c936e09a3d1eef823b868620e080089778"
 },
 "nbformat": 3,
 "nbformat_minor": 0,
 "worksheets": [
  {
   "cells": [
    {
     "cell_type": "heading",
     "level": 1,
     "metadata": {},
     "source": [
      "Custom Display Logic Exercises"
     ]
    },
    {
     "cell_type": "code",
     "collapsed": false,
     "input": [
      "from IPython.display import display\n",
      "from IPython.display import (\n",
      "    display_png, display_html, display_latex,\n",
      "    display_javascript, display_svg\n",
      ")"
     ],
     "language": "python",
     "metadata": {},
     "outputs": [],
     "prompt_number": 172
    },
    {
     "cell_type": "heading",
     "level": 2,
     "metadata": {},
     "source": [
      "Circle class with custom display methods"
     ]
    },
    {
     "cell_type": "markdown",
     "metadata": {},
     "source": [
      "Write a simple `MyCircle` Python class. Here is a skeleton to get you started:\n",
      "\n",
      "```python\n",
      "class MyCircle(object):\n",
      "    def __init__(self, center=(0.0,0.0), radius=1.0, color='blue'):\n",
      "        self.center = center\n",
      "        self.radius = radius\n",
      "        self.color = color\n",
      "```\n",
      "\n",
      "Now add special display methods to this class for the following representations (remember to wrap them in Python strings):\n",
      "\n",
      "For HTML:\n",
      "\n",
      "    &#x25CB;\n",
      "\n",
      "For SVG:\n",
      "\n",
      "    <svg width=\"100px\" height=\"100px\">\n",
      "        <circle cx=\"50\" cy=\"50\" r=\"20\" stroke=\"black\" stroke-width=\"1\" fill=\"white\"/>\n",
      "    </svg>\n",
      "\n",
      "For LaTeX (wrap with `$` and use a raw Python string):\n",
      "\n",
      "    \\bigcirc\n",
      "\n",
      "For JavaScript:\n",
      "\n",
      "    alert('I am a circle!');\n",
      "\n",
      "After you write the class, create an instance and then use `display_html`, `display_svg`, `display_latex` and `display_javascript` to display those representations."
     ]
    },
    {
     "cell_type": "heading",
     "level": 3,
     "metadata": {},
     "source": [
      "Solution"
     ]
    },
    {
     "cell_type": "markdown",
     "metadata": {},
     "source": [
      "Here is the solution to the simple `MyCircle` class:"
     ]
    },
    {
     "cell_type": "code",
     "collapsed": false,
     "input": [
      "%load soln/mycircle.py"
     ],
     "language": "python",
     "metadata": {},
     "outputs": [],
     "prompt_number": 174
    },
    {
     "cell_type": "markdown",
     "metadata": {},
     "source": [
      "Now create an instance and use the display methods:"
     ]
    },
    {
     "cell_type": "code",
     "collapsed": false,
     "input": [
      "c = MyCircle()"
     ],
     "language": "python",
     "metadata": {},
     "outputs": [],
     "prompt_number": 176
    },
    {
     "cell_type": "code",
     "collapsed": false,
     "input": [
      "display(c)"
     ],
     "language": "python",
     "metadata": {},
     "outputs": [
      {
       "html": [
        "&#x25CB; (<b>html</b>)"
       ],
       "javascript": [
        "alert('I am a circle!');"
       ],
       "latex": [
        "$\\bigcirc \\LaTeX$"
       ],
       "metadata": {},
       "output_type": "display_data",
       "svg": [
        "<svg width=\"100px\" height=\"100px\">\n",
        "           <circle cx=\"50\" cy=\"50\" r=\"20\" stroke=\"black\" stroke-width=\"1\" fill=\"blue\"/>\n",
        "        </svg>"
       ],
       "text": [
        "<__main__.MyCircle at 0x1085f7b50>"
       ]
      }
     ],
     "prompt_number": 177
    },
    {
     "cell_type": "code",
     "collapsed": false,
     "input": [
      "display_html(c)"
     ],
     "language": "python",
     "metadata": {},
     "outputs": [
      {
       "html": [
        "&#x25CB; (<b>html</b>)"
       ],
       "metadata": {},
       "output_type": "display_data"
      }
     ],
     "prompt_number": 178
    },
    {
     "cell_type": "code",
     "collapsed": false,
     "input": [
      "display_svg(c)"
     ],
     "language": "python",
     "metadata": {},
     "outputs": [
      {
       "metadata": {},
       "output_type": "display_data",
       "svg": [
        "<svg width=\"100px\" height=\"100px\">\n",
        "           <circle cx=\"50\" cy=\"50\" r=\"20\" stroke=\"black\" stroke-width=\"1\" fill=\"blue\"/>\n",
        "        </svg>"
       ]
      }
     ],
     "prompt_number": 179
    },
    {
     "cell_type": "code",
     "collapsed": false,
     "input": [
      "display_latex(c)"
     ],
     "language": "python",
     "metadata": {},
     "outputs": [
      {
       "latex": [
        "$\\bigcirc \\LaTeX$"
       ],
       "metadata": {},
       "output_type": "display_data"
      }
     ],
     "prompt_number": 180
    },
    {
     "cell_type": "code",
     "collapsed": false,
     "input": [
      "display_javascript(c)"
     ],
     "language": "python",
     "metadata": {},
     "outputs": [
      {
       "javascript": [
        "alert('I am a circle!');"
       ],
       "metadata": {},
       "output_type": "display_data"
      }
     ],
     "prompt_number": 181
    },
    {
     "cell_type": "heading",
     "level": 2,
     "metadata": {},
     "source": [
      "PNG formatter for `MyCircle`"
     ]
    },
    {
     "cell_type": "code",
     "collapsed": false,
     "input": [
      "%matplotlib inline\n",
      "from matplotlib import pyplot as plt"
     ],
     "language": "python",
     "metadata": {},
     "outputs": [],
     "prompt_number": 184
    },
    {
     "cell_type": "markdown",
     "metadata": {},
     "source": [
      "Now let's assume that the `MyCircle` class has already been defined and add a PNG representation using a formatter display function. Here is a function that converts a `MyCircle` instance to raw PNG data."
     ]
    },
    {
     "cell_type": "code",
     "collapsed": false,
     "input": [
      "from IPython.core.pylabtools import print_figure\n",
      "\n",
      "def circle_to_png(circle):\n",
      "    \"\"\"Render AnotherCircle to png data using matplotlib\"\"\"\n",
      "    fig, ax = plt.subplots()\n",
      "    patch = plt.Circle(circle.center,\n",
      "                       radius=circle.radius,\n",
      "                       fc=circle.color,\n",
      "                       )\n",
      "    ax.add_patch(patch)\n",
      "    plt.axis('scaled')\n",
      "    data = print_figure(fig, 'png')\n",
      "    # We MUST close the figure, otherwise IPython's display machinery\n",
      "    # will pick it up and send it as output, resulting in a double display\n",
      "    plt.close(fig)\n",
      "    return data"
     ],
     "language": "python",
     "metadata": {},
     "outputs": [],
     "prompt_number": 185
    },
    {
     "cell_type": "markdown",
     "metadata": {},
     "source": [
      "Now use the IPython API to get the PNG formatter (`image/png`) and call the `for_type` method to register `circle_to_png` as the display function for `MyCircle`."
     ]
    },
    {
     "cell_type": "code",
     "collapsed": false,
     "input": [
      "%load soln/mycircle_png.py"
     ],
     "language": "python",
     "metadata": {},
     "outputs": [],
     "prompt_number": 186
    },
    {
     "cell_type": "code",
     "collapsed": false,
     "input": [
      "display_png(c)"
     ],
     "language": "python",
     "metadata": {},
     "outputs": [
      {
       "metadata": {},
       "output_type": "display_data",
       "png": "[encoded data removed]"
      }
     ],
     "prompt_number": 188
    },
    {
     "cell_type": "heading",
     "level": 2,
     "metadata": {},
     "source": [
      "PNG formatter for NumPy arrays"
     ]
    },
    {
     "cell_type": "markdown",
     "metadata": {},
     "source": [
      "In this exercise, you will register a display formatter function that generates a PNG representation of a 2d NumPy array. Here is the function that uses the [Python Imaging Library (PIL)](http://www.pythonware.com/products/pil/) to generate the raw PNG data:"
     ]
    },
    {
     "cell_type": "code",
     "collapsed": false,
     "input": [
      "from PIL import Image\n",
      "from io import BytesIO\n",
      "import numpy as np\n",
      "\n",
      "def ndarray_to_png(x):\n",
      "    if len(x.shape) != 2: return\n",
      "    x = np.asarray(Image.fromarray(x).resize((500, 500)))\n",
      "    x = (x - x.min()) / (x.max() - x.min())\n",
      "    img = Image.fromarray((x*256).astype('uint8'))\n",
      "    img_buffer = BytesIO()\n",
      "    img.save(img_buffer, format='png')\n",
      "    return img_buffer.getvalue()"
     ],
     "language": "python",
     "metadata": {},
     "outputs": [],
     "prompt_number": 166
    },
    {
     "cell_type": "markdown",
     "metadata": {},
     "source": [
      "Use the `for_type` method of the PNG formatter to register `ndarray_to_png` as the display function for `np.ndarray`."
     ]
    },
    {
     "cell_type": "code",
     "collapsed": false,
     "input": [
      "%load soln/ndarray_png.py"
     ],
     "language": "python",
     "metadata": {},
     "outputs": [],
     "prompt_number": 189
    },
    {
     "cell_type": "code",
     "collapsed": false,
     "input": [
      "ip = get_ipython()\n",
      "png_f = ip.display_formatter.formatters['image/png']\n",
      "png_f.for_type(np.ndarray, ndarray_to_png)"
     ],
     "language": "python",
     "metadata": {},
     "outputs": [
      {
       "metadata": {},
       "output_type": "pyout",
       "prompt_number": 190,
       "text": [
        "<function __main__.ndarray_to_png>"
       ]
      }
     ],
     "prompt_number": 190
    },
    {
     "cell_type": "markdown",
     "metadata": {},
     "source": [
      "Now create a few NumPy arrays and display them. Notice that their default representation in the Notebook is PNG rather than text."
     ]
    },
    {
     "cell_type": "code",
     "collapsed": false,
     "input": [
      "a = np.random.rand(100,100)"
     ],
     "language": "python",
     "metadata": {},
     "outputs": [],
     "prompt_number": 195
    },
    {
     "cell_type": "code",
     "collapsed": false,
     "input": [
      "a"
     ],
     "language": "python",
     "metadata": {},
     "outputs": [
      {
       "metadata": {},
       "output_type": "pyout",
       "png": "[encoded data removed]",
       "prompt_number": 196,
       "text": [
        "array([[ 0.30481452,  0.05736586,  0.4255775 , ...,  0.23537514,\n",
        "         0.03158251,  0.62849084],\n",
        "       [ 0.72498148,  0.44738341,  0.99729642, ...,  0.46707995,\n",
        "         0.44105211,  0.40351412],\n",
        "       [ 0.41360316,  0.36819245,  0.70410881, ...,  0.44231802,\n",
        "         0.36552906,  0.2058796 ],\n",
        "       ..., \n",
        "       [ 0.14790116,  0.926305  ,  0.98436804, ...,  0.55422092,\n",
        "         0.14865269,  0.84016133],\n",
        "       [ 0.04166068,  0.68170272,  0.16654498, ...,  0.18961076,\n",
        "         0.76691124,  0.09619053],\n",
        "       [ 0.70155919,  0.19370417,  0.09076962, ...,  0.10288288,\n",
        "         0.55136073,  0.82560294]])"
       ]
      }
     ],
     "prompt_number": 196
    },
    {
     "cell_type": "markdown",
     "metadata": {},
     "source": [
      "You can still display the plain text representation using the `display_pretty` function."
     ]
    },
    {
     "cell_type": "code",
     "collapsed": false,
     "input": [
      "from IPython.display import display_pretty"
     ],
     "language": "python",
     "metadata": {},
     "outputs": [],
     "prompt_number": 197
    },
    {
     "cell_type": "code",
     "collapsed": false,
     "input": [
      "display_pretty(a)"
     ],
     "language": "python",
     "metadata": {},
     "outputs": [
      {
       "metadata": {},
       "output_type": "display_data",
       "text": [
        "array([[ 0.30481452,  0.05736586,  0.4255775 , ...,  0.23537514,\n",
        "         0.03158251,  0.62849084],\n",
        "       [ 0.72498148,  0.44738341,  0.99729642, ...,  0.46707995,\n",
        "         0.44105211,  0.40351412],\n",
        "       [ 0.41360316,  0.36819245,  0.70410881, ...,  0.44231802,\n",
        "         0.36552906,  0.2058796 ],\n",
        "       ..., \n",
        "       [ 0.14790116,  0.926305  ,  0.98436804, ...,  0.55422092,\n",
        "         0.14865269,  0.84016133],\n",
        "       [ 0.04166068,  0.68170272,  0.16654498, ...,  0.18961076,\n",
        "         0.76691124,  0.09619053],\n",
        "       [ 0.70155919,  0.19370417,  0.09076962, ...,  0.10288288,\n",
        "         0.55136073,  0.82560294]])"
       ]
      }
     ],
     "prompt_number": 198
    },
    {
     "cell_type": "code",
     "collapsed": false,
     "input": [
      "b = np.linspace(0,100.0, 100**2).reshape((100,100))"
     ],
     "language": "python",
     "metadata": {},
     "outputs": [],
     "prompt_number": 193
    },
    {
     "cell_type": "code",
     "collapsed": false,
     "input": [
      "b"
     ],
     "language": "python",
     "metadata": {},
     "outputs": [
      {
       "metadata": {},
       "output_type": "pyout",
       "png": "[encoded data removed]",
       "prompt_number": 194,
       "text": [
        "array([[  0.00000000e+00,   1.00010001e-02,   2.00020002e-02, ...,\n",
        "          9.70097010e-01,   9.80098010e-01,   9.90099010e-01],\n",
        "       [  1.00010001e+00,   1.01010101e+00,   1.02010201e+00, ...,\n",
        "          1.97019702e+00,   1.98019802e+00,   1.99019902e+00],\n",
        "       [  2.00020002e+00,   2.01020102e+00,   2.02020202e+00, ...,\n",
        "          2.97029703e+00,   2.98029803e+00,   2.99029903e+00],\n",
        "       ..., \n",
        "       [  9.70097010e+01,   9.70197020e+01,   9.70297030e+01, ...,\n",
        "          9.79797980e+01,   9.79897990e+01,   9.79998000e+01],\n",
        "       [  9.80098010e+01,   9.80198020e+01,   9.80298030e+01, ...,\n",
        "          9.89798980e+01,   9.89898990e+01,   9.89999000e+01],\n",
        "       [  9.90099010e+01,   9.90199020e+01,   9.90299030e+01, ...,\n",
        "          9.99799980e+01,   9.99899990e+01,   1.00000000e+02]])"
       ]
      }
     ],
     "prompt_number": 194
    }
   ],
   "metadata": {}
  }
 ]
}