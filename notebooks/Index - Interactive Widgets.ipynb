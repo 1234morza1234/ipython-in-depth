{
 "metadata": {
  "name": "",
  "signature": "sha256:0f356a0a9c917fc2c1572f635fa78c582fd3e5ac8a9f0452b3aa0d3ea487c5e0"
 },
 "nbformat": 3,
 "nbformat_minor": 0,
 "worksheets": [
  {
   "cells": [
    {
     "cell_type": "heading",
     "level": 1,
     "metadata": {},
     "source": [
      "IPython Interactive Widgets"
     ]
    },
    {
     "cell_type": "heading",
     "level": 2,
     "metadata": {},
     "source": [
      "PyData 2014 tutorial"
     ]
    },
    {
     "cell_type": "markdown",
     "metadata": {},
     "source": [
      "Class outline:\n",
      "\n",
      "* A quick [installation check](http://ipython.org/install.html)\n",
      "* [Notebook Basics](Notebook Basics.ipynb)\n",
      "* __TODO: Brian's notebooks below__\n",
      "* [Rich Display System](Rich Display System.ipynb)\n",
      "* [Introduction to Interact](Interactive Widgets/Interact.ipynb)\n",
      "* __TODO: Jon's notebooks below__\n",
      "* [Introduction to Widgets](Interactive Widgets/Simple Widgets.ipynb)\n",
      "* [Quick list of Widgets](Interactive Widgets/Widget List.ipynb)\n",
      "* [Widget Events](Interactive Widgets/Widget Events.ipynb)\n",
      "* [Widget Styling](Interactive Widgets/Widget Styling.ipynb)\n",
      "* [Custom Widget: Hello World](Interactive Widgets/Custom Widget - Hello World.ipynb)\n",
      "* [Custom Widget: Spreadsheet](Interactive Widgets/Custom Widget - Spreadsheet.ipynb)\n"
     ]
    },
    {
     "cell_type": "code",
     "collapsed": false,
     "input": [],
     "language": "python",
     "metadata": {},
     "outputs": []
    }
   ],
   "metadata": {}
  }
 ]
}