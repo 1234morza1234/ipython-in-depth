{
 "metadata": {
  "name": "",
  "signature": "sha256:df401cf9aad8935d598ac7352219ad4ce5f25141f661d189a9d941e580ccbefc"
 },
 "nbformat": 3,
 "nbformat_minor": 0,
 "worksheets": [
  {
   "cells": [
    {
     "cell_type": "heading",
     "level": 1,
     "metadata": {},
     "source": [
      "IPython Display System and Interactive Widgets"
     ]
    },
    {
     "cell_type": "heading",
     "level": 2,
     "metadata": {},
     "source": [
      "PyData 2014 tutorial"
     ]
    },
    {
     "cell_type": "heading",
     "level": 2,
     "metadata": {},
     "source": [
      "Introduction and Installation"
     ]
    },
    {
     "cell_type": "markdown",
     "metadata": {},
     "source": [
      "* A quick [installation check](http://ipython.org/install.html)\n",
      "* [What is the IPython Notebook?](Notebook/What is the IPython Notebook%3F.ipynb)\n",
      "* [Notebook Basics](Notebook/Notebook Basics.ipynb)\n",
      "* [Running Code](Notebook/Running Code.ipynb)\n",
      "* [Notebook Exercises](Notebook/Notebook Exercises.ipynb)"
     ]
    },
    {
     "cell_type": "heading",
     "level": 2,
     "metadata": {},
     "source": [
      "Display of rich output formats"
     ]
    },
    {
     "cell_type": "markdown",
     "metadata": {},
     "source": [
      "* [Rich Display System](IPython Kernel/Displaying Rich Output Formats.ipynb)"
     ]
    },
    {
     "cell_type": "heading",
     "level": 2,
     "metadata": {},
     "source": [
      "Interactive Widgets"
     ]
    },
    {
     "cell_type": "markdown",
     "metadata": {},
     "source": [
      "* [Using Interact](Interactive Widgets/Using Interact.ipynb)\n",
      "* [Interact Exercises](Interactive Widgets/Interact Exercises.ipynb)\n",
      "* [Introduction to Widgets](Interactive Widgets/Simple Widgets.ipynb)\n",
      "* [Quick list of Widgets](Interactive Widgets/Widget List.ipynb)\n",
      "* [Widget Events](Interactive Widgets/Widget Events.ipynb)\n",
      "* [Widget Styling](Interactive Widgets/Widget Styling.ipynb)\n",
      "* [Custom Widget: Hello World](Interactive Widgets/Hello World.ipynb)"
     ]
    }
   ],
   "metadata": {}
  }
 ]
}