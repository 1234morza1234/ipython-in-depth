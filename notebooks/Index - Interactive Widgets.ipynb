{
 "metadata": {
  "name": "",
  "signature": "sha256:84f9cc5710f6a628130f0a875d28c1f7627b3009ca24ac2565f7cbcb4de337eb"
 },
 "nbformat": 3,
 "nbformat_minor": 0,
 "worksheets": [
  {
   "cells": [
    {
     "cell_type": "heading",
     "level": 1,
     "metadata": {},
     "source": [
      "IPython Interactive Widgets"
     ]
    },
    {
     "cell_type": "heading",
     "level": 2,
     "metadata": {},
     "source": [
      "PyData 2014 tutorial"
     ]
    },
    {
     "cell_type": "markdown",
     "metadata": {},
     "source": [
      "Class outline:\n",
      "\n",
      "* A quick [installation check](http://ipython.org/install.html)\n",
      "* [Notebook Basics](Notebook/Notebook Basics.ipynb)\n",
      "* __TODO: Brian's notebooks below__\n",
      "* [Rich Display System](IPython Kernel/Displaying Rich Output Formats.ipynb)\n",
      "* [Introduction to Interact](Interactive Widgets/Interact.ipynb)\n",
      "* __TODO: Jon's notebooks below__\n",
      "* [Introduction to Widgets](Interactive Widgets/Simple Widgets.ipynb)\n",
      "* [Quick list of Widgets](Interactive Widgets/Widget List.ipynb)\n",
      "* [Widget Events](Interactive Widgets/Widget Events.ipynb)\n",
      "* [Widget Styling](Interactive Widgets/Widget Styling.ipynb)\n",
      "* [Custom Widget: Hello World](Interactive Widgets/Custom Widget - Hello World.ipynb)\n",
      "* [Custom Widget: Spreadsheet](Interactive Widgets/Custom Widget - Spreadsheet.ipynb)\n"
     ]
    },
    {
     "cell_type": "code",
     "collapsed": false,
     "input": [],
     "language": "python",
     "metadata": {},
     "outputs": []
    }
   ],
   "metadata": {}
  }
 ]
}