{
 "metadata": {
  "name": "",
  "signature": "sha256:c831c34af3dee0ad47304bc36384a228c87d344c07d39432e4db33875ca15eb1"
 },
 "nbformat": 3,
 "nbformat_minor": 0,
 "worksheets": [
  {
   "cells": [
    {
     "cell_type": "markdown",
     "metadata": {},
     "source": [
      "# IPython: a PyCon 2014 tutorial\n",
      "\n",
      "Class outline:\n",
      "\n",
      "* A quick [installation check](http://ipython.org/install.html)\n",
      "* An overview of the IPython project from [the official website](http://ipython.org).\n",
      "* Super basic intro to the notebook: typing code.\n",
      "* [IPython - beyond plain python](01 - IPython - beyond plain Python.ipynb)\n",
      "\n",
      "* [Notebook Basics](00 - Notebook Basics.ipynb)\n",
      "* [Running Code](Running Code.ipynb)\n",
      "* [Markdown Cells](02 - Markdown Cells.ipynb)\n",
      "* [Rich Display System](03 - Rich Display System.ipynb)\n",
      "\n",
      "* [Introduction to Interactive Javascript Widgets](Interactive Widgets.ipynb)\n",
      "\n",
      "* [Customizing IPython - a condensed version](Customizing IPython - Condensed.ipynb)\n",
      "* [Running a Secure Public Notebook Server](Running a Secure Public Notebook.ipynb)"
     ]
    },
    {
     "cell_type": "markdown",
     "metadata": {},
     "source": [
      "There are a lot more detailed notebooks in this same directory that cover other topics, but we can not cover all in a 3-hour tutorial. We encourage you to explore them and practice on your own.\n",
      "\n",
      "For even more detail, you can visit our [example collection](http://nbviewer.ipython.org/github/ipython/ipython/blob/master/examples/Index.ipynb) from our site, also included in the IPython source code repository."
     ]
    }
   ],
   "metadata": {}
  }
 ]
}