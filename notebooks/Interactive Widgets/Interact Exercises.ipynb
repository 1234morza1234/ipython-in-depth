{
 "metadata": {
  "name": "",
  "signature": "sha256:4ec0e7385b09f59c2acf2d25432c653e8841d9f9c2e292e4ed2d31ece404ca4e"
 },
 "nbformat": 3,
 "nbformat_minor": 0,
 "worksheets": [
  {
   "cells": [
    {
     "cell_type": "heading",
     "level": 1,
     "metadata": {},
     "source": [
      "Interact Exercises"
     ]
    },
    {
     "cell_type": "markdown",
     "metadata": {},
     "source": [
      "Write a function that takes a string as its input and prints a new string consisting of the original one, sorted.  Add a `reverse` optional parameter to allow for the sorting to be done in reverse.\n",
      "\n",
      "Then, create an "
     ]
    },
    {
     "cell_type": "code",
     "collapsed": false,
     "input": [],
     "language": "python",
     "metadata": {},
     "outputs": []
    }
   ],
   "metadata": {}
  }
 ]
}