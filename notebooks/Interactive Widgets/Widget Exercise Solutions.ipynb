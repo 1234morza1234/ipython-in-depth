{
 "metadata": {
  "name": "",
  "signature": "sha256:be52134cbb643d74a8001df36363fb2ded8547b8721c22c0260b306674f7fb84"
 },
 "nbformat": 3,
 "nbformat_minor": 0,
 "worksheets": [
  {
   "cells": [
    {
     "cell_type": "heading",
     "level": 1,
     "metadata": {},
     "source": [
      "Widget Exercises"
     ]
    },
    {
     "cell_type": "heading",
     "level": 2,
     "metadata": {},
     "source": [
      "Widget basics"
     ]
    },
    {
     "cell_type": "markdown",
     "metadata": {},
     "source": [
      "### Exercise 1\n",
      "Create and display a `TextWidget`.  Change that widget's `value` and some of it's other properties.  Discover the other properties by querying the `keys` property of the instance.  \n",
      "*Hint: You'll need to import from IPython.html.widgets and IPython.display.*"
     ]
    },
    {
     "cell_type": "code",
     "collapsed": false,
     "input": [
      "from IPython.html.widgets import *\n",
      "from IPython.display import display\n",
      "w = TextWidget(value=\"test\")\n",
      "display(w)\n",
      "w.keys"
     ],
     "language": "python",
     "metadata": {},
     "outputs": [
      {
       "metadata": {},
       "output_type": "pyout",
       "prompt_number": 1,
       "text": [
        "['_view_name',\n",
        " 'description',\n",
        " 'msg_throttle',\n",
        " '_css',\n",
        " 'value',\n",
        " 'disabled',\n",
        " 'visible',\n",
        " 'placeholder']"
       ]
      }
     ],
     "prompt_number": 1
    },
    {
     "cell_type": "heading",
     "level": 2,
     "metadata": {},
     "source": [
      "Widget list"
     ]
    },
    {
     "cell_type": "heading",
     "level": 3,
     "metadata": {},
     "source": [
      "Exercise 1"
     ]
    },
    {
     "cell_type": "markdown",
     "metadata": {},
     "source": [
      "Create and display one of the selection widgets (dropdown, select, radiobuttons, or togglebuttons).  Use the dictionary syntax to set the list of possible values.  Try reading and setting the value programmatically."
     ]
    },
    {
     "cell_type": "code",
     "collapsed": false,
     "input": [
      "w = RadioButtonsWidget(values={\"Left\": 0, \"Center\": 1, \"Right\": 2}, description=\"Alignment:\")\n",
      "display(w)"
     ],
     "language": "python",
     "metadata": {},
     "outputs": [],
     "prompt_number": 2
    },
    {
     "cell_type": "code",
     "collapsed": false,
     "input": [
      "w.value"
     ],
     "language": "python",
     "metadata": {},
     "outputs": [
      {
       "metadata": {},
       "output_type": "pyout",
       "prompt_number": 3,
       "text": [
        "2"
       ]
      }
     ],
     "prompt_number": 3
    },
    {
     "cell_type": "code",
     "collapsed": false,
     "input": [
      "w.value = 1"
     ],
     "language": "python",
     "metadata": {},
     "outputs": [],
     "prompt_number": 4
    },
    {
     "cell_type": "heading",
     "level": 3,
     "metadata": {},
     "source": [
      "Exercise 2"
     ]
    },
    {
     "cell_type": "markdown",
     "metadata": {},
     "source": [
      "Use a link to link the values of a `TextareaWidget` and, an `HTMLWidget` or a `LatexWidget`.  Display the widgets and try typing Latex and HTML in the textarea.  \n",
      "*Hint: Look at the Widget Basics notebook for an example of how to use link.*"
     ]
    },
    {
     "cell_type": "code",
     "collapsed": false,
     "input": [
      "from IPython.utils.traitlets import link\n",
      "code = TextareaWidget(description=\"Source:\", value=\"Cool math: $\\\\frac{F}{m}=a$\")\n",
      "preview = LatexWidget()\n",
      "display(code, preview)\n",
      "mylink = link((code, 'value'), (preview, 'value'))"
     ],
     "language": "python",
     "metadata": {},
     "outputs": [],
     "prompt_number": 5
    },
    {
     "cell_type": "heading",
     "level": 2,
     "metadata": {},
     "source": [
      "Widget events"
     ]
    },
    {
     "cell_type": "heading",
     "level": 3,
     "metadata": {},
     "source": [
      "Exercise 1"
     ]
    },
    {
     "cell_type": "markdown",
     "metadata": {},
     "source": [
      "Create and display a `TextWidget`.  Use the `on_submit` event to print the value of the textbox just before you clear it.  \n",
      "*Hint: The `on_submit` callback must accept one argument, the `sender`.*"
     ]
    },
    {
     "cell_type": "code",
     "collapsed": false,
     "input": [
      "w = TextWidget()\n",
      "def handle_submit(sender):\n",
      "    print(sender.value)\n",
      "w.on_submit(handle_submit)\n",
      "w"
     ],
     "language": "python",
     "metadata": {},
     "outputs": [],
     "prompt_number": 6
    },
    {
     "cell_type": "heading",
     "level": 3,
     "metadata": {},
     "source": [
      "Exercise 2"
     ]
    },
    {
     "cell_type": "markdown",
     "metadata": {},
     "source": [
      "Create and display a `TextWidget`.  Use the `on_trait_change` method to register a callback that prints the value of the textbox without clearing it.  Observe the difference in behavior to Exercise 1."
     ]
    },
    {
     "cell_type": "code",
     "collapsed": false,
     "input": [
      "w = TextWidget()\n",
      "def handle_submit(name, new):\n",
      "    print(new)\n",
      "w.on_trait_change(handle_submit, 'value')\n",
      "w"
     ],
     "language": "python",
     "metadata": {},
     "outputs": [],
     "prompt_number": 7
    },
    {
     "cell_type": "heading",
     "level": 2,
     "metadata": {},
     "source": [
      "Widget styling"
     ]
    },
    {
     "cell_type": "heading",
     "level": 3,
     "metadata": {},
     "source": [
      "Exercise 1"
     ]
    },
    {
     "cell_type": "markdown",
     "metadata": {},
     "source": [
      "Create and display an `HTMLWidget` with a value of your choice (i.e. \"Hello World\").  Use `set_css` to change that widget's background color and font color."
     ]
    },
    {
     "cell_type": "code",
     "collapsed": false,
     "input": [
      "w = HTMLWidget(value=\"Hello world!\")\n",
      "w.set_css({\n",
      "    'background': 'red',\n",
      "    'color': 'yellow',\n",
      "})\n",
      "w"
     ],
     "language": "python",
     "metadata": {},
     "outputs": [],
     "prompt_number": 8
    },
    {
     "cell_type": "heading",
     "level": 3,
     "metadata": {},
     "source": [
      "Exercise 2"
     ]
    },
    {
     "cell_type": "markdown",
     "metadata": {},
     "source": [
      "Create an array of 10 or more vertical sliders.  Align the sliders using a container so they look like an equalizer.  \n",
      "*Hint: Refer to the Widget List notebook for an example of how to display a vertical slider.*"
     ]
    },
    {
     "cell_type": "code",
     "collapsed": false,
     "input": [
      "sliders = [FloatSliderWidget(description=str(i), orientation=\"vertical\", value=50.) for i in range(10)]\n",
      "container = ContainerWidget(children=sliders)\n",
      "display(container)\n",
      "container.remove_class('vbox')\n",
      "container.add_class('hbox')"
     ],
     "language": "python",
     "metadata": {},
     "outputs": [],
     "prompt_number": 9
    }
   ],
   "metadata": {}
  }
 ]
}