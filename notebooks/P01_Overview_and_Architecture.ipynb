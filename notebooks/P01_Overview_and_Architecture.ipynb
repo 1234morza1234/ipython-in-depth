{
 "metadata": {
  "name": "P01_Overview_and_Architecture"
 },
 "nbformat": 2,
 "worksheets": [
  {
   "cells": [
    {
     "cell_type": "markdown",
     "source": [
      "# Overview and getting started"
     ]
    },
    {
     "cell_type": "markdown",
     "source": [
      "## Introduction",
      "",
      "IPython is a tool for interactive and exploratory computing.",
      "We have seen that IPython's kernel provides a mechanism for interactive",
      "*remote* computation, and we have extended this same mechanism for",
      "interactive remote *parallel* computation, simply by having multiple",
      "kernels."
     ]
    },
    {
     "cell_type": "code",
     "collapsed": false,
     "input": [
      "from IPython.core.display import *",
      "Image(filename=\"figs/wideView400.png\")"
     ],
     "language": "python",
     "outputs": [
      {
       "output_type": "pyout",
       "png": "[encoded data removed]",
       "prompt_number": 1,
       "text": [
        "<IPython.core.display.Image at 0x10407d210>"
       ]
      }
     ],
     "prompt_number": 1
    },
    {
     "cell_type": "markdown",
     "source": [
      "## Architecture overview",
      "",
      "The IPython architecture consists of four components:",
      "",
      "-   The IPython engine",
      "-   The IPython hub",
      "-   The IPython schedulers",
      "-   The cluster client",
      "",
      "These components live in the `IPython.parallel` package and are",
      "installed with IPython."
     ]
    },
    {
     "cell_type": "markdown",
     "source": [
      "### IPython engine",
      "",
      "The Engine is simply a remote Python namespace where your code is run,",
      "and is a modified version of the kernel used elsewhere in IPython."
     ]
    },
    {
     "cell_type": "markdown",
     "source": [
      "### IPython controller",
      "",
      "The Schedulers and Hub together comprise the Controller, which provides",
      "a single connection point for your clients and engines.  Each Scheduler is a small GIL-less function in C provided",
      "by pyzmq (the Python load-balancing scheduler being an exception),",
      "which handle relaying of messages between clients and engines.",
      "",
      "The Hub can be viewed as an \u00fcber-logger, which monitors all communication",
      "between clients and engines, and logs to a database (SQLite or MongoDB)",
      "for later retrieval.  The Hub is not involved in execution in any way,",
      "and a slow Hub cannot slow down submission of tasks."
     ]
    },
    {
     "cell_type": "markdown",
     "source": [
      "#### Schedulers",
      "",
      "All actions that can be performed on the engine go through a Scheduler.",
      "While the engines themselves block when user code is run, the schedulers",
      "hide that from the user to provide a fully asynchronous interface to a",
      "set of engines.  "
     ]
    },
    {
     "cell_type": "markdown",
     "source": [
      "## \u00d8MQ and PyZMQ",
      "",
      "All of this is implemented with the lovely \u00d8MQ messaging library,",
      "and pyzmq, the lightweight Python bindings, which allows very fast",
      "zero-copy communication of objects like numpy arrays."
     ]
    },
    {
     "cell_type": "markdown",
     "source": [
      "## IPython client and views",
      "",
      "There is one primary object, the `Client`, for",
      "connecting to a cluster. For each execution model, there is a",
      "corresponding `View`, and you manipulate how your work should",
      "be assigned on the cluster by creating different views or",
      "manipulating attributes of views.",
      "",
      "The two basic views:",
      "",
      "-   The `DirectView` class for explicit addressing.",
      "-   The `LoadBalancedView` class for destination-agnostic",
      "    scheduling."
     ]
    },
    {
     "cell_type": "markdown",
     "source": [
      "## Getting Started",
      "",
      "## Starting the IPython controller and engines",
      "",
      "To follow along with this tutorial, you will need to start the IPython",
      "controller and four IPython engines. The simplest way of doing this is",
      "to use the `ipcluster` command:",
      "",
      "    $ ipcluster start -n 4",
      "",
      "There isn't time to go into it here, but ipcluster can be used to start engines",
      "and the controller with various batch systems including:",
      "",
      "* SGE",
      "* PBS",
      "* LSF",
      "* MPI",
      "* SSH",
      "* WinHPC",
      "",
      "More information on starting and configuring the IPython cluster in ",
      "[the IPython.parallel docs](http://ipython.org/ipython-doc/dev/parallel/parallel_process.html).",
      "",
      "Once you have started the IPython controller and one or more engines,",
      "you are ready to use the engines to do something useful. ",
      "",
      "To make sure everything is working correctly, let's do a very simple demo:"
     ]
    },
    {
     "cell_type": "code",
     "collapsed": false,
     "input": [
      "from IPython import parallel",
      "rc = parallel.Client()",
      "rc.block = True"
     ],
     "language": "python",
     "outputs": [],
     "prompt_number": 3
    },
    {
     "cell_type": "code",
     "collapsed": false,
     "input": [
      "rc.ids"
     ],
     "language": "python",
     "outputs": [
      {
       "output_type": "pyout",
       "prompt_number": 4,
       "text": [
        "[0, 1, 2, 3]"
       ]
      }
     ],
     "prompt_number": 4
    },
    {
     "cell_type": "code",
     "collapsed": false,
     "input": [
      "def mul(a,b):",
      "    return a*b"
     ],
     "language": "python",
     "outputs": [],
     "prompt_number": 5
    },
    {
     "cell_type": "code",
     "collapsed": false,
     "input": [
      "mul(5,6)"
     ],
     "language": "python",
     "outputs": [
      {
       "output_type": "pyout",
       "prompt_number": 6,
       "text": [
        "30"
       ]
      }
     ],
     "prompt_number": 6
    },
    {
     "cell_type": "markdown",
     "source": [
      "What does it look like to call this function remotely?",
      "",
      "Just turn `f(*args, **kwargs)` into `view.apply(f, *args, **kwargs)`!"
     ]
    },
    {
     "cell_type": "code",
     "collapsed": false,
     "input": [
      "rc[0].apply(mul, 5, 6)"
     ],
     "language": "python",
     "outputs": [
      {
       "output_type": "pyout",
       "prompt_number": 7,
       "text": [
        "30"
       ]
      }
     ],
     "prompt_number": 7
    },
    {
     "cell_type": "markdown",
     "source": [
      "And the same thing in parallel?"
     ]
    },
    {
     "cell_type": "code",
     "collapsed": false,
     "input": [
      "rc[:].apply(mul, 5, 6)"
     ],
     "language": "python",
     "outputs": [
      {
       "output_type": "pyout",
       "prompt_number": 8,
       "text": [
        "[30, 30, 30, 30]"
       ]
      }
     ],
     "prompt_number": 8
    },
    {
     "cell_type": "markdown",
     "source": [
      "Python has a builtin map for calling a function with a variety of arguments"
     ]
    },
    {
     "cell_type": "code",
     "collapsed": false,
     "input": [
      "map(mul, range(1,10), range(2,11))"
     ],
     "language": "python",
     "outputs": [
      {
       "output_type": "pyout",
       "prompt_number": 9,
       "text": [
        "[2, 6, 12, 20, 30, 42, 56, 72, 90]"
       ]
      }
     ],
     "prompt_number": 9
    },
    {
     "cell_type": "markdown",
     "source": [
      "So how do we do this in parallel?"
     ]
    },
    {
     "cell_type": "code",
     "collapsed": false,
     "input": [
      "view = rc.load_balanced_view()",
      "view.map(mul, range(1,10), range(2,11))"
     ],
     "language": "python",
     "outputs": [
      {
       "output_type": "pyout",
       "prompt_number": 10,
       "text": [
        "[2, 6, 12, 20, 30, 42, 56, 72, 90]"
       ]
      }
     ],
     "prompt_number": 10
    },
    {
     "cell_type": "markdown",
     "source": [
      "I'll go into further detail about different views, and asynchronous communication later.",
      "First, let's peek at the performance of the IPython.parallel infrastructure, ",
      "so we can see what level of granularity we can consider using."
     ]
    },
    {
     "cell_type": "markdown",
     "source": [
      "## Map",
      "",
      "A simple test of how big your tasks need to be is to run a simple map",
      "with minimal tasks of a certain time (e.g. `time.sleep()`).",
      "",
      "These tests were done on [AWS](http://aws.amazon.com/) extra-large",
      "instances with the help of",
      "[StarCluster](http://web.mit.edu/stardev/cluster/), so the IO and CPU",
      "performance are not impressive compared to a physical cluster."
     ]
    },
    {
     "cell_type": "code",
     "collapsed": true,
     "input": [
      "def test_map(v,dt,n):",
      "    ts = [dt]*n",
      "    tic = time.time()",
      "    # submit n tasks",
      "    amr = v.map_async(time.sleep, ts)",
      "    toc = time.time()",
      "    # wait for the results",
      "    amr.get()",
      "    tac = time.time()",
      "    sent = toc-tic",
      "    roundtrip = tac-tic",
      "    return sent, roundtrip"
     ],
     "language": "python",
     "outputs": [],
     "prompt_number": 11
    },
    {
     "cell_type": "code",
     "collapsed": false,
     "input": [
      "n = len(rc.ids) * 16",
      "for dt in np.logspace(-3,0,7):",
      "    time.sleep(0.5)",
      "    s,rt = test_map(view, dt, n)",
      "    print \"%4ims %5.1f%%\" % (1000*dt, 1600*dt / rt)"
     ],
     "language": "python",
     "outputs": [
      {
       "output_type": "stream",
       "stream": "stdout",
       "text": [
        "   1ms   6.1%",
        "   3ms  16.9%"
       ]
      },
      {
       "output_type": "stream",
       "stream": "stdout",
       "text": [
        "",
        "  10ms  47.3%"
       ]
      },
      {
       "output_type": "stream",
       "stream": "stdout",
       "text": [
        "",
        "  31ms  86.3%"
       ]
      },
      {
       "output_type": "stream",
       "stream": "stdout",
       "text": [
        "",
        " 100ms  96.0%"
       ]
      },
      {
       "output_type": "stream",
       "stream": "stdout",
       "text": [
        "",
        " 316ms  98.6%"
       ]
      },
      {
       "output_type": "stream",
       "stream": "stdout",
       "text": [
        "",
        "1000ms  99.4%"
       ]
      },
      {
       "output_type": "stream",
       "stream": "stdout",
       "text": []
      }
     ],
     "prompt_number": 12
    },
    {
     "cell_type": "code",
     "collapsed": false,
     "input": [
      "Image(filename=\"figs/map.png\")"
     ],
     "language": "python",
     "outputs": [
      {
       "output_type": "pyout",
       "png": "[encoded data removed]",
       "prompt_number": 13,
       "text": [
        "<IPython.core.display.Image at 0x104394650>"
       ]
      }
     ],
     "prompt_number": 13
    },
    {
     "cell_type": "markdown",
     "source": [
      "This shows runs for jobs ranging from 1 to 128 ms, on 4,31,and 63",
      "engines. On this system, millisecond jobs are clearly too small, but by",
      "the time individual tasks are \\> 100 ms, IPython overhead is negligible.",
      "",
      "Now let's see how we use it for remote execution."
     ]
    }
   ]
  }
 ]
}