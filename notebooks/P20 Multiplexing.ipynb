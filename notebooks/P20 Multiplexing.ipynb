{
 "metadata": {
  "name": "P20 Multiplexing"
 },
 "nbformat": 3,
 "nbformat_minor": 0,
 "worksheets": [
  {
   "cells": [
    {
     "cell_type": "markdown",
     "metadata": {},
     "source": [
      "# DirectView as engine multiplexer"
     ]
    },
    {
     "cell_type": "code",
     "collapsed": false,
     "input": [
      "import os,sys,time\n",
      "import numpy as np\n",
      "\n",
      "from IPython.core.display import display, display_pretty\n",
      "from IPython import parallel\n",
      "rc = parallel.Client()"
     ],
     "language": "python",
     "metadata": {},
     "outputs": [],
     "prompt_number": 1
    },
    {
     "cell_type": "markdown",
     "metadata": {},
     "source": [
      "The DirectView can be readily understood as an Engine Multiplexer -\n",
      "it does the same thing on all of its engines.\n",
      "\n",
      "The only difference between running code on a single remote engine\n",
      "and running code in parallel is how many engines the DirectView is\n",
      "instructed to use.\n",
      "\n",
      "You can create DirectViews by index-access to the Client.  This creates\n",
      "a DirectView using the engines after passing the same index (or slice)\n",
      "to the `ids` list."
     ]
    },
    {
     "cell_type": "code",
     "collapsed": true,
     "input": [
      "e0 = rc[0]\n",
      "eall = rc[:]\n",
      "even = rc[::2]\n",
      "odd = rc[1::2]\n",
      "\n",
      "# this is the one we are going to use:\n",
      "dview = eall\n",
      "dview.block = True"
     ],
     "language": "python",
     "metadata": {},
     "outputs": [],
     "prompt_number": 2
    },
    {
     "cell_type": "markdown",
     "metadata": {},
     "source": [
      "Now, the only difference from single-engine remote execution is that the code we run happens on all of the engines of a given view:"
     ]
    },
    {
     "cell_type": "code",
     "collapsed": false,
     "input": [
      "for view in (e0, eall, even, odd):\n",
      "    print view, view.apply_sync(os.getpid)"
     ],
     "language": "python",
     "metadata": {},
     "outputs": [
      {
       "output_type": "stream",
       "stream": "stdout",
       "text": [
        "<DirectView 0> 73036\n",
        "<DirectView [0, 1, 2, 3]> [73036, 73037, 73042, 73043]\n",
        "<DirectView [0, 2]> [73036, 73042]\n",
        "<DirectView [1, 3]> "
       ]
      },
      {
       "output_type": "stream",
       "stream": "stdout",
       "text": [
        "[73037, 73043]\n"
       ]
      }
     ],
     "prompt_number": 3
    },
    {
     "cell_type": "markdown",
     "metadata": {},
     "source": [
      "The results of multiplexed execution is always a list of the length of the number of engines."
     ]
    },
    {
     "cell_type": "code",
     "collapsed": false,
     "input": [
      "dview['a'] = 5\n",
      "dview['a']"
     ],
     "language": "python",
     "metadata": {},
     "outputs": [
      {
       "output_type": "pyout",
       "prompt_number": 4,
       "text": [
        "[5, 5, 5, 5]"
       ]
      }
     ],
     "prompt_number": 4
    },
    {
     "cell_type": "markdown",
     "metadata": {},
     "source": [
      "# Scatter and Gather\n",
      "\n",
      "Lots of parallel computations involve partitioning data onto processes.  \n",
      "DirectViews have `scatter()` and `gather()` methods, to help with this.\n",
      "Pass any container or numpy array, and IPython will partition the object onto the engines wih `scatter`,\n",
      "or reconstruct the full object in the Client with `gather()`."
     ]
    },
    {
     "cell_type": "code",
     "collapsed": false,
     "input": [
      "dview.scatter('a', range(16))\n",
      "dview['a']"
     ],
     "language": "python",
     "metadata": {},
     "outputs": [
      {
       "output_type": "pyout",
       "prompt_number": 5,
       "text": [
        "[[0, 1, 2, 3], [4, 5, 6, 7], [8, 9, 10, 11], [12, 13, 14, 15]]"
       ]
      }
     ],
     "prompt_number": 5
    },
    {
     "cell_type": "code",
     "collapsed": false,
     "input": [
      "dview.gather('a')"
     ],
     "language": "python",
     "metadata": {},
     "outputs": [
      {
       "output_type": "pyout",
       "prompt_number": 6,
       "text": [
        "[0, 1, 2, 3, 4, 5, 6, 7, 8, 9, 10, 11, 12, 13, 14, 15]"
       ]
      }
     ],
     "prompt_number": 6
    },
    {
     "cell_type": "code",
     "collapsed": false,
     "input": [
      "dview.execute(\"asum = sum(a)\")\n",
      "dview.gather('asum')"
     ],
     "language": "python",
     "metadata": {},
     "outputs": [
      {
       "output_type": "pyout",
       "prompt_number": 7,
       "text": [
        "[6, 22, 38, 54]"
       ]
      }
     ],
     "prompt_number": 7
    },
    {
     "cell_type": "markdown",
     "metadata": {},
     "source": [
      "We can pass a 'flatten' keyword,\n",
      "to instruct engines that will only get one item of the list to\n",
      "get the actual item, rather than a one-element sublist:"
     ]
    },
    {
     "cell_type": "code",
     "collapsed": false,
     "input": [
      "dview.scatter('rank', rc.ids)\n",
      "dview['rank']"
     ],
     "language": "python",
     "metadata": {},
     "outputs": [
      {
       "output_type": "pyout",
       "prompt_number": 8,
       "text": [
        "[[0], [1], [2], [3]]"
       ]
      }
     ],
     "prompt_number": 8
    },
    {
     "cell_type": "code",
     "collapsed": false,
     "input": [
      "dview.scatter('rank', rc.ids, flatten=True)\n",
      "dview['rank']"
     ],
     "language": "python",
     "metadata": {},
     "outputs": [
      {
       "output_type": "pyout",
       "prompt_number": 9,
       "text": [
        "[0, 1, 2, 3]"
       ]
      }
     ],
     "prompt_number": 9
    },
    {
     "cell_type": "markdown",
     "metadata": {},
     "source": [
      "Scatter and gather also work with numpy arrays"
     ]
    },
    {
     "cell_type": "code",
     "collapsed": false,
     "input": [
      "A = np.random.randint(1,10,(16,4))\n",
      "B = np.random.randint(1,10,(4,16))\n",
      "display_pretty('A =', raw=True)\n",
      "display(A)\n",
      "display_pretty('B =', raw=True)\n",
      "display(B)"
     ],
     "language": "python",
     "metadata": {},
     "outputs": [
      {
       "output_type": "display_data",
       "text": [
        "A ="
       ]
      },
      {
       "output_type": "display_data",
       "text": [
        "array([[5, 8, 8, 2],\n",
        "       [9, 7, 3, 7],\n",
        "       [9, 2, 5, 4],\n",
        "       [4, 8, 5, 7],\n",
        "       [9, 6, 8, 8],\n",
        "       [9, 5, 1, 5],\n",
        "       [9, 7, 4, 1],\n",
        "       [2, 9, 7, 5],\n",
        "       [3, 6, 3, 9],\n",
        "       [7, 2, 1, 7],\n",
        "       [4, 9, 6, 6],\n",
        "       [1, 7, 9, 5],\n",
        "       [8, 8, 6, 5],\n",
        "       [4, 7, 3, 3],\n",
        "       [4, 9, 2, 4],\n",
        "       [1, 8, 9, 3]])"
       ]
      },
      {
       "output_type": "display_data",
       "text": [
        "B ="
       ]
      },
      {
       "output_type": "display_data",
       "text": [
        "array([[4, 9, 8, 4, 3, 8, 3, 4, 8, 4, 2, 1, 3, 5, 8, 1],\n",
        "       [8, 8, 1, 8, 5, 5, 8, 2, 8, 1, 1, 9, 9, 5, 8, 3],\n",
        "       [2, 4, 5, 3, 7, 7, 2, 4, 9, 9, 3, 5, 5, 3, 8, 7],\n",
        "       [7, 1, 9, 6, 2, 7, 2, 3, 3, 4, 7, 8, 1, 8, 4, 7]])"
       ]
      }
     ],
     "prompt_number": 10
    },
    {
     "cell_type": "code",
     "collapsed": false,
     "input": [
      "dview.scatter('A', A)\n",
      "dview.scatter('B', B)\n",
      "display_pretty('A =', raw=True)\n",
      "display(e0['A'])\n",
      "display_pretty('B =', raw=True)\n",
      "display(e0['B'])"
     ],
     "language": "python",
     "metadata": {},
     "outputs": [
      {
       "output_type": "display_data",
       "text": [
        "A ="
       ]
      },
      {
       "output_type": "display_data",
       "text": [
        "array([[5, 8, 8, 2],\n",
        "       [9, 7, 3, 7],\n",
        "       [9, 2, 5, 4],\n",
        "       [4, 8, 5, 7]])"
       ]
      },
      {
       "output_type": "display_data",
       "text": [
        "B ="
       ]
      },
      {
       "output_type": "display_data",
       "text": [
        "array([[4, 9, 8, 4, 3, 8, 3, 4, 8, 4, 2, 1, 3, 5, 8, 1]])"
       ]
      }
     ],
     "prompt_number": 11
    },
    {
     "cell_type": "markdown",
     "metadata": {},
     "source": [
      "# Example: Parallel Matrix Multiply\n",
      "\n",
      "With what we have seen so far, we can write our own (completely terrible!) parallel matrix multiply.\n",
      "\n",
      "* Remember - multiply rows of one by the columns of the other.\n",
      "* easiest implementation involves one each of: push, scatter, execute, gather"
     ]
    },
    {
     "cell_type": "code",
     "collapsed": true,
     "input": [
      "%load soln/matmul.py"
     ],
     "language": "python",
     "metadata": {},
     "outputs": [],
     "prompt_number": 12
    },
    {
     "cell_type": "markdown",
     "metadata": {},
     "source": [
      "Let's run this, and validate the result against a local computation."
     ]
    },
    {
     "cell_type": "code",
     "collapsed": false,
     "input": [
      "C_ref = A.dot(B)\n",
      "C1 = pdot(dview, A, B)\n",
      "# validation:\n",
      "(C1==C_ref).all()"
     ],
     "language": "python",
     "metadata": {},
     "outputs": [
      {
       "output_type": "pyout",
       "prompt_number": 14,
       "text": [
        "True"
       ]
      }
     ],
     "prompt_number": 14
    },
    {
     "cell_type": "markdown",
     "metadata": {},
     "source": [
      "# Map\n",
      "\n",
      "DirectViews have a map method, which behaves just like the builtin map,\n",
      "but computed in parallel."
     ]
    },
    {
     "cell_type": "code",
     "collapsed": false,
     "input": [
      "dview.block = True\n",
      "\n",
      "serial_result   =       map(lambda x:x**10, range(32))\n",
      "parallel_result = dview.map(lambda x:x**10, range(32))\n",
      "\n",
      "serial_result==parallel_result"
     ],
     "language": "python",
     "metadata": {},
     "outputs": [
      {
       "output_type": "pyout",
       "prompt_number": 15,
       "text": [
        "True"
       ]
      }
     ],
     "prompt_number": 15
    },
    {
     "cell_type": "markdown",
     "metadata": {},
     "source": [
      "`DirectView.map` partitions the sequences onto each engine,\n",
      "and then calls `map` remotely.  The result is always a single\n",
      "IPython task per engine."
     ]
    },
    {
     "cell_type": "code",
     "collapsed": false,
     "input": [
      "amr = dview.map_async(lambda x:x**10, range(32))\n",
      "amr.msg_ids"
     ],
     "language": "python",
     "metadata": {},
     "outputs": [
      {
       "output_type": "pyout",
       "prompt_number": 16,
       "text": [
        "['34af224e-6991-40ec-a2be-1c7d96003805',\n",
        " '31c49a67-2d04-4329-818e-08af14f9b0f0',\n",
        " 'f8d68e92-4736-4f43-a306-c509e2d38466',\n",
        " '05ece283-e5a0-4b70-b92c-f1e18120ecc0']"
       ]
      }
     ],
     "prompt_number": 16
    },
    {
     "cell_type": "code",
     "collapsed": false,
     "input": [
      "amr = dview.map_async(lambda x:x**10, range(3200))\n",
      "amr.msg_ids"
     ],
     "language": "python",
     "metadata": {},
     "outputs": [
      {
       "output_type": "pyout",
       "prompt_number": 17,
       "text": [
        "['a13b6810-76ba-49a6-b8fd-aa7c0e35f605',\n",
        " '26abac69-d9ee-4ab8-b20f-21adad32aefa',\n",
        " '750dbe05-8f07-46e2-bb10-f1aeb6813df1',\n",
        " 'fd6f3244-43de-42f3-a52e-3fd1cc7f0e1b']"
       ]
      }
     ],
     "prompt_number": 17
    },
    {
     "cell_type": "code",
     "collapsed": false,
     "input": [],
     "language": "python",
     "metadata": {},
     "outputs": []
    }
   ],
   "metadata": {}
  }
 ]
}