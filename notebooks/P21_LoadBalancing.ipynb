{
 "metadata": {
  "name": "P21_LoadBalancing"
 },
 "nbformat": 2,
 "worksheets": [
  {
   "cells": [
    {
     "cell_type": "markdown",
     "source": [
      "# Load-balancing with IPython.parallel"
     ]
    },
    {
     "cell_type": "code",
     "collapsed": false,
     "input": [
      "import os,sys,time",
      "import numpy as np",
      "",
      "from IPython.core.display import display",
      "from IPython import parallel",
      "rc = parallel.Client()",
      "dview = rc[:]"
     ],
     "language": "python",
     "outputs": [],
     "prompt_number": 1
    },
    {
     "cell_type": "markdown",
     "source": [
      "Create a LoadBalancedView"
     ]
    },
    {
     "cell_type": "code",
     "collapsed": false,
     "input": [
      "lview = rc.load_balanced_view()",
      "lview"
     ],
     "language": "python",
     "outputs": [
      {
       "output_type": "pyout",
       "prompt_number": 2,
       "text": [
        "<LoadBalancedView None>"
       ]
      }
     ],
     "prompt_number": 2
    },
    {
     "cell_type": "markdown",
     "source": [
      "LoadBalancedViews behave very much like a DirectView on a single engine:",
      "",
      "Each call to `apply()` results in a single remote computation,",
      "and the result (or AsyncResult) of that call is returned directly,",
      "rather than in a list, as in the multi-engine DirectView."
     ]
    },
    {
     "cell_type": "code",
     "collapsed": true,
     "input": [
      "e0 = rc[0]"
     ],
     "language": "python",
     "outputs": [],
     "prompt_number": 3
    },
    {
     "cell_type": "code",
     "collapsed": false,
     "input": [
      "from numpy.linalg import norm",
      "A = np.random.random(1024)",
      "",
      "e0.apply_sync(norm, A, 2)"
     ],
     "language": "python",
     "outputs": [
      {
       "output_type": "pyout",
       "prompt_number": 4,
       "text": [
        "18.169523129613182"
       ]
      }
     ],
     "prompt_number": 4
    },
    {
     "cell_type": "code",
     "collapsed": false,
     "input": [
      "lview.apply_sync(norm, A, 2)"
     ],
     "language": "python",
     "outputs": [
      {
       "output_type": "pyout",
       "prompt_number": 5,
       "text": [
        "18.169523129613182"
       ]
      }
     ],
     "prompt_number": 5
    },
    {
     "cell_type": "markdown",
     "source": [
      "However, unlike the DirectView of a single engine, you are letting the IPython Scheduler decide which engine should do the work:"
     ]
    },
    {
     "cell_type": "code",
     "collapsed": false,
     "input": [
      "e0.apply_sync(os.getpid)"
     ],
     "language": "python",
     "outputs": [
      {
       "output_type": "pyout",
       "prompt_number": 6,
       "text": [
        "10986"
       ]
      }
     ],
     "prompt_number": 6
    },
    {
     "cell_type": "code",
     "collapsed": false,
     "input": [
      "for i in range(2*len(rc.ids)):",
      "    print lview.apply_sync(os.getpid)"
     ],
     "language": "python",
     "outputs": [
      {
       "output_type": "stream",
       "stream": "stdout",
       "text": [
        "10986",
        "10988",
        "10985",
        "10987",
        "10986"
       ]
      },
      {
       "output_type": "stream",
       "stream": "stdout",
       "text": [
        "",
        "10988",
        "10985",
        "10987"
       ]
      }
     ],
     "prompt_number": 7
    },
    {
     "cell_type": "markdown",
     "source": [
      "# Map",
      "",
      "The LoadBalancedView also has a load-balanced version of the builtin `map()`"
     ]
    },
    {
     "cell_type": "code",
     "collapsed": false,
     "input": [
      "lview.block = True",
      "",
      "serial_result   =       map(lambda x:x**10, range(32))",
      "parallel_result = lview.map(lambda x:x**10, range(32))",
      "",
      "serial_result==parallel_result"
     ],
     "language": "python",
     "outputs": [
      {
       "output_type": "pyout",
       "prompt_number": 8,
       "text": [
        "True"
       ]
      }
     ],
     "prompt_number": 8
    },
    {
     "cell_type": "markdown",
     "source": [
      "Just like `apply()`, you can use non-blocking map with `block=False` or `map_async`"
     ]
    },
    {
     "cell_type": "code",
     "collapsed": true,
     "input": [
      "amr = lview.map_async(lambda x:x**10, range(32))"
     ],
     "language": "python",
     "outputs": [],
     "prompt_number": 9
    },
    {
     "cell_type": "markdown",
     "source": [
      "## Map results are iterable!",
      "",
      "AsyncResults with multiple results are actually iterable before their",
      "results arrive.",
      "",
      "This means that you can perform map/reduce operations on elements as",
      "they come in:"
     ]
    },
    {
     "cell_type": "code",
     "collapsed": false,
     "input": [
      "# scatter 'id', so id=0,1,2 on engines 0,1,2",
      "dv = rc[:]",
      "dv.scatter('id', rc.ids, flatten=True)",
      "print dv['id']",
      "",
      "# create a Reference to `id`. This will be a different value on each engine",
      "ref = parallel.Reference('id')",
      "",
      "tic = time.time()",
      "ar = dv.apply(time.sleep, ref)",
      "for i,r in enumerate(ar):",
      "    print \"%i: %.3f\"%(i, time.time()-tic)",
      "    sys.stdout.flush()"
     ],
     "language": "python",
     "outputs": [
      {
       "output_type": "stream",
       "stream": "stdout",
       "text": [
        "[0, 1, 2, 3]",
        "0: 0.012",
        "1: 1.011"
       ]
      },
      {
       "output_type": "stream",
       "stream": "stdout",
       "text": [
        "",
        "2: 2.010"
       ]
      },
      {
       "output_type": "stream",
       "stream": "stdout",
       "text": [
        "",
        "3: 3.010"
       ]
      },
      {
       "output_type": "stream",
       "stream": "stdout",
       "text": [
        ""
       ]
      }
     ],
     "prompt_number": 10
    },
    {
     "cell_type": "markdown",
     "source": [
      "Now we submit a bunch of tasks of increasing magnitude, and",
      "watch where they happen, iterating through the results as they come."
     ]
    },
    {
     "cell_type": "code",
     "collapsed": false,
     "input": [
      "def sleep_here(t):",
      "    \"\"\"sleep here for a time, return where it happened\"\"\"",
      "    import time",
      "    time.sleep(t)",
      "    return id",
      "",
      "amr = lview.map(sleep_here, [.01*t for t in range(100)])",
      "tic = time.time()",
      "for i,r in enumerate(amr):",
      "    print \"task %i on engine %i: %.3f\" % (i, r, time.time()-tic)",
      "    sys.stdout.flush()"
     ],
     "language": "python",
     "outputs": [
      {
       "output_type": "stream",
       "stream": "stdout",
       "text": [
        "task 0 on engine 0: 0.000"
       ]
      },
      {
       "output_type": "stream",
       "stream": "stdout",
       "text": [
        "task 1 on engine 3: 0.001"
       ]
      },
      {
       "output_type": "stream",
       "stream": "stdout",
       "text": [
        "task 2 on engine 1: 0.001"
       ]
      },
      {
       "output_type": "stream",
       "stream": "stdout",
       "text": [
        "task 3 on engine 2: 0.002"
       ]
      },
      {
       "output_type": "stream",
       "stream": "stdout",
       "text": [
        "task 4 on engine 0: 0.004"
       ]
      },
      {
       "output_type": "stream",
       "stream": "stdout",
       "text": [
        "task 5 on engine 3: 0.004"
       ]
      },
      {
       "output_type": "stream",
       "stream": "stdout",
       "text": [
        "task 6 on engine 1: 0.005"
       ]
      },
      {
       "output_type": "stream",
       "stream": "stdout",
       "text": [
        "task 7 on engine 2: 0.006"
       ]
      },
      {
       "output_type": "stream",
       "stream": "stdout",
       "text": [
        "task 8 on engine 0: 0.006"
       ]
      },
      {
       "output_type": "stream",
       "stream": "stdout",
       "text": [
        "task 9 on engine 3: 0.007"
       ]
      },
      {
       "output_type": "stream",
       "stream": "stdout",
       "text": [
        "task 10 on engine 1: 0.008"
       ]
      },
      {
       "output_type": "stream",
       "stream": "stdout",
       "text": [
        "task 11 on engine 2: 0.008"
       ]
      },
      {
       "output_type": "stream",
       "stream": "stdout",
       "text": [
        "task 12 on engine 0: 0.009"
       ]
      },
      {
       "output_type": "stream",
       "stream": "stdout",
       "text": [
        "task 13 on engine 3: 0.010"
       ]
      },
      {
       "output_type": "stream",
       "stream": "stdout",
       "text": [
        "task 14 on engine 1: 0.010"
       ]
      },
      {
       "output_type": "stream",
       "stream": "stdout",
       "text": [
        "task 15 on engine 2: 0.011"
       ]
      },
      {
       "output_type": "stream",
       "stream": "stdout",
       "text": [
        "task 16 on engine 0: 0.011"
       ]
      },
      {
       "output_type": "stream",
       "stream": "stdout",
       "text": [
        "task 17 on engine 3: 0.012"
       ]
      },
      {
       "output_type": "stream",
       "stream": "stdout",
       "text": [
        "task 18 on engine 1: 0.012"
       ]
      },
      {
       "output_type": "stream",
       "stream": "stdout",
       "text": [
        "task 19 on engine 2: 0.013"
       ]
      },
      {
       "output_type": "stream",
       "stream": "stdout",
       "text": [
        "task 20 on engine 0: 0.013"
       ]
      },
      {
       "output_type": "stream",
       "stream": "stdout",
       "text": [
        "task 21 on engine 3: 0.014"
       ]
      },
      {
       "output_type": "stream",
       "stream": "stdout",
       "text": [
        "task 22 on engine 1: 0.015"
       ]
      },
      {
       "output_type": "stream",
       "stream": "stdout",
       "text": [
        "task 23 on engine 2: 0.015"
       ]
      },
      {
       "output_type": "stream",
       "stream": "stdout",
       "text": [
        "task 24 on engine 0: 0.016"
       ]
      },
      {
       "output_type": "stream",
       "stream": "stdout",
       "text": [
        "task 25 on engine 3: 0.017"
       ]
      },
      {
       "output_type": "stream",
       "stream": "stdout",
       "text": [
        "task 26 on engine 1: 0.018"
       ]
      },
      {
       "output_type": "stream",
       "stream": "stdout",
       "text": [
        "task 27 on engine 2: 0.018"
       ]
      },
      {
       "output_type": "stream",
       "stream": "stdout",
       "text": [
        "task 28 on engine 0: 0.019"
       ]
      },
      {
       "output_type": "stream",
       "stream": "stdout",
       "text": [
        "task 29 on engine 3: 0.020"
       ]
      },
      {
       "output_type": "stream",
       "stream": "stdout",
       "text": [
        "task 30 on engine 1: 0.021"
       ]
      },
      {
       "output_type": "stream",
       "stream": "stdout",
       "text": [
        "task 31 on engine 2: 0.022"
       ]
      },
      {
       "output_type": "stream",
       "stream": "stdout",
       "text": [
        "task 32 on engine 0: 0.022"
       ]
      },
      {
       "output_type": "stream",
       "stream": "stdout",
       "text": [
        "task 33 on engine 3: 0.023"
       ]
      },
      {
       "output_type": "stream",
       "stream": "stdout",
       "text": [
        "task 34 on engine 1: 0.046"
       ]
      },
      {
       "output_type": "stream",
       "stream": "stdout",
       "text": [
        "task 35 on engine 2: 0.048"
       ]
      },
      {
       "output_type": "stream",
       "stream": "stdout",
       "text": [
        "task 36 on engine 0: 0.054"
       ]
      },
      {
       "output_type": "stream",
       "stream": "stdout",
       "text": [
        "task 37 on engine 3: 0.055"
       ]
      },
      {
       "output_type": "stream",
       "stream": "stdout",
       "text": [
        "task 38 on engine 1: 0.056"
       ]
      },
      {
       "output_type": "stream",
       "stream": "stdout",
       "text": [
        "task 39 on engine 2: 0.056"
       ]
      },
      {
       "output_type": "stream",
       "stream": "stdout",
       "text": [
        "task 40 on engine 0: 0.057"
       ]
      },
      {
       "output_type": "stream",
       "stream": "stdout",
       "text": [
        "task 41 on engine 3: 0.057"
       ]
      },
      {
       "output_type": "stream",
       "stream": "stdout",
       "text": [
        "task 42 on engine 1: 0.058"
       ]
      },
      {
       "output_type": "stream",
       "stream": "stdout",
       "text": [
        "task 43 on engine 2: 0.058"
       ]
      },
      {
       "output_type": "stream",
       "stream": "stdout",
       "text": [
        "task 44 on engine 0: 0.059"
       ]
      },
      {
       "output_type": "stream",
       "stream": "stdout",
       "text": [
        "task 45 on engine 3: 0.059"
       ]
      },
      {
       "output_type": "stream",
       "stream": "stdout",
       "text": [
        "task 46 on engine 1: 0.060"
       ]
      },
      {
       "output_type": "stream",
       "stream": "stdout",
       "text": [
        "task 47 on engine 2: 0.060"
       ]
      },
      {
       "output_type": "stream",
       "stream": "stdout",
       "text": [
        "task 48 on engine 0: 0.061"
       ]
      },
      {
       "output_type": "stream",
       "stream": "stdout",
       "text": [
        "task 49 on engine 3: 0.061"
       ]
      },
      {
       "output_type": "stream",
       "stream": "stdout",
       "text": [
        "task 50 on engine 1: 0.062"
       ]
      },
      {
       "output_type": "stream",
       "stream": "stdout",
       "text": [
        "task 51 on engine 2: 0.062"
       ]
      },
      {
       "output_type": "stream",
       "stream": "stdout",
       "text": [
        "task 52 on engine 0: 0.064"
       ]
      },
      {
       "output_type": "stream",
       "stream": "stdout",
       "text": [
        "task 53 on engine 3: 0.065"
       ]
      },
      {
       "output_type": "stream",
       "stream": "stdout",
       "text": [
        "task 54 on engine 1: 0.065"
       ]
      },
      {
       "output_type": "stream",
       "stream": "stdout",
       "text": [
        "task 55 on engine 2: 0.069"
       ]
      },
      {
       "output_type": "stream",
       "stream": "stdout",
       "text": [
        "task 56 on engine 0: 0.070"
       ]
      },
      {
       "output_type": "stream",
       "stream": "stdout",
       "text": [
        "task 57 on engine 3: 0.071"
       ]
      },
      {
       "output_type": "stream",
       "stream": "stdout",
       "text": [
        "task 58 on engine 1: 0.072"
       ]
      },
      {
       "output_type": "stream",
       "stream": "stdout",
       "text": [
        "task 59 on engine 2: 0.072"
       ]
      },
      {
       "output_type": "stream",
       "stream": "stdout",
       "text": [
        "task 60 on engine 0: 0.073"
       ]
      },
      {
       "output_type": "stream",
       "stream": "stdout",
       "text": [
        "task 61 on engine 3: 0.074"
       ]
      },
      {
       "output_type": "stream",
       "stream": "stdout",
       "text": [
        "task 62 on engine 1: 0.075"
       ]
      },
      {
       "output_type": "stream",
       "stream": "stdout",
       "text": [
        "task 63 on engine 2: 0.075"
       ]
      },
      {
       "output_type": "stream",
       "stream": "stdout",
       "text": [
        "task 64 on engine 0: 0.076"
       ]
      },
      {
       "output_type": "stream",
       "stream": "stdout",
       "text": [
        "task 65 on engine 3: 0.077"
       ]
      },
      {
       "output_type": "stream",
       "stream": "stdout",
       "text": [
        "task 66 on engine 1: 0.077"
       ]
      },
      {
       "output_type": "stream",
       "stream": "stdout",
       "text": [
        "task 67 on engine 2: 0.091"
       ]
      },
      {
       "output_type": "stream",
       "stream": "stdout",
       "text": [
        "task 68 on engine 0: 0.091"
       ]
      },
      {
       "output_type": "stream",
       "stream": "stdout",
       "text": [
        "task 69 on engine 3: 0.092"
       ]
      },
      {
       "output_type": "stream",
       "stream": "stdout",
       "text": [
        "task 70 on engine 1: 0.093"
       ]
      },
      {
       "output_type": "stream",
       "stream": "stdout",
       "text": [
        "task 71 on engine 2: 0.093"
       ]
      },
      {
       "output_type": "stream",
       "stream": "stdout",
       "text": [
        "task 72 on engine 0: 0.094"
       ]
      },
      {
       "output_type": "stream",
       "stream": "stdout",
       "text": [
        "task 73 on engine 3: 0.094"
       ]
      },
      {
       "output_type": "stream",
       "stream": "stdout",
       "text": [
        "task 74 on engine 1: 0.095"
       ]
      },
      {
       "output_type": "stream",
       "stream": "stdout",
       "text": [
        "task 75 on engine 2: 0.096"
       ]
      },
      {
       "output_type": "stream",
       "stream": "stdout",
       "text": [
        "task 76 on engine 0: 0.096"
       ]
      },
      {
       "output_type": "stream",
       "stream": "stdout",
       "text": [
        "task 77 on engine 3: 0.097"
       ]
      },
      {
       "output_type": "stream",
       "stream": "stdout",
       "text": [
        "task 78 on engine 1: 0.098"
       ]
      },
      {
       "output_type": "stream",
       "stream": "stdout",
       "text": [
        "task 79 on engine 2: 0.098"
       ]
      },
      {
       "output_type": "stream",
       "stream": "stdout",
       "text": [
        "task 80 on engine 0: 0.099"
       ]
      },
      {
       "output_type": "stream",
       "stream": "stdout",
       "text": [
        "task 81 on engine 3: 0.099"
       ]
      },
      {
       "output_type": "stream",
       "stream": "stdout",
       "text": [
        "task 82 on engine 1: 0.100"
       ]
      },
      {
       "output_type": "stream",
       "stream": "stdout",
       "text": [
        "task 83 on engine 2: 0.101"
       ]
      },
      {
       "output_type": "stream",
       "stream": "stdout",
       "text": [
        "task 84 on engine 0: 0.101"
       ]
      },
      {
       "output_type": "stream",
       "stream": "stdout",
       "text": [
        "task 85 on engine 3: 0.102"
       ]
      },
      {
       "output_type": "stream",
       "stream": "stdout",
       "text": [
        "task 86 on engine 1: 0.103"
       ]
      },
      {
       "output_type": "stream",
       "stream": "stdout",
       "text": [
        "task 87 on engine 2: 0.103"
       ]
      },
      {
       "output_type": "stream",
       "stream": "stdout",
       "text": [
        "task 88 on engine 0: 0.104"
       ]
      },
      {
       "output_type": "stream",
       "stream": "stdout",
       "text": [
        "task 89 on engine 3: 0.105"
       ]
      },
      {
       "output_type": "stream",
       "stream": "stdout",
       "text": [
        "task 90 on engine 1: 0.106"
       ]
      },
      {
       "output_type": "stream",
       "stream": "stdout",
       "text": [
        "task 91 on engine 2: 0.106"
       ]
      },
      {
       "output_type": "stream",
       "stream": "stdout",
       "text": [
        "task 92 on engine 0: 0.107"
       ]
      },
      {
       "output_type": "stream",
       "stream": "stdout",
       "text": [
        "task 93 on engine 3: 0.108"
       ]
      },
      {
       "output_type": "stream",
       "stream": "stdout",
       "text": [
        "task 94 on engine 1: 0.109"
       ]
      },
      {
       "output_type": "stream",
       "stream": "stdout",
       "text": [
        "task 95 on engine 2: 0.109"
       ]
      },
      {
       "output_type": "stream",
       "stream": "stdout",
       "text": [
        "task 96 on engine 0: 0.110"
       ]
      },
      {
       "output_type": "stream",
       "stream": "stdout",
       "text": [
        "task 97 on engine 3: 0.111"
       ]
      },
      {
       "output_type": "stream",
       "stream": "stdout",
       "text": [
        "task 98 on engine 1: 0.111"
       ]
      },
      {
       "output_type": "stream",
       "stream": "stdout",
       "text": [
        "task 99 on engine 2: 0.112"
       ]
      }
     ],
     "prompt_number": 12
    },
    {
     "cell_type": "markdown",
     "source": [
      "Unlike `DirectView.map()`, which always results in one task per engine,",
      "LoadBalance map defaults to one task per *item* in the sequence.  This",
      "can be changed by specifying the `chunksize` keyword arg."
     ]
    },
    {
     "cell_type": "code",
     "collapsed": false,
     "input": [
      "amr = lview.map(sleep_here, [.01*t for t in range(100)], chunksize=4)",
      "tic = time.time()",
      "for i,r in enumerate(amr):",
      "    print \"task %i on engine %i: %.3f\"%(i, r, time.time()-tic)",
      "    sys.stdout.flush()"
     ],
     "language": "python",
     "outputs": [
      {
       "output_type": "stream",
       "stream": "stdout",
       "text": [
        "task 0 on engine 0: 0.000",
        "task 1 on engine 0: 0.000",
        "task 2 on engine 0: 0.000",
        "task 3 on engine 0: 0.001",
        "task 4 on engine 3: 0.001",
        "task 5 on engine 3: 0.001",
        "task 6 on engine 3: 0.001",
        "task 7 on engine 3: 0.001",
        "task 8 on engine 1: 0.001",
        "task 9 on engine 1: 0.001",
        "task 10 on engine 1: 0.001",
        "task 11 on engine 1: 0.002",
        "task 12 on engine 2: 0.002",
        "task 13 on engine 2: 0.002",
        "task 14 on engine 2: 0.002",
        "task 15 on engine 2: 0.002",
        "task 16 on engine 0: 0.002",
        "task 17 on engine 0: 0.002",
        "task 18 on engine 0: 0.002",
        "task 19 on engine 0: 0.002",
        "task 20 on engine 3: 0.003",
        "task 21 on engine 3: 0.003",
        "task 22 on engine 3: 0.003",
        "task 23 on engine 3: 0.003",
        "task 24 on engine 1: 0.003",
        "task 25 on engine 1: 0.003",
        "task 26 on engine 1: 0.003",
        "task 27 on engine 1: 0.003",
        "task 28 on engine 2: 0.004",
        "task 29 on engine 2: 0.004",
        "task 30 on engine 2: 0.004",
        "task 31 on engine 2: 0.004",
        "task 32 on engine 0: 0.004",
        "task 33 on engine 0: 0.004",
        "task 34 on engine 0: 0.004",
        "task 35 on engine 0: 0.004",
        "task 36 on engine 3: 0.004",
        "task 37 on engine 3: 0.005",
        "task 38 on engine 3: 0.005",
        "task 39 on engine 3: 0.005",
        "task 40 on engine 1: 0.005",
        "task 41 on engine 1: 0.005",
        "task 42 on engine 1: 0.005",
        "task 43 on engine 1: 0.005",
        "task 44 on engine 2: 0.005",
        "task 45 on engine 2: 0.006",
        "task 46 on engine 2: 0.006",
        "task 47 on engine 2: 0.006",
        "task 48 on engine 0: 0.006",
        "task 49 on engine 0: 0.006",
        "task 50 on engine 0: 0.006",
        "task 51 on engine 0: 0.006",
        "task 52 on engine 3: 0.006",
        "task 53 on engine 3: 0.006",
        "task 54 on engine 3: 0.007",
        "task 55 on engine 3: 0.007",
        "task 56 on engine 1: 0.007",
        "task 57 on engine 1: 0.007",
        "task 58 on engine 1: 0.007",
        "task 59 on engine 1: 0.007",
        "task 60 on engine 2: 0.007",
        "task 61 on engine 2: 0.007",
        "task 62 on engine 2: 0.008",
        "task 63 on engine 2: 0.008",
        "task 64 on engine 0: 0.008",
        "task 65 on engine 0: 0.008",
        "task 66 on engine 0: 0.008",
        "task 67 on engine 0: 0.008",
        "task 68 on engine 3: 0.008",
        "task 69 on engine 3: 0.008",
        "task 70 on engine 3: 0.008",
        "task 71 on engine 3: 0.009",
        "task 72 on engine 1: 0.009",
        "task 73 on engine 1: 0.009",
        "task 74 on engine 1: 0.009",
        "task 75 on engine 1: 0.009",
        "task 76 on engine 2: 0.009",
        "task 77 on engine 2: 0.009",
        "task 78 on engine 2: 0.009",
        "task 79 on engine 2: 0.010",
        "task 80 on engine 0: 0.010",
        "task 81 on engine 0: 0.010",
        "task 82 on engine 0: 0.010",
        "task 83 on engine 0: 0.010",
        "task 84 on engine 3: 0.010",
        "task 85 on engine 3: 0.010",
        "task 86 on engine 3: 0.010",
        "task 87 on engine 3: 0.010",
        "task 88 on engine 1: 0.011",
        "task 89 on engine 1: 0.011",
        "task 90 on engine 1: 0.011",
        "task 91 on engine 1: 0.011",
        "task 92 on engine 2: 0.011",
        "task 93 on engine 2: 0.011",
        "task 94 on engine 2: 0.011",
        "task 95 on engine 2: 0.011",
        "task 96 on engine 0: 0.011",
        "task 97 on engine 0: 0.012",
        "task 98 on engine 0: 0.012",
        "task 99 on engine 0: 0.012"
       ]
      },
      {
       "output_type": "stream",
       "stream": "stdout",
       "text": [
        "task 0 on engine 3: 0.000"
       ]
      },
      {
       "output_type": "stream",
       "stream": "stdout",
       "text": [
        "task 1 on engine 3: 0.001"
       ]
      },
      {
       "output_type": "stream",
       "stream": "stdout",
       "text": [
        "task 2 on engine 3: 0.001"
       ]
      },
      {
       "output_type": "stream",
       "stream": "stdout",
       "text": [
        "task 3 on engine 3: 0.002"
       ]
      },
      {
       "output_type": "stream",
       "stream": "stdout",
       "text": [
        "task 4 on engine 1: 0.003"
       ]
      },
      {
       "output_type": "stream",
       "stream": "stdout",
       "text": [
        "task 5 on engine 1: 0.003"
       ]
      },
      {
       "output_type": "stream",
       "stream": "stdout",
       "text": [
        "task 6 on engine 1: 0.004"
       ]
      },
      {
       "output_type": "stream",
       "stream": "stdout",
       "text": [
        "task 7 on engine 1: 0.005"
       ]
      },
      {
       "output_type": "stream",
       "stream": "stdout",
       "text": [
        "task 8 on engine 2: 0.006"
       ]
      },
      {
       "output_type": "stream",
       "stream": "stdout",
       "text": [
        "task 9 on engine 2: 0.006"
       ]
      },
      {
       "output_type": "stream",
       "stream": "stdout",
       "text": [
        "task 10 on engine 2: 0.007"
       ]
      },
      {
       "output_type": "stream",
       "stream": "stdout",
       "text": [
        "task 11 on engine 2: 0.008"
       ]
      },
      {
       "output_type": "stream",
       "stream": "stdout",
       "text": [
        "task 12 on engine 0: 0.008"
       ]
      },
      {
       "output_type": "stream",
       "stream": "stdout",
       "text": [
        "task 13 on engine 0: 0.010"
       ]
      },
      {
       "output_type": "stream",
       "stream": "stdout",
       "text": [
        "task 14 on engine 0: 0.011"
       ]
      },
      {
       "output_type": "stream",
       "stream": "stdout",
       "text": [
        "task 15 on engine 0: 0.012"
       ]
      },
      {
       "output_type": "stream",
       "stream": "stdout",
       "text": [
        "task 16 on engine 3: 0.013"
       ]
      },
      {
       "output_type": "stream",
       "stream": "stdout",
       "text": [
        "task 17 on engine 3: 0.014"
       ]
      },
      {
       "output_type": "stream",
       "stream": "stdout",
       "text": [
        "task 18 on engine 3: 0.015"
       ]
      },
      {
       "output_type": "stream",
       "stream": "stdout",
       "text": [
        "task 19 on engine 3: 0.015"
       ]
      },
      {
       "output_type": "stream",
       "stream": "stdout",
       "text": [
        "task 20 on engine 1: 0.016"
       ]
      },
      {
       "output_type": "stream",
       "stream": "stdout",
       "text": [
        "task 21 on engine 1: 0.017"
       ]
      },
      {
       "output_type": "stream",
       "stream": "stdout",
       "text": [
        "task 22 on engine 1: 0.028"
       ]
      },
      {
       "output_type": "stream",
       "stream": "stdout",
       "text": [
        "task 23 on engine 1: 0.029"
       ]
      },
      {
       "output_type": "stream",
       "stream": "stdout",
       "text": [
        "task 24 on engine 2: 0.029"
       ]
      },
      {
       "output_type": "stream",
       "stream": "stdout",
       "text": [
        "task 25 on engine 2: 0.030"
       ]
      },
      {
       "output_type": "stream",
       "stream": "stdout",
       "text": [
        "task 26 on engine 2: 0.031"
       ]
      },
      {
       "output_type": "stream",
       "stream": "stdout",
       "text": [
        "task 27 on engine 2: 0.031"
       ]
      },
      {
       "output_type": "stream",
       "stream": "stdout",
       "text": [
        "task 28 on engine 0: 0.032"
       ]
      },
      {
       "output_type": "stream",
       "stream": "stdout",
       "text": [
        "task 29 on engine 0: 0.033"
       ]
      },
      {
       "output_type": "stream",
       "stream": "stdout",
       "text": [
        "task 30 on engine 0: 0.033"
       ]
      },
      {
       "output_type": "stream",
       "stream": "stdout",
       "text": [
        "task 31 on engine 0: 0.034"
       ]
      },
      {
       "output_type": "stream",
       "stream": "stdout",
       "text": [
        "task 32 on engine 3: 0.035"
       ]
      },
      {
       "output_type": "stream",
       "stream": "stdout",
       "text": [
        "task 33 on engine 3: 0.035"
       ]
      },
      {
       "output_type": "stream",
       "stream": "stdout",
       "text": [
        "task 34 on engine 3: 0.036"
       ]
      },
      {
       "output_type": "stream",
       "stream": "stdout",
       "text": [
        "task 35 on engine 3: 0.037"
       ]
      },
      {
       "output_type": "stream",
       "stream": "stdout",
       "text": [
        "task 36 on engine 1: 0.037"
       ]
      },
      {
       "output_type": "stream",
       "stream": "stdout",
       "text": [
        "task 37 on engine 1: 0.038"
       ]
      },
      {
       "output_type": "stream",
       "stream": "stdout",
       "text": [
        "task 38 on engine 1: 0.039"
       ]
      },
      {
       "output_type": "stream",
       "stream": "stdout",
       "text": [
        "task 39 on engine 1: 0.040"
       ]
      },
      {
       "output_type": "stream",
       "stream": "stdout",
       "text": [
        "task 40 on engine 2: 0.046"
       ]
      },
      {
       "output_type": "stream",
       "stream": "stdout",
       "text": [
        "task 41 on engine 2: 0.047"
       ]
      },
      {
       "output_type": "stream",
       "stream": "stdout",
       "text": [
        "task 42 on engine 2: 0.057"
       ]
      },
      {
       "output_type": "stream",
       "stream": "stdout",
       "text": [
        "task 43 on engine 2: 0.058"
       ]
      },
      {
       "output_type": "stream",
       "stream": "stdout",
       "text": [
        "task 44 on engine 0: 0.059"
       ]
      },
      {
       "output_type": "stream",
       "stream": "stdout",
       "text": [
        "task 45 on engine 0: 0.059"
       ]
      },
      {
       "output_type": "stream",
       "stream": "stdout",
       "text": [
        "task 46 on engine 0: 0.060"
       ]
      },
      {
       "output_type": "stream",
       "stream": "stdout",
       "text": [
        "task 47 on engine 0: 0.061"
       ]
      },
      {
       "output_type": "stream",
       "stream": "stdout",
       "text": [
        "task 48 on engine 3: 0.061"
       ]
      },
      {
       "output_type": "stream",
       "stream": "stdout",
       "text": [
        "task 49 on engine 3: 0.080"
       ]
      },
      {
       "output_type": "stream",
       "stream": "stdout",
       "text": [
        "task 50 on engine 3: 0.081"
       ]
      },
      {
       "output_type": "stream",
       "stream": "stdout",
       "text": [
        "task 51 on engine 3: 0.082"
       ]
      },
      {
       "output_type": "stream",
       "stream": "stdout",
       "text": [
        "task 52 on engine 1: 0.082"
       ]
      },
      {
       "output_type": "stream",
       "stream": "stdout",
       "text": [
        "task 53 on engine 1: 0.083"
       ]
      },
      {
       "output_type": "stream",
       "stream": "stdout",
       "text": [
        "task 54 on engine 1: 0.084"
       ]
      },
      {
       "output_type": "stream",
       "stream": "stdout",
       "text": [
        "task 55 on engine 1: 0.084"
       ]
      },
      {
       "output_type": "stream",
       "stream": "stdout",
       "text": [
        "task 56 on engine 2: 0.085"
       ]
      },
      {
       "output_type": "stream",
       "stream": "stdout",
       "text": [
        "task 57 on engine 2: 0.086"
       ]
      },
      {
       "output_type": "stream",
       "stream": "stdout",
       "text": [
        "task 58 on engine 2: 0.087"
       ]
      },
      {
       "output_type": "stream",
       "stream": "stdout",
       "text": [
        "task 59 on engine 2: 0.088"
       ]
      },
      {
       "output_type": "stream",
       "stream": "stdout",
       "text": [
        "task 60 on engine 0: 0.088"
       ]
      },
      {
       "output_type": "stream",
       "stream": "stdout",
       "text": [
        "task 61 on engine 0: 0.089"
       ]
      },
      {
       "output_type": "stream",
       "stream": "stdout",
       "text": [
        "task 62 on engine 0: 0.090"
       ]
      },
      {
       "output_type": "stream",
       "stream": "stdout",
       "text": [
        "task 63 on engine 0: 0.090"
       ]
      },
      {
       "output_type": "stream",
       "stream": "stdout",
       "text": [
        "task 64 on engine 3: 0.091"
       ]
      },
      {
       "output_type": "stream",
       "stream": "stdout",
       "text": [
        "task 65 on engine 3: 0.092"
       ]
      },
      {
       "output_type": "stream",
       "stream": "stdout",
       "text": [
        "task 66 on engine 3: 0.092"
       ]
      },
      {
       "output_type": "stream",
       "stream": "stdout",
       "text": [
        "task 67 on engine 3: 0.093"
       ]
      },
      {
       "output_type": "stream",
       "stream": "stdout",
       "text": [
        "task 68 on engine 1: 0.094"
       ]
      },
      {
       "output_type": "stream",
       "stream": "stdout",
       "text": [
        "task 69 on engine 1: 0.094"
       ]
      },
      {
       "output_type": "stream",
       "stream": "stdout",
       "text": [
        "task 70 on engine 1: 0.095"
       ]
      },
      {
       "output_type": "stream",
       "stream": "stdout",
       "text": [
        "task 71 on engine 1: 0.096"
       ]
      },
      {
       "output_type": "stream",
       "stream": "stdout",
       "text": [
        "task 72 on engine 2: 0.096"
       ]
      },
      {
       "output_type": "stream",
       "stream": "stdout",
       "text": [
        "task 73 on engine 2: 0.097"
       ]
      },
      {
       "output_type": "stream",
       "stream": "stdout",
       "text": [
        "task 74 on engine 2: 0.098"
       ]
      },
      {
       "output_type": "stream",
       "stream": "stdout",
       "text": [
        "task 75 on engine 2: 0.098"
       ]
      },
      {
       "output_type": "stream",
       "stream": "stdout",
       "text": [
        "task 76 on engine 0: 0.099"
       ]
      },
      {
       "output_type": "stream",
       "stream": "stdout",
       "text": [
        "task 77 on engine 0: 0.100"
       ]
      },
      {
       "output_type": "stream",
       "stream": "stdout",
       "text": [
        "task 78 on engine 0: 0.101"
       ]
      },
      {
       "output_type": "stream",
       "stream": "stdout",
       "text": [
        "task 79 on engine 0: 0.104"
       ]
      },
      {
       "output_type": "stream",
       "stream": "stdout",
       "text": [
        "task 80 on engine 3: 0.105"
       ]
      },
      {
       "output_type": "stream",
       "stream": "stdout",
       "text": [
        "task 81 on engine 3: 0.106"
       ]
      },
      {
       "output_type": "stream",
       "stream": "stdout",
       "text": [
        "task 82 on engine 3: 0.106"
       ]
      },
      {
       "output_type": "stream",
       "stream": "stdout",
       "text": [
        "task 83 on engine 3: 0.107"
       ]
      },
      {
       "output_type": "stream",
       "stream": "stdout",
       "text": [
        "task 84 on engine 1: 0.107"
       ]
      },
      {
       "output_type": "stream",
       "stream": "stdout",
       "text": [
        "task 85 on engine 1: 0.108"
       ]
      },
      {
       "output_type": "stream",
       "stream": "stdout",
       "text": [
        "task 86 on engine 1: 0.109"
       ]
      },
      {
       "output_type": "stream",
       "stream": "stdout",
       "text": [
        "task 87 on engine 1: 0.110"
       ]
      },
      {
       "output_type": "stream",
       "stream": "stdout",
       "text": [
        "task 88 on engine 2: 0.111"
       ]
      },
      {
       "output_type": "stream",
       "stream": "stdout",
       "text": [
        "task 89 on engine 2: 0.112"
       ]
      },
      {
       "output_type": "stream",
       "stream": "stdout",
       "text": [
        "task 90 on engine 2: 0.113"
       ]
      },
      {
       "output_type": "stream",
       "stream": "stdout",
       "text": [
        "task 91 on engine 2: 0.124"
       ]
      },
      {
       "output_type": "stream",
       "stream": "stdout",
       "text": [
        "task 92 on engine 0: 0.127"
       ]
      },
      {
       "output_type": "stream",
       "stream": "stdout",
       "text": [
        "task 93 on engine 0: 0.128"
       ]
      },
      {
       "output_type": "stream",
       "stream": "stdout",
       "text": [
        "task 94 on engine 0: 0.128"
       ]
      },
      {
       "output_type": "stream",
       "stream": "stdout",
       "text": [
        "task 95 on engine 0: 0.129"
       ]
      },
      {
       "output_type": "stream",
       "stream": "stdout",
       "text": [
        "task 96 on engine 3: 0.130"
       ]
      },
      {
       "output_type": "stream",
       "stream": "stdout",
       "text": [
        "task 97 on engine 3: 0.130"
       ]
      },
      {
       "output_type": "stream",
       "stream": "stdout",
       "text": [
        "task 98 on engine 3: 0.131"
       ]
      },
      {
       "output_type": "stream",
       "stream": "stdout",
       "text": [
        "task 99 on engine 3: 0.131"
       ]
      }
     ],
     "prompt_number": 14
    },
    {
     "cell_type": "markdown",
     "source": [
      "# Example",
      "",
      "## Parallelize nested loops",
      "",
      "Often we want to run a function with a variety of combinations of arguments.",
      "A useful skill is the ability to express a nested loop in terms of a map."
     ]
    },
    {
     "cell_type": "code",
     "collapsed": false,
     "input": [
      "def area(w,h):",
      "    return w*h",
      "",
      "",
      "widths = range(1,4)",
      "heights = range(6,10)",
      "",
      "areas = []",
      "for w in widths:",
      "    for h in heights:",
      "        areas.append(area(w,h))",
      "areas"
     ],
     "language": "python",
     "outputs": [
      {
       "output_type": "pyout",
       "prompt_number": 36,
       "text": [
        "[6, 7, 8, 9, 12, 14, 16, 18, 18, 21, 24, 27]"
       ]
      }
     ],
     "prompt_number": 36
    },
    {
     "cell_type": "markdown",
     "source": [
      "<button onclick=\"$('#hint').toggle();\">hint</button>",
      "<div id=\"hint\">",
      "`itertools.product` and `zip` will be helpful.",
      "</div>",
      "<script type=\"text/javascript\">",
      "    $('#hint').hide();",
      "</script>"
     ]
    },
    {
     "cell_type": "code",
     "collapsed": true,
     "input": [
      "%loadpy soln/nestedloop.py"
     ],
     "language": "python",
     "outputs": [],
     "prompt_number": 45
    },
    {
     "cell_type": "markdown",
     "source": [
      "Validate the result:"
     ]
    },
    {
     "cell_type": "code",
     "collapsed": false,
     "input": [
      "areas == ar.get()"
     ],
     "language": "python",
     "outputs": [
      {
       "output_type": "pyout",
       "prompt_number": 48,
       "text": [
        "True"
       ]
      }
     ],
     "prompt_number": 48
    }
   ]
  }
 ]
}