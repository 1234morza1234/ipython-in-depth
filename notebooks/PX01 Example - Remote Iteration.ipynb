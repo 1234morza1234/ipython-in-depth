{
 "metadata": {
  "name": "PX01 Example - Remote Iteration"
 },
 "nbformat": 3,
 "nbformat_minor": 0,
 "worksheets": [
  {
   "cells": [
    {
     "cell_type": "heading",
     "level": 1,
     "metadata": {},
     "source": [
      "N-Way merge with remote data"
     ]
    },
    {
     "cell_type": "markdown",
     "metadata": {},
     "source": [
      "How to merge multiple *sorted* remote data streams using the `heapq.merge` function that ships with Python."
     ]
    },
    {
     "cell_type": "code",
     "collapsed": false,
     "input": [
      "from __future__ import print_function\n",
      "import heapq"
     ],
     "language": "python",
     "metadata": {},
     "outputs": [],
     "prompt_number": 1
    },
    {
     "cell_type": "markdown",
     "metadata": {},
     "source": [
      "Imagine we have some routine that is capable of loading/creating a sorted subset of our data in an engine, based on a parameter (such as the indes of which part of the data to read):"
     ]
    },
    {
     "cell_type": "code",
     "collapsed": false,
     "input": [
      "def load_data(arg):\n",
      "    \"\"\"Load a dataset in the global namespace. The dataset *must* be sorted.\n",
      "\n",
      "    Return the *name* of the variable in which the dataset was loaded.\"\"\"\n",
      "    global data\n",
      "    # Here, real data loading would occur\n",
      "    s =  4-arg\n",
      "    step = arg+1\n",
      "    data = range(s, s+4*step**2, step)\n",
      "    return 'data'"
     ],
     "language": "python",
     "metadata": {},
     "outputs": [],
     "prompt_number": 2
    },
    {
     "cell_type": "markdown",
     "metadata": {},
     "source": [
      "This function lets us 'walk locally' over remote resources:"
     ]
    },
    {
     "cell_type": "code",
     "collapsed": false,
     "input": [
      "def remote_iterator(view, name):\n",
      "    \"\"\"Return an iterator on an object living on a remote engine.\n",
      "    \"\"\"\n",
      "    from IPython.parallel import Reference\n",
      "    from IPython.parallel.error import RemoteError\n",
      "    \n",
      "    remote_name = '%s_iter' % name\n",
      "    view.execute('%s = iter(%s)' % (remote_name,name), block=True)\n",
      "    while True:\n",
      "        try:\n",
      "            result = view.apply_sync(lambda x: x.next(), Reference(remote_name))\n",
      "        # This causes the StopIteration exception to be raised.\n",
      "        except RemoteError as e:\n",
      "            if e.ename == 'StopIteration':\n",
      "                raise StopIteration\n",
      "            else:\n",
      "                raise e\n",
      "        else:\n",
      "            yield result"
     ],
     "language": "python",
     "metadata": {},
     "outputs": [],
     "prompt_number": 3
    },
    {
     "cell_type": "markdown",
     "metadata": {},
     "source": [
      "Now, we bring `IPython.parallel` into action:"
     ]
    },
    {
     "cell_type": "code",
     "collapsed": false,
     "input": [
      "from IPython.parallel import Client\n",
      "rc = Client()\n",
      "dview = rc.direct_view()\n",
      "print('Engine IDs:', rc.ids)"
     ],
     "language": "python",
     "metadata": {},
     "outputs": [
      {
       "output_type": "stream",
       "stream": "stdout",
       "text": [
        "Engine IDs: [0, 1, 2, 3]\n"
       ]
      }
     ],
     "prompt_number": 4
    },
    {
     "cell_type": "code",
     "collapsed": false,
     "input": [
      "# Load the data on the engines\n",
      "data_refs = dview.map(load_data, rc.ids)"
     ],
     "language": "python",
     "metadata": {},
     "outputs": [],
     "prompt_number": 5
    },
    {
     "cell_type": "code",
     "collapsed": false,
     "input": [
      "# And we now make a local object which represents the remote iterator\n",
      "map(list, [remote_iterator(rc[e], data_refs.r[e]) for e in rc.ids])"
     ],
     "language": "python",
     "metadata": {},
     "outputs": [
      {
       "output_type": "pyout",
       "prompt_number": 6,
       "text": [
        "[[4, 5, 6, 7],\n",
        " [3, 5, 7, 9, 11, 13, 15, 17],\n",
        " [2, 5, 8, 11, 14, 17, 20, 23, 26, 29, 32, 35],\n",
        " [1, 5, 9, 13, 17, 21, 25, 29, 33, 37, 41, 45, 49, 53, 57, 61]]"
       ]
      }
     ],
     "prompt_number": 6
    },
    {
     "cell_type": "markdown",
     "metadata": {},
     "source": [
      "Now, let's merge those datasets into a single sorted one:"
     ]
    },
    {
     "cell_type": "code",
     "collapsed": false,
     "input": [
      "print('Locally merge the remote sets:')\n",
      "print(list(heapq.merge(*[remote_iterator(rc[e], data_refs.r[e]) for e in rc.ids])))"
     ],
     "language": "python",
     "metadata": {},
     "outputs": [
      {
       "output_type": "stream",
       "stream": "stdout",
       "text": [
        "Locally merge the remote sets:\n",
        "[1, 2, 3, 4, 5, 5, 5, 5, 6, 7, 7, 8, 9, 9, 11, 11, 13, 13, 14, 15, 17, 17, 17, 20, 21, 23, 25, 26, 29, 29, 32, 33, 35, 37, 41, 45, 49, 53, 57, 61]"
       ]
      },
      {
       "output_type": "stream",
       "stream": "stdout",
       "text": [
        "\n"
       ]
      }
     ],
     "prompt_number": 7
    },
    {
     "cell_type": "markdown",
     "metadata": {},
     "source": [
      "Validation: repeat the operation by copying the data from the engines to our local namespace and doing a regular merge here:"
     ]
    },
    {
     "cell_type": "code",
     "collapsed": false,
     "input": [
      "# Key step here: pull data from each engine:\n",
      "local_data = [engine[ref] for (engine, ref) in zip(rc, data_refs)]\n",
      "print('Local data:')\n",
      "print(local_data)\n",
      "print('Sorted:')\n",
      "print(list(heapq.merge(*local_data)))"
     ],
     "language": "python",
     "metadata": {},
     "outputs": [
      {
       "output_type": "stream",
       "stream": "stdout",
       "text": [
        "Local data:\n",
        "[[4, 5, 6, 7], [3, 5, 7, 9, 11, 13, 15, 17], [2, 5, 8, 11, 14, 17, 20, 23, 26, 29, 32, 35], [1, 5, 9, 13, 17, 21, 25, 29, 33, 37, 41, 45, 49, 53, 57, 61]]\n",
        "Sorted:\n",
        "[1, 2, 3, 4, 5, 5, 5, 5, 6, 7, 7, 8, 9, 9, 11, 11, 13, 13, 14, 15, 17, 17, 17, 20, 21, 23, 25, 26, 29, 29, 32, 33, 35, 37, 41, 45, 49, 53, 57, 61]\n"
       ]
      }
     ],
     "prompt_number": 8
    },
    {
     "cell_type": "code",
     "collapsed": true,
     "input": [],
     "language": "python",
     "metadata": {},
     "outputs": []
    }
   ],
   "metadata": {}
  }
 ]
}