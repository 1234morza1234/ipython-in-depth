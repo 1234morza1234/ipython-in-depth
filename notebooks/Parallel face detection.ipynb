{
 "metadata": {
  "name": "Parallel face detection"
 },
 "nbformat": 3,
 "nbformat_minor": 0,
 "worksheets": [
  {
   "cells": [
    {
     "cell_type": "code",
     "collapsed": false,
     "input": [
      "%pylab inline"
     ],
     "language": "python",
     "metadata": {},
     "outputs": []
    },
    {
     "cell_type": "code",
     "collapsed": false,
     "input": [
      "import time\n",
      "import numpy as np\n",
      "\n",
      "from IPython import parallel"
     ],
     "language": "python",
     "metadata": {},
     "outputs": []
    },
    {
     "cell_type": "markdown",
     "metadata": {},
     "source": [
      "First, initialize OpenCV for simple facial detection"
     ]
    },
    {
     "cell_type": "code",
     "collapsed": false,
     "input": [
      "HAAR_CASCADE_PATH = \"/usr/local/share/OpenCV/haarcascades/haarcascade_frontalface_default.xml\"\n",
      "\n",
      "import cv\n",
      "storage = cv.CreateMemStorage()\n",
      "cascade = cv.Load(HAAR_CASCADE_PATH)\n"
     ],
     "language": "python",
     "metadata": {},
     "outputs": []
    },
    {
     "cell_type": "markdown",
     "metadata": {},
     "source": [
      "Then define a few functions for extracting faces from images"
     ]
    },
    {
     "cell_type": "code",
     "collapsed": false,
     "input": [
      "def extract_faces(image, faces):\n",
      "    \"\"\"Returns any faces in an image in a numpy array\"\"\"\n",
      "    import numpy as np\n",
      "    A = np.frombuffer(image.tostring(), dtype=np.uint8).reshape((image.height, image.width, image.nChannels))\n",
      "    A = A[:,:,::-1]\n",
      "    face_arrays = []\n",
      "    for face in faces:\n",
      "        Aface = A[face[1]:face[1]+face[3],face[0]:face[0]+face[2]]\n",
      "        face_arrays.append(Aface)\n",
      "    return face_arrays\n",
      "\n",
      "\n",
      "def detect_faces(filename):\n",
      "    \"\"\"Loads an image into OpenCV, and detects faces\"\"\"\n",
      "    \n",
      "    image = cv.LoadImage(filename)\n",
      "    faces = []\n",
      "    detected = cv.HaarDetectObjects(image, cascade, storage, 1.2, 2, cv.CV_HAAR_DO_CANNY_PRUNING, (100,100))\n",
      "    if detected:\n",
      "        for (x,y,w,h),n in detected:\n",
      "            faces.append((x,y,w,h))\n",
      "    if faces:\n",
      "        return filename, extract_faces(image, faces)\n"
     ],
     "language": "python",
     "metadata": {},
     "outputs": []
    },
    {
     "cell_type": "markdown",
     "metadata": {},
     "source": [
      "These pictures are just everything from my iPhoto thumbnails directory,\n",
      "so vary from ~320x240 - 1024x768"
     ]
    },
    {
     "cell_type": "code",
     "collapsed": false,
     "input": [
      "import glob\n",
      "pictures = glob.glob(\"/Users/minrk/Desktop/thumbs/*.jpg\")\n",
      "pictures = [ p for p in pictures if 'face' not in p ]\n",
      "len(pictures)"
     ],
     "language": "python",
     "metadata": {},
     "outputs": []
    },
    {
     "cell_type": "markdown",
     "metadata": {},
     "source": [
      "Let's test the output of detect_faces"
     ]
    },
    {
     "cell_type": "code",
     "collapsed": false,
     "input": [
      "for p in pictures:\n",
      "    found = detect_faces(p)\n",
      "    if found:\n",
      "        break\n",
      "\n",
      "filename, faces = found\n",
      "for face in faces:\n",
      "    plt.figure()\n",
      "    plt.imshow(face)"
     ],
     "language": "python",
     "metadata": {},
     "outputs": []
    },
    {
     "cell_type": "markdown",
     "metadata": {},
     "source": [
      "Hey, that looks like a face!"
     ]
    },
    {
     "cell_type": "heading",
     "level": 1,
     "metadata": {},
     "source": [
      "Now in parallel"
     ]
    },
    {
     "cell_type": "markdown",
     "metadata": {},
     "source": [
      "First, we connect our parallel Client"
     ]
    },
    {
     "cell_type": "code",
     "collapsed": false,
     "input": [
      "rc = parallel.Client()\n",
      "dv = rc[:]\n",
      "view = rc.load_balanced_view()"
     ],
     "language": "python",
     "metadata": {},
     "outputs": []
    },
    {
     "cell_type": "markdown",
     "metadata": {},
     "source": [
      "Then we initialize OpenCV on all of the engines (identical to what we did above)"
     ]
    },
    {
     "cell_type": "code",
     "collapsed": false,
     "input": [
      "%%px\n",
      "HAAR_CASCADE_PATH = \"/usr/local/share/OpenCV/haarcascades/haarcascade_frontalface_default.xml\"\n",
      "\n",
      "import cv\n",
      "storage = cv.CreateMemStorage()\n",
      "cascade = cv.Load(HAAR_CASCADE_PATH)\n"
     ],
     "language": "python",
     "metadata": {},
     "outputs": []
    },
    {
     "cell_type": "markdown",
     "metadata": {},
     "source": [
      "and make sure `extract_faces` is defined everywhere"
     ]
    },
    {
     "cell_type": "code",
     "collapsed": false,
     "input": [
      "dv['extract_faces'] = extract_faces"
     ],
     "language": "python",
     "metadata": {},
     "outputs": []
    },
    {
     "cell_type": "markdown",
     "metadata": {},
     "source": [
      "Now we can iterate through all of our pictures, and detect and display any faces we find"
     ]
    },
    {
     "cell_type": "code",
     "collapsed": false,
     "input": [
      "tic = time.time()\n",
      "amr = view.map_async(detect_faces, pictures[:2000], ordered=False)\n",
      "nfound = 0\n",
      "for r in amr:\n",
      "    if not r:\n",
      "        continue\n",
      "    filename, faces = r\n",
      "    nfound += len(faces)\n",
      "    print \"%i faces found in %s\" % (len(faces), filename)\n",
      "    for face in faces:\n",
      "        plt.imshow(face)\n",
      "        plt.show()\n",
      "\n",
      "toc = time.time()\n",
      "\n",
      "print \"found %i faces in %i images in %f s\" % (nfound, len(amr), toc-tic)\n"
     ],
     "language": "python",
     "metadata": {},
     "outputs": []
    }
   ],
   "metadata": {}
  }
 ]
}