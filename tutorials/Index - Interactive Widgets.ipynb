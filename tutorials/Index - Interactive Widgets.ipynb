{
 "metadata": {
  "name": "",
  "signature": "sha256:d500c1692e7d8a74780fb46ca80fe919baeef617a2aa590bc337481710601cac"
 },
 "nbformat": 3,
 "nbformat_minor": 0,
 "worksheets": [
  {
   "cells": [
    {
     "cell_type": "heading",
     "level": 1,
     "metadata": {},
     "source": [
      "IPython Display System and Interactive Widgets"
     ]
    },
    {
     "cell_type": "heading",
     "level": 2,
     "metadata": {},
     "source": [
      "SciPy 2014 tutorial"
     ]
    },
    {
     "cell_type": "markdown",
     "metadata": {},
     "source": [
      "* Brian Granger (@ellisonbg)\n",
      "* Jonathan Frederic (@jdfreder on GH, @goosejon on Twitter)"
     ]
    },
    {
     "cell_type": "heading",
     "level": 2,
     "metadata": {},
     "source": [
      "Installation"
     ]
    },
    {
     "cell_type": "markdown",
     "metadata": {},
     "source": [
      "* http://github.com/ipython/ipython-in-depth\n",
      "* A quick [installation check](http://ipython.org/install.html)"
     ]
    },
    {
     "cell_type": "heading",
     "level": 2,
     "metadata": {},
     "source": [
      "Introduction"
     ]
    },
    {
     "cell_type": "markdown",
     "metadata": {},
     "source": [
      "* [What is the IPython Notebook?](../examples/Notebook/What%20is%20the%20IPython%20Notebook%3F.ipynb)\n",
      "* [Notebook Basics](../examples/Notebook/Notebook Basics.ipynb)\n",
      "* [Notebook Exercises](Notebook/Notebook Exercises.ipynb)"
     ]
    },
    {
     "cell_type": "heading",
     "level": 2,
     "metadata": {},
     "source": [
      "Display of rich output formats"
     ]
    },
    {
     "cell_type": "markdown",
     "metadata": {},
     "source": [
      "* [Rich Output](../examples/IPython Kernel/Rich Output.ipynb)\n",
      "* [Rich Output Exercises](IPython Kernel/Rich Output Exercises.ipynb)\n",
      "* [Custom Display Logic](../examples/IPython Kernel/Custom Display Logic.ipynb)\n",
      "* [Custom Display Logic Exercises](IPython Kernel/Custom Display Logic Exercises.ipynb)"
     ]
    },
    {
     "cell_type": "heading",
     "level": 2,
     "metadata": {},
     "source": [
      "Interactive Widgets"
     ]
    },
    {
     "cell_type": "markdown",
     "metadata": {},
     "source": [
      "* [Using Interact](../examples/Interactive Widgets/Using Interact.ipynb)\n",
      "* [Interact Exercises](Interactive Widgets/Interact Exercises.ipynb)\n",
      "* [Introduction to Widgets](../examples/Interactive Widgets/Widget Basics.ipynb)\n",
      "* [Quick list of Widgets](../examples/Interactive Widgets/Widget List.ipynb)\n",
      "* [Widget Events](../examples/Interactive Widgets/Widget Events.ipynb)\n",
      "* [Widget Styling](../examples/Interactive Widgets/Widget Styling.ipynb)\n",
      "* [Custom Widget: Hello World](../examples/Interactive Widgets/Custom Widget - Hello World.ipynb)\n",
      "* [Widget Exercises](Interactive Widgets/Widget Exercises.ipynb)"
     ]
    }
   ],
   "metadata": {}
  }
 ]
}